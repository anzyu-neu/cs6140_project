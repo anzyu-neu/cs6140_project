{
 "cells": [
  {
   "cell_type": "code",
   "execution_count": 16,
   "id": "f4a427b1-a534-4cf0-a850-bc23d3107be4",
   "metadata": {},
   "outputs": [],
   "source": [
    "import numpy as np\n",
    "import pandas as pd\n",
    "import matplotlib.pyplot as plt\n",
    "from datetime import datetime\n",
    "\n",
    "from sklearn.model_selection import train_test_split\n",
    "from sklearn.preprocessing import StandardScaler\n",
    "from sklearn.linear_model import Lasso\n",
    "from sklearn.model_selection import GridSearchCV\n",
    "from sklearn.metrics import mean_squared_error, mean_absolute_error, r2_score"
   ]
  },
  {
   "cell_type": "code",
   "execution_count": 17,
   "id": "75bccd5b-d76e-4737-b0d7-7e82e875d1d0",
   "metadata": {},
   "outputs": [],
   "source": [
    "# Load 2024-25 odds\n",
    "season_odds_24 = pd.read_csv(\"data_generation/2024-25_odds_cleaned.csv\")"
   ]
  },
  {
   "cell_type": "code",
   "execution_count": 18,
   "id": "601c3b09-ea2f-4ed8-82e0-68a938175e5d",
   "metadata": {},
   "outputs": [],
   "source": [
    "# Load stats\n",
    "#season_20 = pd.read_csv('data_generation/output_data/2020-21_data.csv')\n",
    "#season_21 = pd.read_csv('data_generation/output_data/2021-22_data.csv')\n",
    "season_22 = pd.read_csv('data_generation/output_data/2022-23_data.csv')\n",
    "season_23 = pd.read_csv('data_generation/output_data/2023-24_data.csv')\n",
    "season_24 = pd.read_csv('data_generation/output_data/2024-25_data.csv')"
   ]
  },
  {
   "cell_type": "code",
   "execution_count": 19,
   "id": "4ed6bcf1-13f4-44d9-ac10-74d21d4c954e",
   "metadata": {},
   "outputs": [],
   "source": [
    "# Combind and clean\n",
    "combined_seasons = pd.concat([season_22, season_23], ignore_index=True)\n",
    "combined_seasons = combined_seasons.drop_duplicates()\n",
    "combined_seasons = combined_seasons.reset_index(drop=True)"
   ]
  },
  {
   "cell_type": "markdown",
   "id": "b4c7edaa-7712-48ec-bb9c-5d6e03bee990",
   "metadata": {},
   "source": [
    "### Data pre-processing"
   ]
  },
  {
   "cell_type": "code",
   "execution_count": 20,
   "id": "7c8f4a58-ddb5-4f5d-b9ed-9fa73ab1577f",
   "metadata": {},
   "outputs": [
    {
     "name": "stdout",
     "output_type": "stream",
     "text": [
      "126\n"
     ]
    }
   ],
   "source": [
    "# Input and target\n",
    "input = combined_seasons.drop(columns=['PTS'])\n",
    "target = combined_seasons['PTS']\n",
    "\n",
    "# Selected features for model training\n",
    "spearman_corr = pd.read_csv('data_generation/output_data/spearman_corr_features.csv')\n",
    "selected_features = spearman_corr['Feature'].tolist()\n",
    "print(len(selected_features))\n",
    "\n",
    "existing_features = [feature for feature in selected_features if feature in input.columns] # check no mismatching features\n",
    "\n",
    "input = combined_seasons[existing_features]\n",
    "input = input.dropna(axis=1)\n",
    "\n",
    "# Split into train and test set\n",
    "input_train, input_test, target_train, target_test = train_test_split(input, target, test_size=0.2, random_state=0)\n",
    "features = input_train.columns\n",
    "\n",
    "# Scaling\n",
    "scaler = StandardScaler()\n",
    "input_train = scaler.fit_transform(input_train)\n",
    "input_test = scaler.transform(input_test)"
   ]
  },
  {
   "cell_type": "markdown",
   "id": "6830b60d-4dfc-4232-9fd2-080eea3fb40c",
   "metadata": {},
   "source": [
    "### GridSearch"
   ]
  },
  {
   "cell_type": "code",
   "execution_count": 21,
   "id": "2f08e384-804c-47dc-865e-0481a0e3d694",
   "metadata": {},
   "outputs": [
    {
     "name": "stdout",
     "output_type": "stream",
     "text": [
      "Best Lambda: 0.01\n",
      "Best Cross-Validation R2 Score: 0.4626995453119461\n"
     ]
    }
   ],
   "source": [
    "# Define model\n",
    "lasso = Lasso(max_iter=5000)\n",
    "\n",
    "# Search space of lambda\n",
    "param_grid = {'alpha': [0.01, 0.1, 1, 10, 100]}\n",
    "\n",
    "# GridSearch\n",
    "lasso_cv = GridSearchCV(estimator=lasso, param_grid=param_grid, cv=5, scoring='r2')\n",
    "lasso_cv.fit(input_train, target_train)\n",
    "\n",
    "# Output best lambda and score\n",
    "print(\"Best Lambda:\", lasso_cv.best_params_['alpha'])\n",
    "print(\"Best Cross-Validation R2 Score:\", lasso_cv.best_score_)"
   ]
  },
  {
   "cell_type": "markdown",
   "id": "4301a954-5747-4258-84e7-b6b801a7caad",
   "metadata": {},
   "source": [
    "### Model evaluation"
   ]
  },
  {
   "cell_type": "code",
   "execution_count": 22,
   "id": "6b6b6de3-9936-4ae6-a482-d36766d40cf1",
   "metadata": {},
   "outputs": [
    {
     "name": "stdout",
     "output_type": "stream",
     "text": [
      "Test Loss (MSE): 78.5177113781406\n",
      "Test MAE: 7.080697429972894\n",
      "\n",
      "Sample Predictions (PTS): [104.61951219 117.33758016 115.14093072 116.20981566 116.46029527\n",
      " 106.8313465  123.24412575 123.06540346 120.19131357 112.86820089]\n",
      "Actual Values (PTS): [119 106 130 106 108 106 118 115 109 101]\n",
      "\n",
      "--- Regression Metrics ---\n",
      "Test Loss (MSE from model): 78.52\n",
      "Test MAE (from model): 7.08\n",
      "Mean Squared Error (MSE): 78.52\n",
      "Root Mean Squared Error (RMSE): 8.86\n",
      "R-Squared (R²): 0.47\n"
     ]
    }
   ],
   "source": [
    "lasso = Lasso(alpha=0.01, max_iter=10000)\n",
    "lasso.fit(input_train, target_train)\n",
    "\n",
    "test_loss = mean_squared_error(target_test, lasso.predict(input_test))\n",
    "test_mae = mean_absolute_error(target_test, lasso.predict(input_test))\n",
    "print(f\"Test Loss (MSE): {test_loss}\")\n",
    "print(f\"Test MAE: {test_mae}\")\n",
    "\n",
    "# Target prediction\n",
    "sample_predictions = lasso.predict(input_test)\n",
    "print(\"\\nSample Predictions (PTS):\", sample_predictions[:10])\n",
    "print(\"Actual Values (PTS):\", target_test[:10].values)\n",
    "\n",
    "mse = mean_squared_error(target_test, sample_predictions)\n",
    "rmse = np.sqrt(mse)\n",
    "r2 = r2_score(target_test, sample_predictions)\n",
    "\n",
    "print(\"\\n--- Regression Metrics ---\")\n",
    "print(f\"Test Loss (MSE from model): {test_loss:.2f}\")\n",
    "print(f\"Test MAE (from model): {test_mae:.2f}\")\n",
    "print(f\"Mean Squared Error (MSE): {mse:.2f}\")\n",
    "print(f\"Root Mean Squared Error (RMSE): {rmse:.2f}\")\n",
    "print(f\"R-Squared (R²): {r2:.2f}\")"
   ]
  },
  {
   "cell_type": "code",
   "execution_count": 23,
   "id": "f1f38ca7-08ab-43a3-8841-ca263f890066",
   "metadata": {},
   "outputs": [],
   "source": [
    "def get_feature_importance(features, importances):\n",
    "    importance_df = pd.DataFrame({\n",
    "        'Feature': features,\n",
    "        'Importance': importances\n",
    "    })\n",
    "    return importance_df.sort_values(by='Importance', ascending=False)\n",
    "    \n",
    "lasso_coefficients = lasso.coef_\n",
    "importance_df = get_feature_importance(features, lasso_coefficients)\n",
    "\n",
    "importance_df.to_csv('lasso_feature_importance.csv', index=False)"
   ]
  },
  {
   "cell_type": "code",
   "execution_count": 24,
   "id": "101ce9a3-4bd3-48f1-8f60-eabd89fd6261",
   "metadata": {},
   "outputs": [],
   "source": [
    "TEAM_CITY_ABBREVIATIONS = {\n",
    "    1610612737: \"ATL\",\n",
    "    1610612738: \"BOS\",\n",
    "    1610612739: \"CLE\",\n",
    "    1610612740: \"NOP\",\n",
    "    1610612741: \"CHI\",\n",
    "    1610612742: \"DAL\",\n",
    "    1610612743: \"DEN\",\n",
    "    1610612744: \"GS\",\n",
    "    1610612745: \"HOU\",\n",
    "    1610612746: \"LAL\",\n",
    "    1610612747: \"LAC\",\n",
    "    1610612748: \"MIA\",\n",
    "    1610612749: \"MIL\",\n",
    "    1610612750: \"MIN\",\n",
    "    1610612751: \"BKN\",\n",
    "    1610612752: \"NY\",\n",
    "    1610612753: \"ORL\",\n",
    "    1610612754: \"IND\",\n",
    "    1610612755: \"PHI\",\n",
    "    1610612756: \"PHX\",\n",
    "    1610612757: \"POR\",\n",
    "    1610612758: \"SAC\",\n",
    "    1610612759: \"SAS\",\n",
    "    1610612760: \"OKC\",\n",
    "    1610612761: \"TOR\",\n",
    "    1610612762: \"UTA\",\n",
    "    1610612763: \"MEM\",\n",
    "    1610612764: \"WAS\",\n",
    "    1610612765: \"DET\",\n",
    "    1610612766: \"CHA\",\n",
    "}"
   ]
  },
  {
   "cell_type": "code",
   "execution_count": 25,
   "id": "b7d3a763-6216-46fb-a31f-2cf9b49b7486",
   "metadata": {},
   "outputs": [],
   "source": [
    "# Sort both Dfs by date \n",
    "# Ensure we process games only up to 12/1/2024\n",
    "season_24['GAME_DATE_EST'] = pd.to_datetime(season_24['GAME_DATE_EST'])\n",
    "end_date = datetime(2024, 12, 1)\n",
    "season_24 = season_24[season_24['GAME_DATE_EST'] <= end_date]\n",
    "season_24['TEAM_ABBREVIATION'] = season_24['TEAM_ID'].map(TEAM_CITY_ABBREVIATIONS)\n",
    "\n",
    "# Convert the 'Date' in odds data to datetime format\n",
    "season_odds_24['Date'] = pd.to_datetime(season_odds_24['Date'], format='%d-%b-%y')\n",
    "\n",
    "season_odds_24 = season_odds_24.sort_values(by='Date')\n",
    "\n",
    "# Convert the 'GAME_DATE_EST' in season stats to datetime format\n",
    "season_24['GAME_DATE_EST'] = pd.to_datetime(season_24['GAME_DATE_EST'])\n",
    "season_24 = season_24.sort_values(by='GAME_DATE_EST')\n",
    "\n",
    "features = pd.read_csv('data_generation/output_data/spearman_corr_features.csv')\n",
    "\n",
    "features_columns = features['Feature'].tolist()\n",
    "\n",
    "existing_features = [feature for feature in features_columns if feature in season_24.columns]"
   ]
  },
  {
   "cell_type": "code",
   "execution_count": 26,
   "id": "18d41583-5d3d-49c5-9058-7dac5a1a85e2",
   "metadata": {},
   "outputs": [
    {
     "name": "stdout",
     "output_type": "stream",
     "text": [
      "Finished processing games\n"
     ]
    }
   ],
   "source": [
    "merged_data = []\n",
    "\n",
    "# Iterate through each unique game date\n",
    "for game_date in season_odds_24['Date'].unique():\n",
    "    day_odds = season_odds_24[season_odds_24['Date'] == game_date]\n",
    "\n",
    "    # Filter games that exist in the 2024 Seasons Data\n",
    "    day_games = season_24[season_24['GAME_DATE_EST'] == game_date]\n",
    "\n",
    "    for _, game in day_odds.iterrows():\n",
    "        # Get HOME and AWAY stats\n",
    "        home_stats = day_games[day_games['TEAM_ABBREVIATION'] == game['Home']]\n",
    "        away_stats = day_games[day_games['TEAM_ABBREVIATION'] == game['Away']]\n",
    "\n",
    "        # Check to see if both teams are found\n",
    "        if not home_stats.empty and not away_stats.empty:\n",
    "            # Filter stats to include only relevant features\n",
    "            home_filtered_stats = home_stats.iloc[0][existing_features].to_dict()\n",
    "            away_filtered_stats = away_stats.iloc[0][existing_features].to_dict()\n",
    "\n",
    "            # Predict points for each team\n",
    "            home_features_df = pd.DataFrame([home_filtered_stats])[existing_features]\n",
    "            away_features_df = pd.DataFrame([away_filtered_stats])[existing_features]\n",
    "\n",
    "            home_features_scaled = scaler.transform(home_features_df)\n",
    "            away_features_scaled = scaler.transform(away_features_df)\n",
    "\n",
    "            home_predicted_points = lasso.predict(home_features_scaled)\n",
    "            away_predicted_points = lasso.predict(away_features_scaled)\n",
    "\n",
    "            predicted_spread = home_predicted_points - away_predicted_points\n",
    "\n",
    "            # Append game entry to merged_data\n",
    "            merged_data.append({\n",
    "                'Game_Date': game_date,\n",
    "                'Home': game['Home'],\n",
    "                'Away': game['Away'],\n",
    "                'Home_Stats': home_filtered_stats,\n",
    "                'Away_Stats': away_filtered_stats,\n",
    "                'Home_Predicted_Points': home_predicted_points,\n",
    "                'Away_Predicted_Points': away_predicted_points,\n",
    "                'Predicted_Spread': predicted_spread,\n",
    "                'Odds': game.to_dict()\n",
    "            })\n",
    "\n",
    "print(f\"Finished processing games\")"
   ]
  },
  {
   "cell_type": "code",
   "execution_count": 27,
   "id": "783248c3-8ff4-4095-960a-21862eb2867f",
   "metadata": {
    "scrolled": true
   },
   "outputs": [
    {
     "name": "stdout",
     "output_type": "stream",
     "text": [
      "Processing games for 2024-10-22 00:00:00\n",
      "Finished processing 2024-10-22 00:00:00\n",
      "Processing games for 2024-10-23 00:00:00\n",
      "Finished processing 2024-10-23 00:00:00\n",
      "Processing games for 2024-10-24 00:00:00\n",
      "Finished processing 2024-10-24 00:00:00\n",
      "Processing games for 2024-10-25 00:00:00\n",
      "Finished processing 2024-10-25 00:00:00\n",
      "Processing games for 2024-10-26 00:00:00\n",
      "Finished processing 2024-10-26 00:00:00\n",
      "Processing games for 2024-10-27 00:00:00\n",
      "Finished processing 2024-10-27 00:00:00\n",
      "Processing games for 2024-10-28 00:00:00\n",
      "Finished processing 2024-10-28 00:00:00\n",
      "Processing games for 2024-10-29 00:00:00\n",
      "Finished processing 2024-10-29 00:00:00\n",
      "Processing games for 2024-10-30 00:00:00\n",
      "Finished processing 2024-10-30 00:00:00\n",
      "Processing games for 2024-10-31 00:00:00\n",
      "Finished processing 2024-10-31 00:00:00\n",
      "Processing games for 2024-11-01 00:00:00\n"
     ]
    },
    {
     "name": "stderr",
     "output_type": "stream",
     "text": [
      "/home/suyaozong/miniconda3/envs/nba_betting/lib/python3.10/site-packages/sklearn/linear_model/_coordinate_descent.py:697: ConvergenceWarning: Objective did not converge. You might want to increase the number of iterations, check the scale of the features or consider increasing regularisation. Duality gap: 7.009e-01, tolerance: 1.973e-01\n",
      "  model = cd_fast.enet_coordinate_descent(\n",
      "/home/suyaozong/miniconda3/envs/nba_betting/lib/python3.10/site-packages/sklearn/linear_model/_coordinate_descent.py:697: ConvergenceWarning: Objective did not converge. You might want to increase the number of iterations, check the scale of the features or consider increasing regularisation. Duality gap: 1.103e-01, tolerance: 8.375e-02\n",
      "  model = cd_fast.enet_coordinate_descent(\n",
      "/home/suyaozong/miniconda3/envs/nba_betting/lib/python3.10/site-packages/sklearn/linear_model/_coordinate_descent.py:697: ConvergenceWarning: Objective did not converge. You might want to increase the number of iterations, check the scale of the features or consider increasing regularisation. Duality gap: 1.476e+00, tolerance: 1.530e-01\n",
      "  model = cd_fast.enet_coordinate_descent(\n",
      "/home/suyaozong/miniconda3/envs/nba_betting/lib/python3.10/site-packages/sklearn/linear_model/_coordinate_descent.py:697: ConvergenceWarning: Objective did not converge. You might want to increase the number of iterations, check the scale of the features or consider increasing regularisation. Duality gap: 2.353e-01, tolerance: 1.808e-01\n",
      "  model = cd_fast.enet_coordinate_descent(\n",
      "/home/suyaozong/miniconda3/envs/nba_betting/lib/python3.10/site-packages/sklearn/linear_model/_coordinate_descent.py:697: ConvergenceWarning: Objective did not converge. You might want to increase the number of iterations, check the scale of the features or consider increasing regularisation. Duality gap: 2.171e+00, tolerance: 3.333e-01\n",
      "  model = cd_fast.enet_coordinate_descent(\n",
      "/home/suyaozong/miniconda3/envs/nba_betting/lib/python3.10/site-packages/sklearn/linear_model/_coordinate_descent.py:697: ConvergenceWarning: Objective did not converge. You might want to increase the number of iterations, check the scale of the features or consider increasing regularisation. Duality gap: 6.229e-01, tolerance: 1.090e-01\n",
      "  model = cd_fast.enet_coordinate_descent(\n"
     ]
    },
    {
     "name": "stdout",
     "output_type": "stream",
     "text": [
      "Finished processing 2024-11-01 00:00:00\n",
      "Processing games for 2024-11-02 00:00:00\n",
      "Finished processing 2024-11-02 00:00:00\n",
      "Processing games for 2024-11-03 00:00:00\n",
      "Finished processing 2024-11-03 00:00:00\n",
      "Processing games for 2024-11-04 00:00:00\n",
      "Finished processing 2024-11-04 00:00:00\n",
      "Processing games for 2024-11-06 00:00:00\n",
      "Finished processing 2024-11-06 00:00:00\n",
      "Processing games for 2024-11-07 00:00:00\n",
      "Finished processing 2024-11-07 00:00:00\n",
      "Processing games for 2024-11-09 00:00:00\n",
      "Finished processing 2024-11-09 00:00:00\n",
      "Processing games for 2024-11-10 00:00:00\n",
      "Finished processing 2024-11-10 00:00:00\n",
      "Processing games for 2024-11-11 00:00:00\n",
      "Finished processing 2024-11-11 00:00:00\n",
      "Processing games for 2024-11-12 00:00:00\n",
      "Finished processing 2024-11-12 00:00:00\n",
      "Processing games for 2024-11-13 00:00:00\n"
     ]
    },
    {
     "name": "stderr",
     "output_type": "stream",
     "text": [
      "/home/suyaozong/miniconda3/envs/nba_betting/lib/python3.10/site-packages/sklearn/linear_model/_coordinate_descent.py:697: ConvergenceWarning: Objective did not converge. You might want to increase the number of iterations, check the scale of the features or consider increasing regularisation. Duality gap: 2.103e-01, tolerance: 1.302e-01\n",
      "  model = cd_fast.enet_coordinate_descent(\n",
      "/home/suyaozong/miniconda3/envs/nba_betting/lib/python3.10/site-packages/sklearn/linear_model/_coordinate_descent.py:697: ConvergenceWarning: Objective did not converge. You might want to increase the number of iterations, check the scale of the features or consider increasing regularisation. Duality gap: 3.761e+00, tolerance: 3.607e-01\n",
      "  model = cd_fast.enet_coordinate_descent(\n",
      "/home/suyaozong/miniconda3/envs/nba_betting/lib/python3.10/site-packages/sklearn/linear_model/_coordinate_descent.py:697: ConvergenceWarning: Objective did not converge. You might want to increase the number of iterations, check the scale of the features or consider increasing regularisation. Duality gap: 4.854e-01, tolerance: 3.230e-01\n",
      "  model = cd_fast.enet_coordinate_descent(\n"
     ]
    },
    {
     "name": "stdout",
     "output_type": "stream",
     "text": [
      "Finished processing 2024-11-13 00:00:00\n",
      "Processing games for 2024-11-14 00:00:00\n",
      "Finished processing 2024-11-14 00:00:00\n",
      "Processing games for 2024-11-15 00:00:00\n",
      "Finished processing 2024-11-15 00:00:00\n",
      "Processing games for 2024-11-16 00:00:00\n",
      "Finished processing 2024-11-16 00:00:00\n",
      "Processing games for 2024-11-17 00:00:00\n",
      "Finished processing 2024-11-17 00:00:00\n",
      "Processing games for 2024-11-18 00:00:00\n",
      "Finished processing 2024-11-18 00:00:00\n",
      "Processing games for 2024-11-19 00:00:00\n",
      "Finished processing 2024-11-19 00:00:00\n",
      "Processing games for 2024-11-20 00:00:00\n",
      "Finished processing 2024-11-20 00:00:00\n",
      "Processing games for 2024-11-21 00:00:00\n",
      "Finished processing 2024-11-21 00:00:00\n",
      "Processing games for 2024-11-22 00:00:00\n",
      "Finished processing 2024-11-22 00:00:00\n",
      "Processing games for 2024-11-23 00:00:00\n",
      "Finished processing 2024-11-23 00:00:00\n",
      "Processing games for 2024-11-24 00:00:00\n"
     ]
    },
    {
     "name": "stderr",
     "output_type": "stream",
     "text": [
      "/home/suyaozong/miniconda3/envs/nba_betting/lib/python3.10/site-packages/sklearn/linear_model/_coordinate_descent.py:697: ConvergenceWarning: Objective did not converge. You might want to increase the number of iterations, check the scale of the features or consider increasing regularisation. Duality gap: 2.848e+00, tolerance: 4.451e-01\n",
      "  model = cd_fast.enet_coordinate_descent(\n",
      "/home/suyaozong/miniconda3/envs/nba_betting/lib/python3.10/site-packages/sklearn/linear_model/_coordinate_descent.py:697: ConvergenceWarning: Objective did not converge. You might want to increase the number of iterations, check the scale of the features or consider increasing regularisation. Duality gap: 4.763e-03, tolerance: 4.275e-03\n",
      "  model = cd_fast.enet_coordinate_descent(\n",
      "/home/suyaozong/miniconda3/envs/nba_betting/lib/python3.10/site-packages/sklearn/linear_model/_coordinate_descent.py:697: ConvergenceWarning: Objective did not converge. You might want to increase the number of iterations, check the scale of the features or consider increasing regularisation. Duality gap: 9.619e-01, tolerance: 1.968e-01\n",
      "  model = cd_fast.enet_coordinate_descent(\n",
      "/home/suyaozong/miniconda3/envs/nba_betting/lib/python3.10/site-packages/sklearn/linear_model/_coordinate_descent.py:697: ConvergenceWarning: Objective did not converge. You might want to increase the number of iterations, check the scale of the features or consider increasing regularisation. Duality gap: 5.230e-01, tolerance: 1.843e-01\n",
      "  model = cd_fast.enet_coordinate_descent(\n",
      "/home/suyaozong/miniconda3/envs/nba_betting/lib/python3.10/site-packages/sklearn/linear_model/_coordinate_descent.py:697: ConvergenceWarning: Objective did not converge. You might want to increase the number of iterations, check the scale of the features or consider increasing regularisation. Duality gap: 1.934e-01, tolerance: 9.673e-02\n",
      "  model = cd_fast.enet_coordinate_descent(\n",
      "/home/suyaozong/miniconda3/envs/nba_betting/lib/python3.10/site-packages/sklearn/linear_model/_coordinate_descent.py:697: ConvergenceWarning: Objective did not converge. You might want to increase the number of iterations, check the scale of the features or consider increasing regularisation. Duality gap: 4.846e-01, tolerance: 1.349e-01\n",
      "  model = cd_fast.enet_coordinate_descent(\n",
      "/home/suyaozong/miniconda3/envs/nba_betting/lib/python3.10/site-packages/sklearn/linear_model/_coordinate_descent.py:697: ConvergenceWarning: Objective did not converge. You might want to increase the number of iterations, check the scale of the features or consider increasing regularisation. Duality gap: 3.697e-01, tolerance: 1.747e-01\n",
      "  model = cd_fast.enet_coordinate_descent(\n",
      "/home/suyaozong/miniconda3/envs/nba_betting/lib/python3.10/site-packages/sklearn/linear_model/_coordinate_descent.py:697: ConvergenceWarning: Objective did not converge. You might want to increase the number of iterations, check the scale of the features or consider increasing regularisation. Duality gap: 2.322e-01, tolerance: 5.276e-02\n",
      "  model = cd_fast.enet_coordinate_descent(\n"
     ]
    },
    {
     "name": "stdout",
     "output_type": "stream",
     "text": [
      "Finished processing 2024-11-24 00:00:00\n",
      "Processing games for 2024-11-25 00:00:00\n",
      "Finished processing 2024-11-25 00:00:00\n",
      "Processing games for 2024-11-26 00:00:00\n",
      "Finished processing 2024-11-26 00:00:00\n",
      "Processing games for 2024-11-27 00:00:00\n",
      "Finished processing 2024-11-27 00:00:00\n",
      "Processing games for 2024-11-29 00:00:00\n",
      "Finished processing 2024-11-29 00:00:00\n",
      "Processing games for 2024-11-30 00:00:00\n",
      "Finished processing 2024-11-30 00:00:00\n"
     ]
    },
    {
     "name": "stderr",
     "output_type": "stream",
     "text": [
      "/home/suyaozong/miniconda3/envs/nba_betting/lib/python3.10/site-packages/sklearn/linear_model/_coordinate_descent.py:697: ConvergenceWarning: Objective did not converge. You might want to increase the number of iterations, check the scale of the features or consider increasing regularisation. Duality gap: 1.102e+00, tolerance: 2.262e-01\n",
      "  model = cd_fast.enet_coordinate_descent(\n",
      "/home/suyaozong/miniconda3/envs/nba_betting/lib/python3.10/site-packages/sklearn/linear_model/_coordinate_descent.py:697: ConvergenceWarning: Objective did not converge. You might want to increase the number of iterations, check the scale of the features or consider increasing regularisation. Duality gap: 6.703e-02, tolerance: 3.840e-02\n",
      "  model = cd_fast.enet_coordinate_descent(\n",
      "/home/suyaozong/miniconda3/envs/nba_betting/lib/python3.10/site-packages/sklearn/linear_model/_coordinate_descent.py:697: ConvergenceWarning: Objective did not converge. You might want to increase the number of iterations, check the scale of the features or consider increasing regularisation. Duality gap: 8.240e-01, tolerance: 3.172e-01\n",
      "  model = cd_fast.enet_coordinate_descent(\n"
     ]
    }
   ],
   "source": [
    "final_results = []\n",
    "\n",
    "unique_dates = sorted({entry['Game_Date'] for entry in merged_data})\n",
    "\n",
    "# Iterate through each game date\n",
    "for game_date in unique_dates:\n",
    "    print(f\"Processing games for {game_date}\")\n",
    "\n",
    "    # Filter games for the current day\n",
    "    day_games = [entry for entry in merged_data if entry[\"Game_Date\"] == game_date]\n",
    "\n",
    "    # Prepare training data for the current day\n",
    "    X_train = pd.DataFrame(\n",
    "        [game['Home_Stats'] for game in day_games] +\n",
    "        [game['Away_Stats'] for game in day_games]\n",
    "    )[existing_features].values\n",
    "\n",
    "    y_train = pd.DataFrame([\n",
    "        {'Actual_Points': game['Odds']['Score.1']} for game in day_games\n",
    "    ] + [\n",
    "        {'Actual_Points': game['Odds']['Score']} for game in day_games\n",
    "    ]).values\n",
    "\n",
    "    # Fine-tune the model with the day's data\n",
    "    lasso.fit(X_train, y_train)\n",
    "\n",
    "    # Append games for the day to final results\n",
    "    final_results.extend(day_games)\n",
    "\n",
    "    print(f\"Finished processing {game_date}\")"
   ]
  },
  {
   "cell_type": "code",
   "execution_count": 28,
   "id": "51436cdd-54f4-4f08-990e-9dbff8c6515a",
   "metadata": {},
   "outputs": [],
   "source": [
    "# Convert merged_data to a DataFrame\n",
    "merged_df = pd.DataFrame(merged_data)\n",
    "\n",
    "# Save to a CSV file\n",
    "merged_df.to_csv(\"2024_predictions_by_lasso.csv\", index=False)"
   ]
  },
  {
   "cell_type": "markdown",
   "id": "fad13a9e-9fd6-4ff2-82bc-114276467c32",
   "metadata": {},
   "source": [
    "### Run Analytics on the 2024 Predictions Compared to 2024 Season Actual Results"
   ]
  },
  {
   "cell_type": "code",
   "execution_count": 29,
   "id": "1b1f28ff-6dc2-45d2-99e6-258c56b996fe",
   "metadata": {},
   "outputs": [
    {
     "name": "stdout",
     "output_type": "stream",
     "text": [
      "General Statistics for Predictions:\n",
      "Mean Absolute Error (Points): 7.71\n",
      "Mean Squared Error (Points): 93.74\n",
      "Root Mean Squared Error (Points): 9.68\n",
      "\n",
      "Spread Analysis:\n",
      "Mean Absolute Error (Spread): 13.97\n",
      "\n",
      "ATS Results:\n",
      "Total Games: 207\n",
      "ATS Hits: 152\n",
      "ATS %: 73.43%\n"
     ]
    }
   ],
   "source": [
    "prediction_errors = []\n",
    "spread_errors = []\n",
    "ats_hits = 0\n",
    "total_games = len(merged_data)\n",
    "\n",
    "for game in merged_data:\n",
    "    # Predicted vs actual points \n",
    "    home_error = abs(game['Home_Predicted_Points'] - game['Odds']['Score.1'])\n",
    "    away_error = abs(game['Away_Predicted_Points'] - game['Odds']['Score'])\n",
    "    prediction_errors.extend([home_error, away_error])\n",
    "\n",
    "    # Spread analysis\n",
    "    calculated_spread = game['Predicted_Spread']\n",
    "    actual_spread = game['Odds']['Home Spread']\n",
    "    spread_error = abs(calculated_spread - actual_spread)\n",
    "    spread_errors.append(spread_error)\n",
    "\n",
    "    # ATS Calculations\n",
    "    actual_result_spread = game['Odds']['Score.1'] - game['Odds']['Score']\n",
    "    if (calculated_spread > 0 and actual_result_spread > actual_spread) or (calculated_spread < 0 and actual_result_spread < actual_spread):\n",
    "            ats_hits += 1\n",
    "\n",
    "# General performance stats\n",
    "prediction_mae = np.mean(prediction_errors)\n",
    "prediction_mse = np.mean(np.square(prediction_errors))\n",
    "prediction_rmse = np.sqrt(prediction_mse)\n",
    "\n",
    "spread_mae = np.mean(spread_errors)\n",
    "\n",
    "ats_percentage = (ats_hits/total_games) * 100\n",
    "\n",
    "# Display Results\n",
    "print(\"General Statistics for Predictions:\")\n",
    "print(f\"Mean Absolute Error (Points): {prediction_mae:.2f}\")\n",
    "print(f\"Mean Squared Error (Points): {prediction_mse:.2f}\")\n",
    "print(f\"Root Mean Squared Error (Points): {prediction_rmse:.2f}\")\n",
    "\n",
    "print(\"\\nSpread Analysis:\")\n",
    "print(f\"Mean Absolute Error (Spread): {spread_mae:.2f}\")\n",
    "\n",
    "print(\"\\nATS Results:\")\n",
    "print(f\"Total Games: {total_games}\")\n",
    "print(f\"ATS Hits: {ats_hits}\")\n",
    "print(f\"ATS %: {ats_percentage:.2f}%\")"
   ]
  },
  {
   "cell_type": "code",
   "execution_count": null,
   "id": "19f3b79f-71d5-4ad0-aea1-d0fd30f33d05",
   "metadata": {},
   "outputs": [],
   "source": []
  }
 ],
 "metadata": {
  "kernelspec": {
   "display_name": "Python 3 (ipykernel)",
   "language": "python",
   "name": "python3"
  },
  "language_info": {
   "codemirror_mode": {
    "name": "ipython",
    "version": 3
   },
   "file_extension": ".py",
   "mimetype": "text/x-python",
   "name": "python",
   "nbconvert_exporter": "python",
   "pygments_lexer": "ipython3",
   "version": "3.10.15"
  }
 },
 "nbformat": 4,
 "nbformat_minor": 5
}

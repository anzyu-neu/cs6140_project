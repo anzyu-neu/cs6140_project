{
 "cells": [
  {
   "cell_type": "markdown",
   "id": "d520c760-3085-4646-8863-71b3a751e207",
   "metadata": {},
   "source": [
    "# Boston Celtics Specific Model"
   ]
  },
  {
   "cell_type": "code",
   "execution_count": 10,
   "id": "01478d4d-98a3-45cd-8619-a02c62ae97c6",
   "metadata": {},
   "outputs": [],
   "source": [
    "import numpy as np\n",
    "import pandas as pd\n",
    "import tensorflow as tf\n",
    "import matplotlib.pyplot as plt\n",
    "\n",
    "from tensorflow.keras.models import Sequential, load_model\n",
    "from tensorflow.keras.layers import Dense, Dropout, Input\n",
    "from tensorflow.keras.optimizers import Adam\n",
    "from sklearn.model_selection import train_test_split\n",
    "from sklearn.preprocessing import StandardScaler\n",
    "from sklearn.metrics import mean_squared_error, mean_absolute_error, r2_score"
   ]
  },
  {
   "cell_type": "markdown",
   "id": "6f8e1c98-1b92-4af6-961e-0261d965140b",
   "metadata": {},
   "source": [
    "## Importing 4 Seasons of NBA Data (2020-2024)"
   ]
  },
  {
   "cell_type": "code",
   "execution_count": 3,
   "id": "7e796f4e-f9f1-4cf0-915d-74bfe07ad51d",
   "metadata": {},
   "outputs": [],
   "source": [
    "season_20 = pd.read_csv('../data_generation/output_data/2020-21_data.csv')\n",
    "season_21 = pd.read_csv('../data_generation/output_data/2021-22_data.csv')\n",
    "season_22 = pd.read_csv('../data_generation/output_data/2022-23_data.csv')\n",
    "season_23 = pd.read_csv('../data_generation/output_data/2023-24_data.csv')\n",
    "\n",
    "combined_seasons = pd.concat([season_20, season_21, season_22, season_23], ignore_index=True)\n",
    "combined_season = combined_seasons.drop_duplicates()\n",
    "combined_seasons = combined_seasons.reset_index(drop=True)\n",
    "\n",
    "# combined_seasons.head(10)"
   ]
  },
  {
   "cell_type": "markdown",
   "id": "69bc09d1-c258-44fc-890c-dc70ad5052cd",
   "metadata": {},
   "source": [
    "## Mapping Team ID to City"
   ]
  },
  {
   "cell_type": "code",
   "execution_count": 4,
   "id": "8b755bac-db9b-45db-a753-27a7aac2915e",
   "metadata": {},
   "outputs": [],
   "source": [
    "TEAM_CITY_MAPPING = {\n",
    "    1610612737: \"Atlanta, GA\",\n",
    "    1610612738: \"Boston, MA\",\n",
    "    1610612739: \"Cleveland, OH\",\n",
    "    1610612740: \"New Orleans, LA\",\n",
    "    1610612741: \"Chicago, IL\",\n",
    "    1610612742: \"Dallas, TX\",\n",
    "    1610612743: \"Denver, CO\",\n",
    "    1610612744: \"San Francisco, CA\",\n",
    "    1610612745: \"Houston, TX\",\n",
    "    1610612746: \"Los Angeles, CA (Lakers)\",\n",
    "    1610612747: \"Los Angeles, CA (Clippers)\",\n",
    "    1610612748: \"Miami, FL\",\n",
    "    1610612749: \"Milwaukee, WI\",\n",
    "    1610612750: \"Minneapolis, MN\",\n",
    "    1610612751: \"Brooklyn, NY\",\n",
    "    1610612752: \"New York, NY\",\n",
    "    1610612753: \"Orlando, FL\",\n",
    "    1610612754: \"Indianapolis, IN\",\n",
    "    1610612755: \"Philadelphia, PA\",\n",
    "    1610612756: \"Phoenix, AZ\",\n",
    "    1610612757: \"Portland, OR\",\n",
    "    1610612758: \"Sacramento, CA\",\n",
    "    1610612759: \"San Antonio, TX\",\n",
    "    1610612760: \"Oklahoma City, OK\",\n",
    "    1610612761: \"Toronto, ON (Canada)\",\n",
    "    1610612762: \"Salt Lake City, Utah\",\n",
    "    1610612763: \"Memphis, TN\",\n",
    "    1610612764: \"Washington, D.C.\",\n",
    "    1610612765: \"Detroit, MI\",\n",
    "    1610612766: \"Charlotte, NC\"\n",
    "}\n",
    "\n",
    "boston_celtics = 1610612738\n",
    "boston_data = combined_seasons.loc[combined_seasons[\"teamId\"] == boston_celtics]\n",
    "\n",
    "# boston_data.head(10)\n"
   ]
  },
  {
   "cell_type": "markdown",
   "id": "d25e5c3e-6b5b-408d-aa39-a18a320d4213",
   "metadata": {},
   "source": [
    "## Prepare features and target value for the Boston Celtics"
   ]
  },
  {
   "cell_type": "code",
   "execution_count": 5,
   "id": "322cfb50-ca47-47be-b513-0d16828afa1f",
   "metadata": {},
   "outputs": [
    {
     "name": "stdout",
     "output_type": "stream",
     "text": [
      "<class 'pandas.core.frame.DataFrame'>\n",
      "Index: 318 entries, 20 to 9526\n",
      "Columns: 126 entries, fieldGoalPercentage_my_player_1 to OPPONENT_WIN_PCT\n",
      "dtypes: float64(123), int64(3)\n",
      "memory usage: 315.5 KB\n",
      "None\n"
     ]
    }
   ],
   "source": [
    "input = boston_data.drop(columns=['PTS'])\n",
    "target = boston_data['PTS']\n",
    "\n",
    "spearman_corr = pd.read_csv('../data_generation/output_data/spearman_corr_features.csv')\n",
    "\n",
    "selected_features = spearman_corr['Feature'].tolist()\n",
    "\n",
    "existing_features = [feature for feature in selected_features if feature in input.columns]\n",
    "\n",
    "input = boston_data[existing_features]\n",
    "input = input.dropna(axis=1)\n",
    "print(input.info()) # 318 entries, 126 columns\n",
    "\n",
    "# Split data est\n",
    "input_train, input_test, target_train, target_test = train_test_split(input, target, test_size=0.2, random_state=0)\n",
    "\n",
    "# Scaling features\n",
    "scaler = StandardScaler()\n",
    "input_train = scaler.fit_transform(input_train)\n",
    "input_test = scaler.transform(input_test)"
   ]
  },
  {
   "cell_type": "markdown",
   "id": "8554561d-2a69-412b-afdb-17eba00919cb",
   "metadata": {},
   "source": [
    "## Define the Model"
   ]
  },
  {
   "cell_type": "code",
   "execution_count": 6,
   "id": "925abdba-6230-4518-9087-df8549e42b78",
   "metadata": {},
   "outputs": [
    {
     "name": "stdout",
     "output_type": "stream",
     "text": [
      "Epoch 1/50\n",
      "\u001b[1m7/7\u001b[0m \u001b[32m━━━━━━━━━━━━━━━━━━━━\u001b[0m\u001b[37m\u001b[0m \u001b[1m4s\u001b[0m 97ms/step - loss: 13588.4033 - mae: 115.8235 - val_loss: 13726.5439 - val_mae: 116.5138\n",
      "Epoch 2/50\n",
      "\u001b[1m7/7\u001b[0m \u001b[32m━━━━━━━━━━━━━━━━━━━━\u001b[0m\u001b[37m\u001b[0m \u001b[1m0s\u001b[0m 25ms/step - loss: 13209.2178 - mae: 114.1821 - val_loss: 13560.9844 - val_mae: 115.8005\n",
      "Epoch 3/50\n",
      "\u001b[1m7/7\u001b[0m \u001b[32m━━━━━━━━━━━━━━━━━━━━\u001b[0m\u001b[37m\u001b[0m \u001b[1m0s\u001b[0m 24ms/step - loss: 13035.7490 - mae: 113.4837 - val_loss: 13397.0801 - val_mae: 115.0908\n",
      "Epoch 4/50\n",
      "\u001b[1m7/7\u001b[0m \u001b[32m━━━━━━━━━━━━━━━━━━━━\u001b[0m\u001b[37m\u001b[0m \u001b[1m0s\u001b[0m 22ms/step - loss: 12829.5371 - mae: 112.4307 - val_loss: 13222.4219 - val_mae: 114.3300\n",
      "Epoch 5/50\n",
      "\u001b[1m7/7\u001b[0m \u001b[32m━━━━━━━━━━━━━━━━━━━━\u001b[0m\u001b[37m\u001b[0m \u001b[1m0s\u001b[0m 25ms/step - loss: 12921.8242 - mae: 112.8528 - val_loss: 13023.5635 - val_mae: 113.4600\n",
      "Epoch 6/50\n",
      "\u001b[1m7/7\u001b[0m \u001b[32m━━━━━━━━━━━━━━━━━━━━\u001b[0m\u001b[37m\u001b[0m \u001b[1m0s\u001b[0m 24ms/step - loss: 12363.0684 - mae: 110.3957 - val_loss: 12786.7070 - val_mae: 112.4134\n",
      "Epoch 7/50\n",
      "\u001b[1m7/7\u001b[0m \u001b[32m━━━━━━━━━━━━━━━━━━━━\u001b[0m\u001b[37m\u001b[0m \u001b[1m0s\u001b[0m 24ms/step - loss: 12098.6094 - mae: 109.1612 - val_loss: 12499.5918 - val_mae: 111.1330\n",
      "Epoch 8/50\n",
      "\u001b[1m7/7\u001b[0m \u001b[32m━━━━━━━━━━━━━━━━━━━━\u001b[0m\u001b[37m\u001b[0m \u001b[1m0s\u001b[0m 22ms/step - loss: 11975.1797 - mae: 108.5491 - val_loss: 12151.3721 - val_mae: 109.5649\n",
      "Epoch 9/50\n",
      "\u001b[1m7/7\u001b[0m \u001b[32m━━━━━━━━━━━━━━━━━━━━\u001b[0m\u001b[37m\u001b[0m \u001b[1m0s\u001b[0m 22ms/step - loss: 11611.8477 - mae: 106.9019 - val_loss: 11740.4707 - val_mae: 107.6860\n",
      "Epoch 10/50\n",
      "\u001b[1m7/7\u001b[0m \u001b[32m━━━━━━━━━━━━━━━━━━━━\u001b[0m\u001b[37m\u001b[0m \u001b[1m0s\u001b[0m 24ms/step - loss: 11131.5312 - mae: 104.6486 - val_loss: 11259.3848 - val_mae: 105.4390\n",
      "Epoch 11/50\n",
      "\u001b[1m7/7\u001b[0m \u001b[32m━━━━━━━━━━━━━━━━━━━━\u001b[0m\u001b[37m\u001b[0m \u001b[1m0s\u001b[0m 25ms/step - loss: 10462.5771 - mae: 101.3214 - val_loss: 10698.5908 - val_mae: 102.7618\n",
      "Epoch 12/50\n",
      "\u001b[1m7/7\u001b[0m \u001b[32m━━━━━━━━━━━━━━━━━━━━\u001b[0m\u001b[37m\u001b[0m \u001b[1m0s\u001b[0m 25ms/step - loss: 9965.7529 - mae: 98.7827 - val_loss: 10064.8926 - val_mae: 99.6542\n",
      "Epoch 13/50\n",
      "\u001b[1m7/7\u001b[0m \u001b[32m━━━━━━━━━━━━━━━━━━━━\u001b[0m\u001b[37m\u001b[0m \u001b[1m0s\u001b[0m 22ms/step - loss: 9242.6855 - mae: 95.0641 - val_loss: 9350.4863 - val_mae: 96.0288\n",
      "Epoch 14/50\n",
      "\u001b[1m7/7\u001b[0m \u001b[32m━━━━━━━━━━━━━━━━━━━━\u001b[0m\u001b[37m\u001b[0m \u001b[1m0s\u001b[0m 23ms/step - loss: 8159.4673 - mae: 89.2036 - val_loss: 8567.5537 - val_mae: 91.8636\n",
      "Epoch 15/50\n",
      "\u001b[1m7/7\u001b[0m \u001b[32m━━━━━━━━━━━━━━━━━━━━\u001b[0m\u001b[37m\u001b[0m \u001b[1m0s\u001b[0m 20ms/step - loss: 7405.9194 - mae: 84.6903 - val_loss: 7723.4048 - val_mae: 87.1502\n",
      "Epoch 16/50\n",
      "\u001b[1m7/7\u001b[0m \u001b[32m━━━━━━━━━━━━━━━━━━━━\u001b[0m\u001b[37m\u001b[0m \u001b[1m0s\u001b[0m 20ms/step - loss: 6574.0000 - mae: 79.2317 - val_loss: 6829.5537 - val_mae: 81.8415\n",
      "Epoch 17/50\n",
      "\u001b[1m7/7\u001b[0m \u001b[32m━━━━━━━━━━━━━━━━━━━━\u001b[0m\u001b[37m\u001b[0m \u001b[1m0s\u001b[0m 21ms/step - loss: 5611.0908 - mae: 72.8464 - val_loss: 5917.4395 - val_mae: 76.0069\n",
      "Epoch 18/50\n",
      "\u001b[1m7/7\u001b[0m \u001b[32m━━━━━━━━━━━━━━━━━━━━\u001b[0m\u001b[37m\u001b[0m \u001b[1m0s\u001b[0m 16ms/step - loss: 4716.7529 - mae: 65.9603 - val_loss: 5019.4258 - val_mae: 69.7349\n",
      "Epoch 19/50\n",
      "\u001b[1m7/7\u001b[0m \u001b[32m━━━━━━━━━━━━━━━━━━━━\u001b[0m\u001b[37m\u001b[0m \u001b[1m0s\u001b[0m 26ms/step - loss: 3903.0007 - mae: 59.1522 - val_loss: 4167.5723 - val_mae: 63.1570\n",
      "Epoch 20/50\n",
      "\u001b[1m7/7\u001b[0m \u001b[32m━━━━━━━━━━━━━━━━━━━━\u001b[0m\u001b[37m\u001b[0m \u001b[1m0s\u001b[0m 20ms/step - loss: 3262.4529 - mae: 53.1552 - val_loss: 3383.8562 - val_mae: 56.3757\n",
      "Epoch 21/50\n",
      "\u001b[1m7/7\u001b[0m \u001b[32m━━━━━━━━━━━━━━━━━━━━\u001b[0m\u001b[37m\u001b[0m \u001b[1m0s\u001b[0m 21ms/step - loss: 2238.5195 - mae: 42.4715 - val_loss: 2707.3325 - val_mae: 49.7319\n",
      "Epoch 22/50\n",
      "\u001b[1m7/7\u001b[0m \u001b[32m━━━━━━━━━━━━━━━━━━━━\u001b[0m\u001b[37m\u001b[0m \u001b[1m0s\u001b[0m 22ms/step - loss: 2028.5616 - mae: 39.4291 - val_loss: 2140.9763 - val_mae: 43.6561\n",
      "Epoch 23/50\n",
      "\u001b[1m7/7\u001b[0m \u001b[32m━━━━━━━━━━━━━━━━━━━━\u001b[0m\u001b[37m\u001b[0m \u001b[1m0s\u001b[0m 20ms/step - loss: 1606.8866 - mae: 34.3313 - val_loss: 1702.9810 - val_mae: 38.1251\n",
      "Epoch 24/50\n",
      "\u001b[1m7/7\u001b[0m \u001b[32m━━━━━━━━━━━━━━━━━━━━\u001b[0m\u001b[37m\u001b[0m \u001b[1m0s\u001b[0m 19ms/step - loss: 1196.9755 - mae: 29.5009 - val_loss: 1373.8309 - val_mae: 33.3850\n",
      "Epoch 25/50\n",
      "\u001b[1m7/7\u001b[0m \u001b[32m━━━━━━━━━━━━━━━━━━━━\u001b[0m\u001b[37m\u001b[0m \u001b[1m0s\u001b[0m 22ms/step - loss: 1177.7740 - mae: 28.7434 - val_loss: 1141.4935 - val_mae: 30.0226\n",
      "Epoch 26/50\n",
      "\u001b[1m7/7\u001b[0m \u001b[32m━━━━━━━━━━━━━━━━━━━━\u001b[0m\u001b[37m\u001b[0m \u001b[1m0s\u001b[0m 21ms/step - loss: 945.1834 - mae: 25.3919 - val_loss: 978.8828 - val_mae: 27.2593\n",
      "Epoch 27/50\n",
      "\u001b[1m7/7\u001b[0m \u001b[32m━━━━━━━━━━━━━━━━━━━━\u001b[0m\u001b[37m\u001b[0m \u001b[1m0s\u001b[0m 21ms/step - loss: 819.1943 - mae: 23.1943 - val_loss: 872.1664 - val_mae: 25.2222\n",
      "Epoch 28/50\n",
      "\u001b[1m7/7\u001b[0m \u001b[32m━━━━━━━━━━━━━━━━━━━━\u001b[0m\u001b[37m\u001b[0m \u001b[1m0s\u001b[0m 24ms/step - loss: 810.7424 - mae: 22.9965 - val_loss: 796.8599 - val_mae: 23.6426\n",
      "Epoch 29/50\n",
      "\u001b[1m7/7\u001b[0m \u001b[32m━━━━━━━━━━━━━━━━━━━━\u001b[0m\u001b[37m\u001b[0m \u001b[1m0s\u001b[0m 22ms/step - loss: 707.5374 - mae: 21.3092 - val_loss: 750.7267 - val_mae: 22.5953\n",
      "Epoch 30/50\n",
      "\u001b[1m7/7\u001b[0m \u001b[32m━━━━━━━━━━━━━━━━━━━━\u001b[0m\u001b[37m\u001b[0m \u001b[1m0s\u001b[0m 23ms/step - loss: 779.2210 - mae: 22.2836 - val_loss: 728.3929 - val_mae: 22.0396\n",
      "Epoch 31/50\n",
      "\u001b[1m7/7\u001b[0m \u001b[32m━━━━━━━━━━━━━━━━━━━━\u001b[0m\u001b[37m\u001b[0m \u001b[1m0s\u001b[0m 22ms/step - loss: 808.5137 - mae: 23.7672 - val_loss: 710.0659 - val_mae: 21.6565\n",
      "Epoch 32/50\n",
      "\u001b[1m7/7\u001b[0m \u001b[32m━━━━━━━━━━━━━━━━━━━━\u001b[0m\u001b[37m\u001b[0m \u001b[1m0s\u001b[0m 20ms/step - loss: 601.0963 - mae: 19.7878 - val_loss: 696.3698 - val_mae: 21.3168\n",
      "Epoch 33/50\n",
      "\u001b[1m7/7\u001b[0m \u001b[32m━━━━━━━━━━━━━━━━━━━━\u001b[0m\u001b[37m\u001b[0m \u001b[1m0s\u001b[0m 19ms/step - loss: 610.0474 - mae: 20.0641 - val_loss: 688.5969 - val_mae: 21.1637\n",
      "Epoch 34/50\n",
      "\u001b[1m7/7\u001b[0m \u001b[32m━━━━━━━━━━━━━━━━━━━━\u001b[0m\u001b[37m\u001b[0m \u001b[1m0s\u001b[0m 24ms/step - loss: 596.6765 - mae: 19.4940 - val_loss: 690.9744 - val_mae: 21.2006\n",
      "Epoch 35/50\n",
      "\u001b[1m7/7\u001b[0m \u001b[32m━━━━━━━━━━━━━━━━━━━━\u001b[0m\u001b[37m\u001b[0m \u001b[1m0s\u001b[0m 22ms/step - loss: 635.6105 - mae: 20.0554 - val_loss: 696.6705 - val_mae: 21.3317\n",
      "Epoch 36/50\n",
      "\u001b[1m7/7\u001b[0m \u001b[32m━━━━━━━━━━━━━━━━━━━━\u001b[0m\u001b[37m\u001b[0m \u001b[1m0s\u001b[0m 22ms/step - loss: 558.6939 - mae: 19.4884 - val_loss: 708.7548 - val_mae: 21.6575\n",
      "Epoch 37/50\n",
      "\u001b[1m7/7\u001b[0m \u001b[32m━━━━━━━━━━━━━━━━━━━━\u001b[0m\u001b[37m\u001b[0m \u001b[1m0s\u001b[0m 21ms/step - loss: 735.6377 - mae: 21.9170 - val_loss: 710.6608 - val_mae: 21.6994\n",
      "Epoch 38/50\n",
      "\u001b[1m7/7\u001b[0m \u001b[32m━━━━━━━━━━━━━━━━━━━━\u001b[0m\u001b[37m\u001b[0m \u001b[1m0s\u001b[0m 24ms/step - loss: 523.7735 - mae: 18.5358 - val_loss: 700.2047 - val_mae: 21.4802\n",
      "Epoch 39/50\n",
      "\u001b[1m7/7\u001b[0m \u001b[32m━━━━━━━━━━━━━━━━━━━━\u001b[0m\u001b[37m\u001b[0m \u001b[1m0s\u001b[0m 25ms/step - loss: 498.8269 - mae: 18.2399 - val_loss: 679.3345 - val_mae: 20.9772\n",
      "Epoch 40/50\n",
      "\u001b[1m7/7\u001b[0m \u001b[32m━━━━━━━━━━━━━━━━━━━━\u001b[0m\u001b[37m\u001b[0m \u001b[1m0s\u001b[0m 21ms/step - loss: 485.3655 - mae: 18.4909 - val_loss: 662.1365 - val_mae: 20.5041\n",
      "Epoch 41/50\n",
      "\u001b[1m7/7\u001b[0m \u001b[32m━━━━━━━━━━━━━━━━━━━━\u001b[0m\u001b[37m\u001b[0m \u001b[1m0s\u001b[0m 25ms/step - loss: 460.2113 - mae: 17.9032 - val_loss: 654.1784 - val_mae: 20.2894\n",
      "Epoch 42/50\n",
      "\u001b[1m7/7\u001b[0m \u001b[32m━━━━━━━━━━━━━━━━━━━━\u001b[0m\u001b[37m\u001b[0m \u001b[1m0s\u001b[0m 21ms/step - loss: 436.9997 - mae: 17.1692 - val_loss: 642.3506 - val_mae: 20.1506\n",
      "Epoch 43/50\n",
      "\u001b[1m7/7\u001b[0m \u001b[32m━━━━━━━━━━━━━━━━━━━━\u001b[0m\u001b[37m\u001b[0m \u001b[1m0s\u001b[0m 22ms/step - loss: 404.1596 - mae: 16.5356 - val_loss: 630.2158 - val_mae: 19.9686\n",
      "Epoch 44/50\n",
      "\u001b[1m7/7\u001b[0m \u001b[32m━━━━━━━━━━━━━━━━━━━━\u001b[0m\u001b[37m\u001b[0m \u001b[1m0s\u001b[0m 25ms/step - loss: 480.2416 - mae: 17.8929 - val_loss: 622.5614 - val_mae: 19.8139\n",
      "Epoch 45/50\n",
      "\u001b[1m7/7\u001b[0m \u001b[32m━━━━━━━━━━━━━━━━━━━━\u001b[0m\u001b[37m\u001b[0m \u001b[1m0s\u001b[0m 22ms/step - loss: 459.4981 - mae: 18.2556 - val_loss: 620.0590 - val_mae: 19.7205\n",
      "Epoch 46/50\n",
      "\u001b[1m7/7\u001b[0m \u001b[32m━━━━━━━━━━━━━━━━━━━━\u001b[0m\u001b[37m\u001b[0m \u001b[1m0s\u001b[0m 21ms/step - loss: 394.0690 - mae: 16.0726 - val_loss: 612.0770 - val_mae: 19.5651\n",
      "Epoch 47/50\n",
      "\u001b[1m7/7\u001b[0m \u001b[32m━━━━━━━━━━━━━━━━━━━━\u001b[0m\u001b[37m\u001b[0m \u001b[1m0s\u001b[0m 21ms/step - loss: 444.0815 - mae: 17.0248 - val_loss: 604.9951 - val_mae: 19.4158\n",
      "Epoch 48/50\n",
      "\u001b[1m7/7\u001b[0m \u001b[32m━━━━━━━━━━━━━━━━━━━━\u001b[0m\u001b[37m\u001b[0m \u001b[1m0s\u001b[0m 21ms/step - loss: 415.8925 - mae: 15.7598 - val_loss: 619.1593 - val_mae: 19.6097\n",
      "Epoch 49/50\n",
      "\u001b[1m7/7\u001b[0m \u001b[32m━━━━━━━━━━━━━━━━━━━━\u001b[0m\u001b[37m\u001b[0m \u001b[1m0s\u001b[0m 21ms/step - loss: 389.1236 - mae: 15.9771 - val_loss: 624.1496 - val_mae: 19.6671\n",
      "Epoch 50/50\n",
      "\u001b[1m7/7\u001b[0m \u001b[32m━━━━━━━━━━━━━━━━━━━━\u001b[0m\u001b[37m\u001b[0m \u001b[1m0s\u001b[0m 18ms/step - loss: 355.2352 - mae: 15.1599 - val_loss: 618.4393 - val_mae: 19.5766\n"
     ]
    }
   ],
   "source": [
    "# Initialize sequential model \n",
    "model = Sequential([\n",
    "    Input(shape=(input_train.shape[1],)), # define input shape\n",
    "    Dense(64, activation='relu'), # first hidden layer with 64 units\n",
    "    Dropout(0.2),\n",
    "    Dense(32, activation='relu'), # second hidden layer with 32 units\n",
    "    Dense(1) # OUtput with target (PTS)\n",
    "])\n",
    "\n",
    "# Compile the model \n",
    "model.compile(optimizer=Adam(learning_rate=0.001), loss='mean_squared_error', metrics=['mae'])\n",
    "\n",
    "# Train the model\n",
    "history = model.fit(input_train, target_train, epochs=50, batch_size=32, validation_split=0.2)"
   ]
  },
  {
   "cell_type": "markdown",
   "id": "c7dd21a8-be06-4855-aae6-2c2acec9fed8",
   "metadata": {},
   "source": [
    "## Visualize History"
   ]
  },
  {
   "cell_type": "code",
   "execution_count": 7,
   "id": "9532734d-b604-478d-8bda-74bb4f935eb1",
   "metadata": {},
   "outputs": [
    {
     "data": {
      "image/png": "[encoded data removed]",
      "text/plain": [
       "<Figure size 640x480 with 1 Axes>"
      ]
     },
     "metadata": {},
     "output_type": "display_data"
    }
   ],
   "source": [
    "plt.plot(history.history['loss'], label = 'Training Loss')\n",
    "plt.plot(history.history['val_loss'], label = 'Validation Loss')\n",
    "plt.xlabel('Epoch')\n",
    "plt.ylabel('Mean Squared Error')\n",
    "plt.legend()\n",
    "plt.show()"
   ]
  },
  {
   "cell_type": "markdown",
   "id": "3789ae7e-0f6e-4161-9159-9b7e9275a7e7",
   "metadata": {},
   "source": [
    "## Evaluation and Sample Target Prediction"
   ]
  },
  {
   "cell_type": "code",
   "execution_count": 16,
   "id": "a30152b8-c4af-4dc4-99a7-e7e9a72a07d5",
   "metadata": {},
   "outputs": [
    {
     "name": "stdout",
     "output_type": "stream",
     "text": [
      "\u001b[1m2/2\u001b[0m \u001b[32m━━━━━━━━━━━━━━━━━━━━\u001b[0m\u001b[37m\u001b[0m \u001b[1m0s\u001b[0m 36ms/step - loss: 824.7609 - mae: 23.1029\n",
      "\u001b[1m2/2\u001b[0m \u001b[32m━━━━━━━━━━━━━━━━━━━━\u001b[0m\u001b[37m\u001b[0m \u001b[1m0s\u001b[0m 16ms/step\n",
      "\n",
      "--- Regression Metrics ---\n",
      "Test Loss (MSE from model): 901.04\n",
      "Test MAE (from model): 24.42\n",
      "Mean Squared Error (MSE): 901.04\n",
      "Root Mean Squared Error (RMSE): 30.02\n",
      "R-Squared (R²): -3.63\n",
      "Sample Prediction (PTS): [104.596954 116.79762   69.05172  122.100685  90.189354  83.571\n",
      " 134.798    119.79313  109.24045   94.96094 ]\n",
      "Actual Values (PTS): [119 133 119 132 142 143 119 123 117 106]\n"
     ]
    }
   ],
   "source": [
    "# Evaluate model and test data\n",
    "test_loss, test_mae = model.evaluate(input_test, target_test)\n",
    "\n",
    "# Target prediction\n",
    "sample_predictions = model.predict(input_test)\n",
    "\n",
    "mse = mean_squared_error(target_test, sample_predictions)\n",
    "rmse = np.sqrt(mse)\n",
    "r2 = r2_score(target_test, sample_predictions)\n",
    "\n",
    "print(\"\\n--- Regression Metrics ---\")\n",
    "print(f\"Test Loss (MSE from model): {test_loss:.2f}\")\n",
    "print(f\"Test MAE (from model): {test_mae:.2f}\")\n",
    "print(f\"Mean Squared Error (MSE): {mse:.2f}\")\n",
    "print(f\"Root Mean Squared Error (RMSE): {rmse:.2f}\")\n",
    "print(f\"R-Squared (R²): {r2:.2f}\")\n",
    "\n",
    "print(\"Sample Prediction (PTS):\", sample_predictions[:10].flatten())\n",
    "print(\"Actual Values (PTS):\", target_test[:10].values)\n",
    "\n",
    "bos_results = pd.DataFrame({\n",
    "    \"Actual PTS\": target_test,\n",
    "    \"Predicted PTS\": sample_predictions.flatten()\n",
    "})\n",
    "\n",
    "bos_results.to_csv(\"boston_celtics_model_eval.csv\", index=False)"
   ]
  },
  {
   "cell_type": "markdown",
   "id": "9d4b0dd6-b333-4429-a101-43fbcb9ce81c",
   "metadata": {},
   "source": [
    "## Evaluate the General NN Model Performance"
   ]
  },
  {
   "cell_type": "code",
   "execution_count": 18,
   "id": "09ebd825-5107-450c-a50f-bd2f76961540",
   "metadata": {
    "scrolled": true
   },
   "outputs": [
    {
     "name": "stderr",
     "output_type": "stream",
     "text": [
      "C:\\Users\\ayu92\\Documents\\cs6140_project\\venv\\Lib\\site-packages\\keras\\src\\saving\\saving_lib.py:719: UserWarning: Skipping variable loading for optimizer 'rmsprop', because it has 8 variables whereas the saved optimizer has 14 variables. \n",
      "  saveable.load_own_variables(weights_store.get(inner_path))\n"
     ]
    },
    {
     "name": "stdout",
     "output_type": "stream",
     "text": [
      "WARNING:tensorflow:5 out of the last 11 calls to <function TensorFlowTrainer.make_test_function.<locals>.one_step_on_iterator at 0x000001CEE3357560> triggered tf.function retracing. Tracing is expensive and the excessive number of tracings could be due to (1) creating @tf.function repeatedly in a loop, (2) passing tensors with different shapes, (3) passing Python objects instead of tensors. For (1), please define your @tf.function outside of the loop. For (2), @tf.function has reduce_retracing=True option that can avoid unnecessary retracing. For (3), please refer to https://www.tensorflow.org/guide/function#controlling_retracing and https://www.tensorflow.org/api_docs/python/tf/function for  more details.\n",
      "\u001b[1m2/2\u001b[0m \u001b[32m━━━━━━━━━━━━━━━━━━━━\u001b[0m\u001b[37m\u001b[0m \u001b[1m1s\u001b[0m 18ms/step - loss: 111.6514 - mae: 8.5402\n",
      "WARNING:tensorflow:5 out of the last 11 calls to <function TensorFlowTrainer.make_predict_function.<locals>.one_step_on_data_distributed at 0x000001CEE3380E00> triggered tf.function retracing. Tracing is expensive and the excessive number of tracings could be due to (1) creating @tf.function repeatedly in a loop, (2) passing tensors with different shapes, (3) passing Python objects instead of tensors. For (1), please define your @tf.function outside of the loop. For (2), @tf.function has reduce_retracing=True option that can avoid unnecessary retracing. For (3), please refer to https://www.tensorflow.org/guide/function#controlling_retracing and https://www.tensorflow.org/api_docs/python/tf/function for  more details.\n",
      "\u001b[1m2/2\u001b[0m \u001b[32m━━━━━━━━━━━━━━━━━━━━\u001b[0m\u001b[37m\u001b[0m \u001b[1m0s\u001b[0m 19ms/step \n",
      "Sample Prediction (PTS): [106.30503  124.99361  116.24621  119.324036 125.97657  127.821754\n",
      " 110.61551  115.48204  107.54977  114.183266]\n",
      "Actual Values (PTS): [119 133 119 132 142 143 119 123 117 106]\n",
      "\n",
      "--- Regression Metrics ---\n",
      "Test Loss (MSE from model): 113.17\n",
      "Test MAE (from model): 8.52\n",
      "Mean Squared Error (MSE): 113.17\n",
      "Root Mean Squared Error (RMSE): 10.64\n",
      "R-Squared (R²): 0.42\n"
     ]
    }
   ],
   "source": [
    "gen_model = load_model(\"general_nn_score_predictor.keras\")\n",
    "# print(\"Model loaded successfully.\")\n",
    "\n",
    "# Evaluate model and test data\n",
    "\n",
    "test_loss, test_mae = gen_model.evaluate(input_test, target_test)\n",
    "\n",
    "# Target prediction\n",
    "gen_predictions = gen_model.predict(input_test)\n",
    "\n",
    "mse = mean_squared_error(target_test, gen_predictions)\n",
    "rmse = np.sqrt(mse)\n",
    "r2 = r2_score(target_test, gen_predictions)\n",
    "\n",
    "print(\"Sample Prediction (PTS):\", gen_predictions[:10].flatten())\n",
    "print(\"Actual Values (PTS):\", target_test[:10].values)\n",
    "\n",
    "print(\"\\n--- Regression Metrics ---\")\n",
    "print(f\"Test Loss (MSE from model): {test_loss:.2f}\")\n",
    "print(f\"Test MAE (from model): {test_mae:.2f}\")\n",
    "print(f\"Mean Squared Error (MSE): {mse:.2f}\")\n",
    "print(f\"Root Mean Squared Error (RMSE): {rmse:.2f}\")\n",
    "print(f\"R-Squared (R²): {r2:.2f}\")\n",
    "\n",
    "gen_results = pd.DataFrame({\n",
    "    \"Actual PTS\": target_test,\n",
    "    \"Predicted PTS\": gen_predictions.flatten()\n",
    "})\n",
    "gen_results.to_csv(\"gen_model_boston_celtics_eval.csv\", index=False)"
   ]
  },
  {
   "cell_type": "code",
   "execution_count": 9,
   "id": "95eec27c-70c2-4862-8728-ac7d2d5ca15d",
   "metadata": {},
   "outputs": [
    {
     "name": "stdout",
     "output_type": "stream",
     "text": [
      "Model saved as 'bos_specific.keras'\n"
     ]
    }
   ],
   "source": [
    "# Save the trained model to a file\n",
    "# model.save(\"bos_specific_nn.keras\")\n",
    "# print(\"Model saved as 'bos_specific.keras'\")"
   ]
  }
 ],
 "metadata": {
  "kernelspec": {
   "display_name": "Python (venv)",
   "language": "python",
   "name": "venv"
  },
  "language_info": {
   "codemirror_mode": {
    "name": "ipython",
    "version": 3
   },
   "file_extension": ".py",
   "mimetype": "text/x-python",
   "name": "python",
   "nbconvert_exporter": "python",
   "pygments_lexer": "ipython3",
   "version": "3.12.6"
  }
 },
 "nbformat": 4,
 "nbformat_minor": 5
}

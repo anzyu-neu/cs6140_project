{
 "cells": [
  {
   "cell_type": "markdown",
   "id": "d520c760-3085-4646-8863-71b3a751e207",
   "metadata": {},
   "source": [
    "# Boston Celtics Specific Model"
   ]
  },
  {
   "cell_type": "code",
   "execution_count": 29,
   "id": "01478d4d-98a3-45cd-8619-a02c62ae97c6",
   "metadata": {},
   "outputs": [],
   "source": [
    "import numpy as np\n",
    "import pandas as pd\n",
    "import tensorflow as tf\n",
    "import matplotlib.pyplot as plt\n",
    "\n",
    "from tensorflow.keras.models import Sequential\n",
    "from tensorflow.keras.layers import Dense, Dropout, Input\n",
    "from tensorflow.keras.optimizers import Adam\n",
    "from sklearn.model_selection import train_test_split\n",
    "from sklearn.preprocessing import StandardScaler\n",
    "from sklearn.metrics import mean_squared_error, mean_absolute_error, r2_score"
   ]
  },
  {
   "cell_type": "markdown",
   "id": "6f8e1c98-1b92-4af6-961e-0261d965140b",
   "metadata": {},
   "source": [
    "## Importing 4 Seasons of NBA Data (2020-2024)"
   ]
  },
  {
   "cell_type": "code",
   "execution_count": 14,
   "id": "7e796f4e-f9f1-4cf0-915d-74bfe07ad51d",
   "metadata": {},
   "outputs": [],
   "source": [
    "season_20 = pd.read_csv('../data_generation/output_data/2020-21_data.csv')\n",
    "season_21 = pd.read_csv('../data_generation/output_data/2021-22_data.csv')\n",
    "season_22 = pd.read_csv('../data_generation/output_data/2022-23_data.csv')\n",
    "season_23 = pd.read_csv('../data_generation/output_data/2023-24_data.csv')\n",
    "\n",
    "combined_seasons = pd.concat([season_20, season_21, season_22, season_23], ignore_index=True)\n",
    "combined_season = combined_seasons.drop_duplicates()\n",
    "combined_seasons = combined_seasons.reset_index(drop=True)\n",
    "\n",
    "# combined_seasons.head(10)"
   ]
  },
  {
   "cell_type": "markdown",
   "id": "69bc09d1-c258-44fc-890c-dc70ad5052cd",
   "metadata": {},
   "source": [
    "## Mapping Team ID to City"
   ]
  },
  {
   "cell_type": "code",
   "execution_count": 18,
   "id": "8b755bac-db9b-45db-a753-27a7aac2915e",
   "metadata": {},
   "outputs": [],
   "source": [
    "TEAM_CITY_MAPPING = {\n",
    "    1610612737: \"Atlanta, GA\",\n",
    "    1610612738: \"Boston, MA\",\n",
    "    1610612739: \"Cleveland, OH\",\n",
    "    1610612740: \"New Orleans, LA\",\n",
    "    1610612741: \"Chicago, IL\",\n",
    "    1610612742: \"Dallas, TX\",\n",
    "    1610612743: \"Denver, CO\",\n",
    "    1610612744: \"San Francisco, CA\",\n",
    "    1610612745: \"Houston, TX\",\n",
    "    1610612746: \"Los Angeles, CA (Lakers)\",\n",
    "    1610612747: \"Los Angeles, CA (Clippers)\",\n",
    "    1610612748: \"Miami, FL\",\n",
    "    1610612749: \"Milwaukee, WI\",\n",
    "    1610612750: \"Minneapolis, MN\",\n",
    "    1610612751: \"Brooklyn, NY\",\n",
    "    1610612752: \"New York, NY\",\n",
    "    1610612753: \"Orlando, FL\",\n",
    "    1610612754: \"Indianapolis, IN\",\n",
    "    1610612755: \"Philadelphia, PA\",\n",
    "    1610612756: \"Phoenix, AZ\",\n",
    "    1610612757: \"Portland, OR\",\n",
    "    1610612758: \"Sacramento, CA\",\n",
    "    1610612759: \"San Antonio, TX\",\n",
    "    1610612760: \"Oklahoma City, OK\",\n",
    "    1610612761: \"Toronto, ON (Canada)\",\n",
    "    1610612762: \"Salt Lake City, Utah\",\n",
    "    1610612763: \"Memphis, TN\",\n",
    "    1610612764: \"Washington, D.C.\",\n",
    "    1610612765: \"Detroit, MI\",\n",
    "    1610612766: \"Charlotte, NC\"\n",
    "}\n",
    "\n",
    "boston_celtics = 1610612738\n",
    "boston_data = combined_seasons.loc[combined_seasons[\"teamId\"] == boston_celtics]\n",
    "\n",
    "# boston_data.head(10)\n"
   ]
  },
  {
   "cell_type": "markdown",
   "id": "d25e5c3e-6b5b-408d-aa39-a18a320d4213",
   "metadata": {},
   "source": [
    "## Prepare features and target value for the Boston Celtics"
   ]
  },
  {
   "cell_type": "code",
   "execution_count": 31,
   "id": "322cfb50-ca47-47be-b513-0d16828afa1f",
   "metadata": {},
   "outputs": [
    {
     "name": "stdout",
     "output_type": "stream",
     "text": [
      "<class 'pandas.core.frame.DataFrame'>\n",
      "Index: 318 entries, 20 to 9526\n",
      "Columns: 126 entries, fieldGoalPercentage_my_player_1 to OPPONENT_WIN_PCT\n",
      "dtypes: float64(123), int64(3)\n",
      "memory usage: 315.5 KB\n",
      "None\n"
     ]
    }
   ],
   "source": [
    "input = boston_data.drop(columns=['PTS'])\n",
    "target = boston_data['PTS']\n",
    "\n",
    "spearman_corr = pd.read_csv('../data_generation/output_data/spearman_corr_features.csv')\n",
    "\n",
    "selected_features = spearman_corr['Feature'].tolist()\n",
    "\n",
    "existing_features = [feature for feature in selected_features if feature in input.columns]\n",
    "\n",
    "input = boston_data[existing_features]\n",
    "input = input.dropna(axis=1)\n",
    "print(input.info()) # 318 entries, 126 columns\n",
    "\n",
    "# Split data est\n",
    "input_train, input_test, target_train, target_test = train_test_split(input, target, test_size=0.2, random_state=0)\n",
    "\n",
    "# Scaling features\n",
    "scaler = StandardScaler()\n",
    "input_train = scaler.fit_transform(input_train)\n",
    "input_test = scaler.transform(input_test)"
   ]
  },
  {
   "cell_type": "markdown",
   "id": "8554561d-2a69-412b-afdb-17eba00919cb",
   "metadata": {},
   "source": [
    "## Define the Model"
   ]
  },
  {
   "cell_type": "code",
   "execution_count": 22,
   "id": "925abdba-6230-4518-9087-df8549e42b78",
   "metadata": {},
   "outputs": [
    {
     "name": "stdout",
     "output_type": "stream",
     "text": [
      "Epoch 1/50\n",
      "\u001b[1m7/7\u001b[0m \u001b[32m━━━━━━━━━━━━━━━━━━━━\u001b[0m\u001b[37m\u001b[0m \u001b[1m1s\u001b[0m 23ms/step - loss: 13470.5205 - mae: 115.3036 - val_loss: 13619.9824 - val_mae: 116.0934\n",
      "Epoch 2/50\n",
      "\u001b[1m7/7\u001b[0m \u001b[32m━━━━━━━━━━━━━━━━━━━━\u001b[0m\u001b[37m\u001b[0m \u001b[1m0s\u001b[0m 6ms/step - loss: 13188.4697 - mae: 114.0675 - val_loss: 13459.3330 - val_mae: 115.3954\n",
      "Epoch 3/50\n",
      "\u001b[1m7/7\u001b[0m \u001b[32m━━━━━━━━━━━━━━━━━━━━\u001b[0m\u001b[37m\u001b[0m \u001b[1m0s\u001b[0m 7ms/step - loss: 13172.1357 - mae: 113.9951 - val_loss: 13288.0010 - val_mae: 114.6496\n",
      "Epoch 4/50\n",
      "\u001b[1m7/7\u001b[0m \u001b[32m━━━━━━━━━━━━━━━━━━━━\u001b[0m\u001b[37m\u001b[0m \u001b[1m0s\u001b[0m 5ms/step - loss: 12790.6650 - mae: 112.2194 - val_loss: 13095.0479 - val_mae: 113.8040\n",
      "Epoch 5/50\n",
      "\u001b[1m7/7\u001b[0m \u001b[32m━━━━━━━━━━━━━━━━━━━━\u001b[0m\u001b[37m\u001b[0m \u001b[1m0s\u001b[0m 5ms/step - loss: 12590.9160 - mae: 111.4007 - val_loss: 12864.0547 - val_mae: 112.7835\n",
      "Epoch 6/50\n",
      "\u001b[1m7/7\u001b[0m \u001b[32m━━━━━━━━━━━━━━━━━━━━\u001b[0m\u001b[37m\u001b[0m \u001b[1m0s\u001b[0m 4ms/step - loss: 12309.7900 - mae: 110.2041 - val_loss: 12582.9277 - val_mae: 111.5308\n",
      "Epoch 7/50\n",
      "\u001b[1m7/7\u001b[0m \u001b[32m━━━━━━━━━━━━━━━━━━━━\u001b[0m\u001b[37m\u001b[0m \u001b[1m0s\u001b[0m 5ms/step - loss: 11923.2344 - mae: 108.3785 - val_loss: 12249.6670 - val_mae: 110.0254\n",
      "Epoch 8/50\n",
      "\u001b[1m7/7\u001b[0m \u001b[32m━━━━━━━━━━━━━━━━━━━━\u001b[0m\u001b[37m\u001b[0m \u001b[1m0s\u001b[0m 5ms/step - loss: 11660.4609 - mae: 107.0777 - val_loss: 11850.8555 - val_mae: 108.1938\n",
      "Epoch 9/50\n",
      "\u001b[1m7/7\u001b[0m \u001b[32m━━━━━━━━━━━━━━━━━━━━\u001b[0m\u001b[37m\u001b[0m \u001b[1m0s\u001b[0m 6ms/step - loss: 11291.1455 - mae: 105.3377 - val_loss: 11384.1689 - val_mae: 106.0100\n",
      "Epoch 10/50\n",
      "\u001b[1m7/7\u001b[0m \u001b[32m━━━━━━━━━━━━━━━━━━━━\u001b[0m\u001b[37m\u001b[0m \u001b[1m0s\u001b[0m 5ms/step - loss: 10581.7988 - mae: 101.8892 - val_loss: 10837.1104 - val_mae: 103.3907\n",
      "Epoch 11/50\n",
      "\u001b[1m7/7\u001b[0m \u001b[32m━━━━━━━━━━━━━━━━━━━━\u001b[0m\u001b[37m\u001b[0m \u001b[1m0s\u001b[0m 5ms/step - loss: 9828.9531 - mae: 97.9985 - val_loss: 10206.6777 - val_mae: 100.2854\n",
      "Epoch 12/50\n",
      "\u001b[1m7/7\u001b[0m \u001b[32m━━━━━━━━━━━━━━━━━━━━\u001b[0m\u001b[37m\u001b[0m \u001b[1m0s\u001b[0m 4ms/step - loss: 9285.3867 - mae: 95.1649 - val_loss: 9486.9658 - val_mae: 96.5997\n",
      "Epoch 13/50\n",
      "\u001b[1m7/7\u001b[0m \u001b[32m━━━━━━━━━━━━━━━━━━━━\u001b[0m\u001b[37m\u001b[0m \u001b[1m0s\u001b[0m 4ms/step - loss: 8375.1943 - mae: 90.1764 - val_loss: 8693.0869 - val_mae: 92.3581\n",
      "Epoch 14/50\n",
      "\u001b[1m7/7\u001b[0m \u001b[32m━━━━━━━━━━━━━━━━━━━━\u001b[0m\u001b[37m\u001b[0m \u001b[1m0s\u001b[0m 4ms/step - loss: 7619.1953 - mae: 85.7027 - val_loss: 7826.4424 - val_mae: 87.4718\n",
      "Epoch 15/50\n",
      "\u001b[1m7/7\u001b[0m \u001b[32m━━━━━━━━━━━━━━━━━━━━\u001b[0m\u001b[37m\u001b[0m \u001b[1m0s\u001b[0m 5ms/step - loss: 6563.4263 - mae: 78.8986 - val_loss: 6905.6450 - val_mae: 81.9397\n",
      "Epoch 16/50\n",
      "\u001b[1m7/7\u001b[0m \u001b[32m━━━━━━━━━━━━━━━━━━━━\u001b[0m\u001b[37m\u001b[0m \u001b[1m0s\u001b[0m 5ms/step - loss: 5402.7900 - mae: 70.8463 - val_loss: 5952.7524 - val_mae: 75.7646\n",
      "Epoch 17/50\n",
      "\u001b[1m7/7\u001b[0m \u001b[32m━━━━━━━━━━━━━━━━━━━━\u001b[0m\u001b[37m\u001b[0m \u001b[1m0s\u001b[0m 5ms/step - loss: 4359.8096 - mae: 63.5542 - val_loss: 5014.0498 - val_mae: 69.0851\n",
      "Epoch 18/50\n",
      "\u001b[1m7/7\u001b[0m \u001b[32m━━━━━━━━━━━━━━━━━━━━\u001b[0m\u001b[37m\u001b[0m \u001b[1m0s\u001b[0m 5ms/step - loss: 3701.0928 - mae: 57.1727 - val_loss: 4121.8462 - val_mae: 62.0338\n",
      "Epoch 19/50\n",
      "\u001b[1m7/7\u001b[0m \u001b[32m━━━━━━━━━━━━━━━━━━━━\u001b[0m\u001b[37m\u001b[0m \u001b[1m0s\u001b[0m 5ms/step - loss: 2792.0063 - mae: 48.4442 - val_loss: 3333.4016 - val_mae: 54.9965\n",
      "Epoch 20/50\n",
      "\u001b[1m7/7\u001b[0m \u001b[32m━━━━━━━━━━━━━━━━━━━━\u001b[0m\u001b[37m\u001b[0m \u001b[1m0s\u001b[0m 6ms/step - loss: 2207.8311 - mae: 41.7792 - val_loss: 2648.6191 - val_mae: 47.9553\n",
      "Epoch 21/50\n",
      "\u001b[1m7/7\u001b[0m \u001b[32m━━━━━━━━━━━━━━━━━━━━\u001b[0m\u001b[37m\u001b[0m \u001b[1m0s\u001b[0m 5ms/step - loss: 1704.8026 - mae: 35.5577 - val_loss: 2101.7476 - val_mae: 41.6747\n",
      "Epoch 22/50\n",
      "\u001b[1m7/7\u001b[0m \u001b[32m━━━━━━━━━━━━━━━━━━━━\u001b[0m\u001b[37m\u001b[0m \u001b[1m0s\u001b[0m 6ms/step - loss: 1233.2754 - mae: 29.9157 - val_loss: 1709.3665 - val_mae: 36.8674\n",
      "Epoch 23/50\n",
      "\u001b[1m7/7\u001b[0m \u001b[32m━━━━━━━━━━━━━━━━━━━━\u001b[0m\u001b[37m\u001b[0m \u001b[1m0s\u001b[0m 5ms/step - loss: 1105.8612 - mae: 28.1030 - val_loss: 1434.3025 - val_mae: 33.1598\n",
      "Epoch 24/50\n",
      "\u001b[1m7/7\u001b[0m \u001b[32m━━━━━━━━━━━━━━━━━━━━\u001b[0m\u001b[37m\u001b[0m \u001b[1m0s\u001b[0m 5ms/step - loss: 959.2261 - mae: 25.3461 - val_loss: 1244.1904 - val_mae: 30.2955\n",
      "Epoch 25/50\n",
      "\u001b[1m7/7\u001b[0m \u001b[32m━━━━━━━━━━━━━━━━━━━━\u001b[0m\u001b[37m\u001b[0m \u001b[1m0s\u001b[0m 5ms/step - loss: 803.3420 - mae: 21.9849 - val_loss: 1122.9738 - val_mae: 28.3334\n",
      "Epoch 26/50\n",
      "\u001b[1m7/7\u001b[0m \u001b[32m━━━━━━━━━━━━━━━━━━━━\u001b[0m\u001b[37m\u001b[0m \u001b[1m0s\u001b[0m 5ms/step - loss: 836.1851 - mae: 23.1361 - val_loss: 1036.4031 - val_mae: 26.9221\n",
      "Epoch 27/50\n",
      "\u001b[1m7/7\u001b[0m \u001b[32m━━━━━━━━━━━━━━━━━━━━\u001b[0m\u001b[37m\u001b[0m \u001b[1m0s\u001b[0m 8ms/step - loss: 796.5945 - mae: 22.8991 - val_loss: 1002.7206 - val_mae: 26.4591\n",
      "Epoch 28/50\n",
      "\u001b[1m7/7\u001b[0m \u001b[32m━━━━━━━━━━━━━━━━━━━━\u001b[0m\u001b[37m\u001b[0m \u001b[1m0s\u001b[0m 5ms/step - loss: 721.0613 - mae: 21.6048 - val_loss: 965.6696 - val_mae: 25.8553\n",
      "Epoch 29/50\n",
      "\u001b[1m7/7\u001b[0m \u001b[32m━━━━━━━━━━━━━━━━━━━━\u001b[0m\u001b[37m\u001b[0m \u001b[1m0s\u001b[0m 5ms/step - loss: 711.9581 - mae: 21.1737 - val_loss: 941.4023 - val_mae: 25.4609\n",
      "Epoch 30/50\n",
      "\u001b[1m7/7\u001b[0m \u001b[32m━━━━━━━━━━━━━━━━━━━━\u001b[0m\u001b[37m\u001b[0m \u001b[1m0s\u001b[0m 5ms/step - loss: 639.8207 - mae: 20.5529 - val_loss: 917.1236 - val_mae: 25.0605\n",
      "Epoch 31/50\n",
      "\u001b[1m7/7\u001b[0m \u001b[32m━━━━━━━━━━━━━━━━━━━━\u001b[0m\u001b[37m\u001b[0m \u001b[1m0s\u001b[0m 5ms/step - loss: 582.7061 - mae: 19.7063 - val_loss: 897.9711 - val_mae: 24.6773\n",
      "Epoch 32/50\n",
      "\u001b[1m7/7\u001b[0m \u001b[32m━━━━━━━━━━━━━━━━━━━━\u001b[0m\u001b[37m\u001b[0m \u001b[1m0s\u001b[0m 5ms/step - loss: 547.8381 - mae: 18.7582 - val_loss: 857.7073 - val_mae: 23.8087\n",
      "Epoch 33/50\n",
      "\u001b[1m7/7\u001b[0m \u001b[32m━━━━━━━━━━━━━━━━━━━━\u001b[0m\u001b[37m\u001b[0m \u001b[1m0s\u001b[0m 6ms/step - loss: 462.6575 - mae: 16.6986 - val_loss: 829.2659 - val_mae: 23.2209\n",
      "Epoch 34/50\n",
      "\u001b[1m7/7\u001b[0m \u001b[32m━━━━━━━━━━━━━━━━━━━━\u001b[0m\u001b[37m\u001b[0m \u001b[1m0s\u001b[0m 6ms/step - loss: 455.7038 - mae: 16.7589 - val_loss: 803.2109 - val_mae: 22.7183\n",
      "Epoch 35/50\n",
      "\u001b[1m7/7\u001b[0m \u001b[32m━━━━━━━━━━━━━━━━━━━━\u001b[0m\u001b[37m\u001b[0m \u001b[1m0s\u001b[0m 5ms/step - loss: 536.9109 - mae: 18.4909 - val_loss: 782.4021 - val_mae: 22.3925\n",
      "Epoch 36/50\n",
      "\u001b[1m7/7\u001b[0m \u001b[32m━━━━━━━━━━━━━━━━━━━━\u001b[0m\u001b[37m\u001b[0m \u001b[1m0s\u001b[0m 4ms/step - loss: 486.0369 - mae: 17.7540 - val_loss: 762.2303 - val_mae: 22.0148\n",
      "Epoch 37/50\n",
      "\u001b[1m7/7\u001b[0m \u001b[32m━━━━━━━━━━━━━━━━━━━━\u001b[0m\u001b[37m\u001b[0m \u001b[1m0s\u001b[0m 5ms/step - loss: 556.4844 - mae: 18.9930 - val_loss: 758.8735 - val_mae: 21.9282\n",
      "Epoch 38/50\n",
      "\u001b[1m7/7\u001b[0m \u001b[32m━━━━━━━━━━━━━━━━━━━━\u001b[0m\u001b[37m\u001b[0m \u001b[1m0s\u001b[0m 5ms/step - loss: 431.3320 - mae: 16.8090 - val_loss: 752.7962 - val_mae: 21.7897\n",
      "Epoch 39/50\n",
      "\u001b[1m7/7\u001b[0m \u001b[32m━━━━━━━━━━━━━━━━━━━━\u001b[0m\u001b[37m\u001b[0m \u001b[1m0s\u001b[0m 5ms/step - loss: 405.1414 - mae: 16.3948 - val_loss: 750.2185 - val_mae: 21.7133\n",
      "Epoch 40/50\n",
      "\u001b[1m7/7\u001b[0m \u001b[32m━━━━━━━━━━━━━━━━━━━━\u001b[0m\u001b[37m\u001b[0m \u001b[1m0s\u001b[0m 5ms/step - loss: 407.6734 - mae: 16.1814 - val_loss: 745.3840 - val_mae: 21.6531\n",
      "Epoch 41/50\n",
      "\u001b[1m7/7\u001b[0m \u001b[32m━━━━━━━━━━━━━━━━━━━━\u001b[0m\u001b[37m\u001b[0m \u001b[1m0s\u001b[0m 5ms/step - loss: 440.1458 - mae: 16.6726 - val_loss: 736.9044 - val_mae: 21.4951\n",
      "Epoch 42/50\n",
      "\u001b[1m7/7\u001b[0m \u001b[32m━━━━━━━━━━━━━━━━━━━━\u001b[0m\u001b[37m\u001b[0m \u001b[1m0s\u001b[0m 5ms/step - loss: 366.2613 - mae: 14.9837 - val_loss: 736.0818 - val_mae: 21.5119\n",
      "Epoch 43/50\n",
      "\u001b[1m7/7\u001b[0m \u001b[32m━━━━━━━━━━━━━━━━━━━━\u001b[0m\u001b[37m\u001b[0m \u001b[1m0s\u001b[0m 4ms/step - loss: 358.8434 - mae: 15.0420 - val_loss: 743.5889 - val_mae: 21.6914\n",
      "Epoch 44/50\n",
      "\u001b[1m7/7\u001b[0m \u001b[32m━━━━━━━━━━━━━━━━━━━━\u001b[0m\u001b[37m\u001b[0m \u001b[1m0s\u001b[0m 5ms/step - loss: 452.7100 - mae: 16.9720 - val_loss: 735.2814 - val_mae: 21.5645\n",
      "Epoch 45/50\n",
      "\u001b[1m7/7\u001b[0m \u001b[32m━━━━━━━━━━━━━━━━━━━━\u001b[0m\u001b[37m\u001b[0m \u001b[1m0s\u001b[0m 5ms/step - loss: 397.5486 - mae: 16.3207 - val_loss: 721.7010 - val_mae: 21.3964\n",
      "Epoch 46/50\n",
      "\u001b[1m7/7\u001b[0m \u001b[32m━━━━━━━━━━━━━━━━━━━━\u001b[0m\u001b[37m\u001b[0m \u001b[1m0s\u001b[0m 4ms/step - loss: 351.9953 - mae: 14.9000 - val_loss: 711.0382 - val_mae: 21.2334\n",
      "Epoch 47/50\n",
      "\u001b[1m7/7\u001b[0m \u001b[32m━━━━━━━━━━━━━━━━━━━━\u001b[0m\u001b[37m\u001b[0m \u001b[1m0s\u001b[0m 5ms/step - loss: 291.9444 - mae: 13.4442 - val_loss: 698.8226 - val_mae: 20.9677\n",
      "Epoch 48/50\n",
      "\u001b[1m7/7\u001b[0m \u001b[32m━━━━━━━━━━━━━━━━━━━━\u001b[0m\u001b[37m\u001b[0m \u001b[1m0s\u001b[0m 6ms/step - loss: 371.0780 - mae: 15.5044 - val_loss: 702.3148 - val_mae: 20.9071\n",
      "Epoch 49/50\n",
      "\u001b[1m7/7\u001b[0m \u001b[32m━━━━━━━━━━━━━━━━━━━━\u001b[0m\u001b[37m\u001b[0m \u001b[1m0s\u001b[0m 5ms/step - loss: 325.7993 - mae: 14.4528 - val_loss: 704.8842 - val_mae: 20.8952\n",
      "Epoch 50/50\n",
      "\u001b[1m7/7\u001b[0m \u001b[32m━━━━━━━━━━━━━━━━━━━━\u001b[0m\u001b[37m\u001b[0m \u001b[1m0s\u001b[0m 6ms/step - loss: 299.0474 - mae: 14.2960 - val_loss: 692.9823 - val_mae: 20.5247\n"
     ]
    }
   ],
   "source": [
    "# Initialize sequential model \n",
    "model = Sequential([\n",
    "    Input(shape=(input_train.shape[1],)), # define input shape\n",
    "    Dense(64, activation='relu'), # first hidden layer with 64 units\n",
    "    Dropout(0.2),\n",
    "    Dense(32, activation='relu'), # second hidden layer with 32 units\n",
    "    Dense(1) # OUtput with target (PTS)\n",
    "])\n",
    "\n",
    "# Compile the model \n",
    "model.compile(optimizer=Adam(learning_rate=0.001), loss='mean_squared_error', metrics=['mae'])\n",
    "\n",
    "# Train the model\n",
    "history = model.fit(input_train, target_train, epochs=50, batch_size=32, validation_split=0.2)"
   ]
  },
  {
   "cell_type": "markdown",
   "id": "c7dd21a8-be06-4855-aae6-2c2acec9fed8",
   "metadata": {},
   "source": [
    "## Visualize History"
   ]
  },
  {
   "cell_type": "code",
   "execution_count": 24,
   "id": "9532734d-b604-478d-8bda-74bb4f935eb1",
   "metadata": {},
   "outputs": [
    {
     "data": {
      "image/png": "[encoded data removed]",
      "text/plain": [
       "<Figure size 640x480 with 1 Axes>"
      ]
     },
     "metadata": {},
     "output_type": "display_data"
    }
   ],
   "source": [
    "plt.plot(history.history['loss'], label = 'Training Loss')\n",
    "plt.plot(history.history['val_loss'], label = 'Validation Loss')\n",
    "plt.xlabel('Epoch')\n",
    "plt.ylabel('Mean Squared Error')\n",
    "plt.legend()\n",
    "plt.show()"
   ]
  },
  {
   "cell_type": "markdown",
   "id": "3789ae7e-0f6e-4161-9159-9b7e9275a7e7",
   "metadata": {},
   "source": [
    "## Evaluation and Sample Target Prediction"
   ]
  },
  {
   "cell_type": "code",
   "execution_count": 32,
   "id": "a30152b8-c4af-4dc4-99a7-e7e9a72a07d5",
   "metadata": {},
   "outputs": [
    {
     "name": "stdout",
     "output_type": "stream",
     "text": [
      "\u001b[1m2/2\u001b[0m \u001b[32m━━━━━━━━━━━━━━━━━━━━\u001b[0m\u001b[37m\u001b[0m \u001b[1m0s\u001b[0m 27ms/step - loss: 682.3865 - mae: 21.2291\n",
      "\u001b[1m2/2\u001b[0m \u001b[32m━━━━━━━━━━━━━━━━━━━━\u001b[0m\u001b[37m\u001b[0m \u001b[1m0s\u001b[0m 4ms/step \n",
      "\n",
      "--- Regression Metrics ---\n",
      "Test Loss (MSE from model): 713.21\n",
      "Test MAE (from model): 21.63\n",
      "Mean Squared Error (MSE): 713.21\n",
      "Root Mean Squared Error (RMSE): 26.71\n",
      "R-Squared (R²): -2.67\n",
      "Sample Prediction (PTS): [120.49426  114.38086   72.3569   128.16924   94.969215  95.53525\n",
      " 125.48424   96.14725   94.501656  95.55707 ]\n",
      "Actual Values (PTS): [119 133 119 132 142 143 119 123 117 106]\n"
     ]
    }
   ],
   "source": [
    "# Evaluate model and test data\n",
    "test_loss, test_mae = model.evaluate(input_test, target_test)\n",
    "\n",
    "# Target prediction\n",
    "sample_predictions = model.predict(input_test)\n",
    "\n",
    "mse = mean_squared_error(target_test, sample_predictions)\n",
    "rmse = np.sqrt(mse)\n",
    "r2 = r2_score(target_test, sample_predictions)\n",
    "\n",
    "print(\"\\n--- Regression Metrics ---\")\n",
    "print(f\"Test Loss (MSE from model): {test_loss:.2f}\")\n",
    "print(f\"Test MAE (from model): {test_mae:.2f}\")\n",
    "print(f\"Mean Squared Error (MSE): {mse:.2f}\")\n",
    "print(f\"Root Mean Squared Error (RMSE): {rmse:.2f}\")\n",
    "print(f\"R-Squared (R²): {r2:.2f}\")\n",
    "\n",
    "print(\"Sample Prediction (PTS):\", sample_predictions[:10].flatten())\n",
    "print(\"Actual Values (PTS):\", target_test[:10].values)\n",
    "\n",
    "bos_results = pd.DataFrame({\n",
    "    \"Actual PTS\": target_test,\n",
    "    \"Predicted PTS\": sample_predictions.flatten()\n",
    "})\n",
    "\n",
    "# bos_results.to_csv(\"boston_celtics_model_eval.csv\", index=False)"
   ]
  },
  {
   "cell_type": "code",
   "execution_count": null,
   "id": "95eec27c-70c2-4862-8728-ac7d2d5ca15d",
   "metadata": {},
   "outputs": [],
   "source": []
  }
 ],
 "metadata": {
  "kernelspec": {
   "display_name": "Python (venv)",
   "language": "python",
   "name": "venv"
  },
  "language_info": {
   "codemirror_mode": {
    "name": "ipython",
    "version": 3
   },
   "file_extension": ".py",
   "mimetype": "text/x-python",
   "name": "python",
   "nbconvert_exporter": "python",
   "pygments_lexer": "ipython3",
   "version": "3.12.2"
  }
 },
 "nbformat": 4,
 "nbformat_minor": 5
}

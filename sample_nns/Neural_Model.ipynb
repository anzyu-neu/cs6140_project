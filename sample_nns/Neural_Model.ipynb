{
 "cells": [
  {
   "cell_type": "markdown",
   "id": "d9d833dc-c036-4280-9005-622fa95687bb",
   "metadata": {},
   "source": [
    "# Neural Network Training"
   ]
  },
  {
   "cell_type": "code",
   "execution_count": 3,
   "id": "ab282edf-7018-4cbd-b2f5-68d512306c85",
   "metadata": {},
   "outputs": [],
   "source": [
    "import numpy as np\n",
    "import pandas as pd\n",
    "import tensorflow as tf\n",
    "import matplotlib.pyplot as plt\n",
    "\n",
    "from tensorflow.keras.models import Sequential\n",
    "from tensorflow.keras.layers import Dense, Dropout, Input\n",
    "from tensorflow.keras.optimizers import Adam\n",
    "from sklearn.model_selection import train_test_split\n",
    "from sklearn.preprocessing import StandardScaler\n",
    "from sklearn.metrics import mean_squared_error, mean_absolute_error, r2_score"
   ]
  },
  {
   "cell_type": "markdown",
   "id": "8d10ed1d-83ff-470a-81c6-62cc1a180fb3",
   "metadata": {},
   "source": [
    "## Importing 4 Seasons of NBA Data (2020-2024)"
   ]
  },
  {
   "cell_type": "code",
   "execution_count": 4,
   "id": "9d1e054f-a7ca-4ede-b096-e5a4d73d8507",
   "metadata": {},
   "outputs": [],
   "source": [
    "season_20 = pd.read_csv('../data_generation/output_data/2020-21_data.csv')\n",
    "season_21 = pd.read_csv('../data_generation/output_data/2021-22_data.csv')\n",
    "season_22 = pd.read_csv('../data_generation/output_data/2022-23_data.csv')\n",
    "season_23 = pd.read_csv('../data_generation/output_data/2023-24_data.csv')\n",
    "\n",
    "combined_seasons = pd.concat([season_20, season_21, season_22, season_23], ignore_index=True)\n",
    "combined_season = combined_seasons.drop_duplicates()\n",
    "combined_seasons = combined_seasons.reset_index(drop=True)\n",
    "\n",
    "# combined_seasons.head(10)"
   ]
  },
  {
   "cell_type": "markdown",
   "id": "f278b5f2-11d5-496c-a1bb-f3af90fb384a",
   "metadata": {},
   "source": [
    "## Prepare features and target value"
   ]
  },
  {
   "cell_type": "code",
   "execution_count": 15,
   "id": "8c6fa54a-c9c5-44ac-82d5-ab5d55fd9b44",
   "metadata": {},
   "outputs": [],
   "source": [
    "# Drop target and prepare input\n",
    "input = combined_seasons.drop(columns=['PTS'])\n",
    "target = combined_seasons['PTS']\n",
    "\n",
    "# Load selected features\n",
    "spearman_corr = pd.read_csv('../data_generation/output_data/spearman_corr_features.csv')\n",
    "selected_features = spearman_corr['Feature'].tolist()\n",
    "selected_features.append('teamId')\n",
    "\n",
    "# Ensure no mismatching features\n",
    "existing_features = [feature for feature in selected_features if feature in input.columns]\n",
    "\n",
    "# # Filter for Boston Celtics data for testing\n",
    "# bos_team_id = 1610612738\n",
    "# boston_data = combined_seasons.loc[combined_seasons[\"teamId\"] == bos_team_id]\n",
    "# # print(boston_data.info()) 318 entries\n",
    "\n",
    "# existing_features.remove('teamId')\n",
    "\n",
    "# # Create input_test and target_test specifically for Boston Celtics\n",
    "# input_test_bos = boston_data[existing_features]\n",
    "# target_test_bos = boston_data['PTS']\n",
    "\n",
    "# Create input for general model\n",
    "input = combined_seasons[existing_features]\n",
    "input = input.dropna(axis=1)\n",
    "# print(input.info())  # 126 cols, 9540 rows\n",
    "\n",
    "# Split into train and test set\n",
    "input_train, input_test, target_train, target_test = train_test_split(input, target, test_size=0.2, random_state=0)\n",
    "\n",
    "# Scale features\n",
    "scaler = StandardScaler()\n",
    "input_train = scaler.fit_transform(input_train)\n",
    "input_test = scaler.transform(input_test)\n",
    "\n",
    "# input_test_bos = scaler.fit_transform(input_test_bos)"
   ]
  },
  {
   "cell_type": "markdown",
   "id": "5405ce6a-4db0-478a-a451-0054427a7c90",
   "metadata": {},
   "source": [
    "## Define the model"
   ]
  },
  {
   "cell_type": "code",
   "execution_count": 8,
   "id": "5913a211-81a7-4a11-80f2-2f3a3b0abf60",
   "metadata": {},
   "outputs": [
    {
     "name": "stdout",
     "output_type": "stream",
     "text": [
      "Epoch 1/50\n",
      "\u001b[1m191/191\u001b[0m \u001b[32m━━━━━━━━━━━━━━━━━━━━\u001b[0m\u001b[37m\u001b[0m \u001b[1m6s\u001b[0m 9ms/step - loss: 10297.9697 - mae: 98.6177 - val_loss: 721.3893 - val_mae: 21.2832\n",
      "Epoch 2/50\n",
      "\u001b[1m191/191\u001b[0m \u001b[32m━━━━━━━━━━━━━━━━━━━━\u001b[0m\u001b[37m\u001b[0m \u001b[1m1s\u001b[0m 6ms/step - loss: 755.3297 - mae: 22.2768 - val_loss: 484.8841 - val_mae: 17.7727\n",
      "Epoch 3/50\n",
      "\u001b[1m191/191\u001b[0m \u001b[32m━━━━━━━━━━━━━━━━━━━━\u001b[0m\u001b[37m\u001b[0m \u001b[1m1s\u001b[0m 6ms/step - loss: 569.7076 - mae: 19.2374 - val_loss: 409.6298 - val_mae: 16.2586\n",
      "Epoch 4/50\n",
      "\u001b[1m191/191\u001b[0m \u001b[32m━━━━━━━━━━━━━━━━━━━━\u001b[0m\u001b[37m\u001b[0m \u001b[1m1s\u001b[0m 6ms/step - loss: 475.0464 - mae: 17.4236 - val_loss: 370.9289 - val_mae: 15.4753\n",
      "Epoch 5/50\n",
      "\u001b[1m191/191\u001b[0m \u001b[32m━━━━━━━━━━━━━━━━━━━━\u001b[0m\u001b[37m\u001b[0m \u001b[1m1s\u001b[0m 5ms/step - loss: 446.7646 - mae: 16.9353 - val_loss: 326.4274 - val_mae: 14.5623\n",
      "Epoch 6/50\n",
      "\u001b[1m191/191\u001b[0m \u001b[32m━━━━━━━━━━━━━━━━━━━━\u001b[0m\u001b[37m\u001b[0m \u001b[1m1s\u001b[0m 5ms/step - loss: 401.7057 - mae: 16.1602 - val_loss: 301.3380 - val_mae: 14.0154\n",
      "Epoch 7/50\n",
      "\u001b[1m191/191\u001b[0m \u001b[32m━━━━━━━━━━━━━━━━━━━━\u001b[0m\u001b[37m\u001b[0m \u001b[1m1s\u001b[0m 5ms/step - loss: 379.1034 - mae: 15.6674 - val_loss: 277.7659 - val_mae: 13.4130\n",
      "Epoch 8/50\n",
      "\u001b[1m191/191\u001b[0m \u001b[32m━━━━━━━━━━━━━━━━━━━━\u001b[0m\u001b[37m\u001b[0m \u001b[1m1s\u001b[0m 6ms/step - loss: 336.6230 - mae: 14.6576 - val_loss: 251.6352 - val_mae: 12.7845\n",
      "Epoch 9/50\n",
      "\u001b[1m191/191\u001b[0m \u001b[32m━━━━━━━━━━━━━━━━━━━━\u001b[0m\u001b[37m\u001b[0m \u001b[1m1s\u001b[0m 6ms/step - loss: 323.7110 - mae: 14.3670 - val_loss: 241.1449 - val_mae: 12.4151\n",
      "Epoch 10/50\n",
      "\u001b[1m191/191\u001b[0m \u001b[32m━━━━━━━━━━━━━━━━━━━━\u001b[0m\u001b[37m\u001b[0m \u001b[1m1s\u001b[0m 5ms/step - loss: 307.7826 - mae: 14.0439 - val_loss: 218.8342 - val_mae: 11.8631\n",
      "Epoch 11/50\n",
      "\u001b[1m191/191\u001b[0m \u001b[32m━━━━━━━━━━━━━━━━━━━━\u001b[0m\u001b[37m\u001b[0m \u001b[1m1s\u001b[0m 5ms/step - loss: 280.6470 - mae: 13.3743 - val_loss: 203.8683 - val_mae: 11.4431\n",
      "Epoch 12/50\n",
      "\u001b[1m191/191\u001b[0m \u001b[32m━━━━━━━━━━━━━━━━━━━━\u001b[0m\u001b[37m\u001b[0m \u001b[1m1s\u001b[0m 4ms/step - loss: 255.3370 - mae: 12.6952 - val_loss: 195.9898 - val_mae: 11.2256\n",
      "Epoch 13/50\n",
      "\u001b[1m191/191\u001b[0m \u001b[32m━━━━━━━━━━━━━━━━━━━━\u001b[0m\u001b[37m\u001b[0m \u001b[1m1s\u001b[0m 5ms/step - loss: 259.3384 - mae: 12.7812 - val_loss: 181.8707 - val_mae: 10.8395\n",
      "Epoch 14/50\n",
      "\u001b[1m191/191\u001b[0m \u001b[32m━━━━━━━━━━━━━━━━━━━━\u001b[0m\u001b[37m\u001b[0m \u001b[1m1s\u001b[0m 5ms/step - loss: 231.7709 - mae: 12.1506 - val_loss: 172.1628 - val_mae: 10.5161\n",
      "Epoch 15/50\n",
      "\u001b[1m191/191\u001b[0m \u001b[32m━━━━━━━━━━━━━━━━━━━━\u001b[0m\u001b[37m\u001b[0m \u001b[1m1s\u001b[0m 5ms/step - loss: 217.3488 - mae: 11.7887 - val_loss: 158.8756 - val_mae: 10.1045\n",
      "Epoch 16/50\n",
      "\u001b[1m191/191\u001b[0m \u001b[32m━━━━━━━━━━━━━━━━━━━━\u001b[0m\u001b[37m\u001b[0m \u001b[1m1s\u001b[0m 5ms/step - loss: 207.3519 - mae: 11.5089 - val_loss: 156.0077 - val_mae: 10.0486\n",
      "Epoch 17/50\n",
      "\u001b[1m191/191\u001b[0m \u001b[32m━━━━━━━━━━━━━━━━━━━━\u001b[0m\u001b[37m\u001b[0m \u001b[1m1s\u001b[0m 4ms/step - loss: 205.4713 - mae: 11.3696 - val_loss: 144.0994 - val_mae: 9.6842\n",
      "Epoch 18/50\n",
      "\u001b[1m191/191\u001b[0m \u001b[32m━━━━━━━━━━━━━━━━━━━━\u001b[0m\u001b[37m\u001b[0m \u001b[1m1s\u001b[0m 6ms/step - loss: 193.9202 - mae: 11.0679 - val_loss: 143.3282 - val_mae: 9.6363\n",
      "Epoch 19/50\n",
      "\u001b[1m191/191\u001b[0m \u001b[32m━━━━━━━━━━━━━━━━━━━━\u001b[0m\u001b[37m\u001b[0m \u001b[1m1s\u001b[0m 5ms/step - loss: 185.8518 - mae: 10.7553 - val_loss: 133.3729 - val_mae: 9.2791\n",
      "Epoch 20/50\n",
      "\u001b[1m191/191\u001b[0m \u001b[32m━━━━━━━━━━━━━━━━━━━━\u001b[0m\u001b[37m\u001b[0m \u001b[1m1s\u001b[0m 5ms/step - loss: 184.7972 - mae: 10.8976 - val_loss: 129.5320 - val_mae: 9.1421\n",
      "Epoch 21/50\n",
      "\u001b[1m191/191\u001b[0m \u001b[32m━━━━━━━━━━━━━━━━━━━━\u001b[0m\u001b[37m\u001b[0m \u001b[1m1s\u001b[0m 5ms/step - loss: 171.8655 - mae: 10.3964 - val_loss: 122.8692 - val_mae: 8.9371\n",
      "Epoch 22/50\n",
      "\u001b[1m191/191\u001b[0m \u001b[32m━━━━━━━━━━━━━━━━━━━━\u001b[0m\u001b[37m\u001b[0m \u001b[1m1s\u001b[0m 6ms/step - loss: 170.2968 - mae: 10.3793 - val_loss: 120.3375 - val_mae: 8.8238\n",
      "Epoch 23/50\n",
      "\u001b[1m191/191\u001b[0m \u001b[32m━━━━━━━━━━━━━━━━━━━━\u001b[0m\u001b[37m\u001b[0m \u001b[1m1s\u001b[0m 5ms/step - loss: 170.8536 - mae: 10.5170 - val_loss: 117.3243 - val_mae: 8.6726\n",
      "Epoch 24/50\n",
      "\u001b[1m191/191\u001b[0m \u001b[32m━━━━━━━━━━━━━━━━━━━━\u001b[0m\u001b[37m\u001b[0m \u001b[1m1s\u001b[0m 5ms/step - loss: 154.9635 - mae: 9.8861 - val_loss: 111.5209 - val_mae: 8.4802\n",
      "Epoch 25/50\n",
      "\u001b[1m191/191\u001b[0m \u001b[32m━━━━━━━━━━━━━━━━━━━━\u001b[0m\u001b[37m\u001b[0m \u001b[1m1s\u001b[0m 5ms/step - loss: 160.5527 - mae: 10.1031 - val_loss: 114.8872 - val_mae: 8.5760\n",
      "Epoch 26/50\n",
      "\u001b[1m191/191\u001b[0m \u001b[32m━━━━━━━━━━━━━━━━━━━━\u001b[0m\u001b[37m\u001b[0m \u001b[1m1s\u001b[0m 5ms/step - loss: 158.6014 - mae: 10.0698 - val_loss: 106.7507 - val_mae: 8.2290\n",
      "Epoch 27/50\n",
      "\u001b[1m191/191\u001b[0m \u001b[32m━━━━━━━━━━━━━━━━━━━━\u001b[0m\u001b[37m\u001b[0m \u001b[1m1s\u001b[0m 6ms/step - loss: 150.3046 - mae: 9.7573 - val_loss: 106.3908 - val_mae: 8.1971\n",
      "Epoch 28/50\n",
      "\u001b[1m191/191\u001b[0m \u001b[32m━━━━━━━━━━━━━━━━━━━━\u001b[0m\u001b[37m\u001b[0m \u001b[1m1s\u001b[0m 6ms/step - loss: 139.6389 - mae: 9.4024 - val_loss: 102.0558 - val_mae: 8.0581\n",
      "Epoch 29/50\n",
      "\u001b[1m191/191\u001b[0m \u001b[32m━━━━━━━━━━━━━━━━━━━━\u001b[0m\u001b[37m\u001b[0m \u001b[1m1s\u001b[0m 6ms/step - loss: 146.8989 - mae: 9.5633 - val_loss: 107.2727 - val_mae: 8.2601\n",
      "Epoch 30/50\n",
      "\u001b[1m191/191\u001b[0m \u001b[32m━━━━━━━━━━━━━━━━━━━━\u001b[0m\u001b[37m\u001b[0m \u001b[1m1s\u001b[0m 6ms/step - loss: 144.1961 - mae: 9.6109 - val_loss: 103.7293 - val_mae: 8.1029\n",
      "Epoch 31/50\n",
      "\u001b[1m191/191\u001b[0m \u001b[32m━━━━━━━━━━━━━━━━━━━━\u001b[0m\u001b[37m\u001b[0m \u001b[1m1s\u001b[0m 6ms/step - loss: 141.1230 - mae: 9.4406 - val_loss: 95.6493 - val_mae: 7.8247\n",
      "Epoch 32/50\n",
      "\u001b[1m191/191\u001b[0m \u001b[32m━━━━━━━━━━━━━━━━━━━━\u001b[0m\u001b[37m\u001b[0m \u001b[1m1s\u001b[0m 6ms/step - loss: 138.9441 - mae: 9.3342 - val_loss: 102.2407 - val_mae: 8.0708\n",
      "Epoch 33/50\n",
      "\u001b[1m191/191\u001b[0m \u001b[32m━━━━━━━━━━━━━━━━━━━━\u001b[0m\u001b[37m\u001b[0m \u001b[1m1s\u001b[0m 6ms/step - loss: 138.3982 - mae: 9.3206 - val_loss: 101.8487 - val_mae: 8.0944\n",
      "Epoch 34/50\n",
      "\u001b[1m191/191\u001b[0m \u001b[32m━━━━━━━━━━━━━━━━━━━━\u001b[0m\u001b[37m\u001b[0m \u001b[1m1s\u001b[0m 6ms/step - loss: 131.4569 - mae: 9.1283 - val_loss: 95.0747 - val_mae: 7.7976\n",
      "Epoch 35/50\n",
      "\u001b[1m191/191\u001b[0m \u001b[32m━━━━━━━━━━━━━━━━━━━━\u001b[0m\u001b[37m\u001b[0m \u001b[1m1s\u001b[0m 7ms/step - loss: 139.6721 - mae: 9.4551 - val_loss: 96.1119 - val_mae: 7.8040\n",
      "Epoch 36/50\n",
      "\u001b[1m191/191\u001b[0m \u001b[32m━━━━━━━━━━━━━━━━━━━━\u001b[0m\u001b[37m\u001b[0m \u001b[1m1s\u001b[0m 6ms/step - loss: 128.6921 - mae: 9.0685 - val_loss: 97.6409 - val_mae: 7.8335\n",
      "Epoch 37/50\n",
      "\u001b[1m191/191\u001b[0m \u001b[32m━━━━━━━━━━━━━━━━━━━━\u001b[0m\u001b[37m\u001b[0m \u001b[1m1s\u001b[0m 6ms/step - loss: 127.1736 - mae: 9.0152 - val_loss: 94.3132 - val_mae: 7.7066\n",
      "Epoch 38/50\n",
      "\u001b[1m191/191\u001b[0m \u001b[32m━━━━━━━━━━━━━━━━━━━━\u001b[0m\u001b[37m\u001b[0m \u001b[1m1s\u001b[0m 6ms/step - loss: 127.5487 - mae: 8.9587 - val_loss: 94.3602 - val_mae: 7.7459\n",
      "Epoch 39/50\n",
      "\u001b[1m191/191\u001b[0m \u001b[32m━━━━━━━━━━━━━━━━━━━━\u001b[0m\u001b[37m\u001b[0m \u001b[1m1s\u001b[0m 6ms/step - loss: 127.6980 - mae: 8.9501 - val_loss: 94.2786 - val_mae: 7.7411\n",
      "Epoch 40/50\n",
      "\u001b[1m191/191\u001b[0m \u001b[32m━━━━━━━━━━━━━━━━━━━━\u001b[0m\u001b[37m\u001b[0m \u001b[1m1s\u001b[0m 6ms/step - loss: 118.6192 - mae: 8.7356 - val_loss: 98.7937 - val_mae: 7.8649\n",
      "Epoch 41/50\n",
      "\u001b[1m191/191\u001b[0m \u001b[32m━━━━━━━━━━━━━━━━━━━━\u001b[0m\u001b[37m\u001b[0m \u001b[1m2s\u001b[0m 8ms/step - loss: 127.3864 - mae: 8.9911 - val_loss: 93.8465 - val_mae: 7.6784\n",
      "Epoch 42/50\n",
      "\u001b[1m191/191\u001b[0m \u001b[32m━━━━━━━━━━━━━━━━━━━━\u001b[0m\u001b[37m\u001b[0m \u001b[1m1s\u001b[0m 7ms/step - loss: 123.1534 - mae: 8.9274 - val_loss: 93.3414 - val_mae: 7.6832\n",
      "Epoch 43/50\n",
      "\u001b[1m191/191\u001b[0m \u001b[32m━━━━━━━━━━━━━━━━━━━━\u001b[0m\u001b[37m\u001b[0m \u001b[1m1s\u001b[0m 7ms/step - loss: 114.2232 - mae: 8.5080 - val_loss: 96.6565 - val_mae: 7.8191\n",
      "Epoch 44/50\n",
      "\u001b[1m191/191\u001b[0m \u001b[32m━━━━━━━━━━━━━━━━━━━━\u001b[0m\u001b[37m\u001b[0m \u001b[1m3s\u001b[0m 7ms/step - loss: 120.0076 - mae: 8.7029 - val_loss: 92.2893 - val_mae: 7.6666\n",
      "Epoch 45/50\n",
      "\u001b[1m191/191\u001b[0m \u001b[32m━━━━━━━━━━━━━━━━━━━━\u001b[0m\u001b[37m\u001b[0m \u001b[1m1s\u001b[0m 6ms/step - loss: 121.2887 - mae: 8.7244 - val_loss: 91.7305 - val_mae: 7.6541\n",
      "Epoch 46/50\n",
      "\u001b[1m191/191\u001b[0m \u001b[32m━━━━━━━━━━━━━━━━━━━━\u001b[0m\u001b[37m\u001b[0m \u001b[1m1s\u001b[0m 6ms/step - loss: 118.3583 - mae: 8.6713 - val_loss: 92.3435 - val_mae: 7.6769\n",
      "Epoch 47/50\n",
      "\u001b[1m191/191\u001b[0m \u001b[32m━━━━━━━━━━━━━━━━━━━━\u001b[0m\u001b[37m\u001b[0m \u001b[1m1s\u001b[0m 5ms/step - loss: 114.8402 - mae: 8.5767 - val_loss: 94.2578 - val_mae: 7.7123\n",
      "Epoch 48/50\n",
      "\u001b[1m191/191\u001b[0m \u001b[32m━━━━━━━━━━━━━━━━━━━━\u001b[0m\u001b[37m\u001b[0m \u001b[1m1s\u001b[0m 5ms/step - loss: 112.1242 - mae: 8.4622 - val_loss: 89.8297 - val_mae: 7.6022\n",
      "Epoch 49/50\n",
      "\u001b[1m191/191\u001b[0m \u001b[32m━━━━━━━━━━━━━━━━━━━━\u001b[0m\u001b[37m\u001b[0m \u001b[1m1s\u001b[0m 6ms/step - loss: 110.2756 - mae: 8.3508 - val_loss: 89.4511 - val_mae: 7.5328\n",
      "Epoch 50/50\n",
      "\u001b[1m191/191\u001b[0m \u001b[32m━━━━━━━━━━━━━━━━━━━━\u001b[0m\u001b[37m\u001b[0m \u001b[1m1s\u001b[0m 5ms/step - loss: 112.4010 - mae: 8.3413 - val_loss: 93.2455 - val_mae: 7.6753\n"
     ]
    }
   ],
   "source": [
    "# Initialize sequential model \n",
    "model = Sequential([\n",
    "    Input(shape=(input_train.shape[1],)), # define input shape\n",
    "    Dense(64, activation='relu'), # first hidden layer with 64 units\n",
    "    Dropout(0.2), \n",
    "    Dense(32, activation='relu'), # second hidden layer with 32 units\n",
    "    Dense(1) # Output layer with target (PTS)\n",
    "])\n",
    "\n",
    "# Compile the model \n",
    "model.compile(optimizer=Adam(learning_rate=0.001), loss='mean_squared_error', metrics=['mae'])\n",
    "\n",
    "# Train the model\n",
    "history = model.fit(input_train, target_train, epochs=50, batch_size=32, validation_split=0.2)"
   ]
  },
  {
   "cell_type": "markdown",
   "id": "7fc85606-f283-49fc-8b4f-721061eeea97",
   "metadata": {},
   "source": [
    "## Visualize History"
   ]
  },
  {
   "cell_type": "code",
   "execution_count": 9,
   "id": "44963c43-3ba5-4459-acca-ff4e01130342",
   "metadata": {},
   "outputs": [
    {
     "data": {
      "image/png": "[encoded data removed]",
      "text/plain": [
       "<Figure size 640x480 with 1 Axes>"
      ]
     },
     "metadata": {},
     "output_type": "display_data"
    }
   ],
   "source": [
    "# Plot training and validation loss over epochs\n",
    "plt.plot(history.history['loss'], label = 'Training Loss')\n",
    "plt.plot(history.history['val_loss'], label = 'Validation Loss')\n",
    "plt.xlabel('Epoch')\n",
    "plt.ylabel('Mean Squared Error')\n",
    "plt.legend()\n",
    "plt.show()"
   ]
  },
  {
   "cell_type": "markdown",
   "id": "4008bd64-1980-47c5-b0fc-37db735115cf",
   "metadata": {},
   "source": [
    "## General Model Evaluation and Sample Target Prediction"
   ]
  },
  {
   "cell_type": "code",
   "execution_count": 10,
   "id": "29898adf-aa61-4148-a28f-7e017b948851",
   "metadata": {},
   "outputs": [
    {
     "name": "stdout",
     "output_type": "stream",
     "text": [
      "\u001b[1m60/60\u001b[0m \u001b[32m━━━━━━━━━━━━━━━━━━━━\u001b[0m\u001b[37m\u001b[0m \u001b[1m0s\u001b[0m 5ms/step - loss: 88.4715 - mae: 7.4546\n",
      "Test Loss (MSE): 88.19813537597656\n",
      "Test MAE: 7.493849754333496\n",
      "\u001b[1m60/60\u001b[0m \u001b[32m━━━━━━━━━━━━━━━━━━━━\u001b[0m\u001b[37m\u001b[0m \u001b[1m0s\u001b[0m 5ms/step\n",
      "Sample Predictions (PTS): [106.22299  105.56248  121.57629  111.813034 110.91684  107.883705\n",
      " 103.19351  100.721245 112.71402  119.628525]\n",
      "Actual Vales (PTS): [122 123 127 100 111  92  86 123 114 122]\n",
      "\n",
      "--- Regression Metrics ---\n",
      "Test Loss (MSE from model): 88.20\n",
      "Test MAE (from model): 7.49\n",
      "Mean Squared Error (MSE): 88.20\n",
      "Root Mean Squared Error (RMSE): 9.39\n",
      "R-Squared (R²): 0.45\n"
     ]
    }
   ],
   "source": [
    "# Evaluate model on test data\n",
    "test_loss, test_mae = model.evaluate(input_test, target_test)\n",
    "print(f\"Test Loss (MSE): {test_loss}\")\n",
    "print(f\"Test MAE: {test_mae}\")\n",
    "\n",
    "# Target prediction\n",
    "sample_predictions = model.predict(input_test)\n",
    "print(\"Sample Predictions (PTS):\", sample_predictions[:10].flatten())\n",
    "print(\"Actual Vales (PTS):\", target_test[:10].values)\n",
    "\n",
    "mse = mean_squared_error(target_test, sample_predictions)\n",
    "rmse = np.sqrt(mse)\n",
    "r2 = r2_score(target_test, sample_predictions)\n",
    "\n",
    "print(\"\\n--- Regression Metrics ---\")\n",
    "print(f\"Test Loss (MSE from model): {test_loss:.2f}\")\n",
    "print(f\"Test MAE (from model): {test_mae:.2f}\")\n",
    "print(f\"Mean Squared Error (MSE): {mse:.2f}\")\n",
    "print(f\"Root Mean Squared Error (RMSE): {rmse:.2f}\")\n",
    "print(f\"R-Squared (R²): {r2:.2f}\")"
   ]
  },
  {
   "cell_type": "markdown",
   "id": "064de6c3-2200-4a6a-8b1a-1fe50d445d5e",
   "metadata": {},
   "source": [
    "### Results from the Model Trained Specifically on Boston Celtics Data\n",
    "\n",
    "#### Regression Metrics\n",
    "- **Test Loss (MSE from model):** 713.21  \n",
    "- **Test MAE (from model):** 21.63  \n",
    "- **Mean Squared Error (MSE):** 713.21  \n",
    "- **Root Mean Squared Error (RMSE):** 26.71  \n",
    "- **R-Squared (R²):** -2.67  \n",
    "\n",
    "#### Sample Predictions vs. Actual Values\n",
    "| Prediction (PTS) | Actual (PTS) |\n",
    "|------------------|--------------|\n",
    "| 120.49           | 119          |\n",
    "| 114.38           | 133          |\n",
    "| 72.36            | 119          |\n",
    "| 128.17           | 132          |\n",
    "| 94.97            | 142          |\n",
    "| 95.54            | 143          |\n",
    "| 125.48           | 119          |\n",
    "| 96.15            | 123          |\n",
    "| 94.50            | 117          |\n",
    "| 95.56            | 106          |\n"
   ]
  },
  {
   "cell_type": "markdown",
   "id": "e1d0aafa-1245-496f-bd32-ecb5e2d7447a",
   "metadata": {},
   "source": [
    "## Evaluation of General Model on Boston Celctics Target Prediction"
   ]
  },
  {
   "cell_type": "code",
   "execution_count": 11,
   "id": "c8c44f82-6e08-469d-a1d1-486d7d872a3b",
   "metadata": {},
   "outputs": [
    {
     "name": "stdout",
     "output_type": "stream",
     "text": [
      "\u001b[1m10/10\u001b[0m \u001b[32m━━━━━━━━━━━━━━━━━━━━\u001b[0m\u001b[37m\u001b[0m \u001b[1m0s\u001b[0m 11ms/step - loss: 86.5777 - mae: 7.3153\n",
      "\u001b[1m10/10\u001b[0m \u001b[32m━━━━━━━━━━━━━━━━━━━━\u001b[0m\u001b[37m\u001b[0m \u001b[1m0s\u001b[0m 4ms/step \n",
      "Sample Prediction (PTS): [121.604836  95.76926  114.24071  109.04957  120.81979  118.4474\n",
      " 126.02377  108.20302  105.77681  116.19849 ]\n",
      "Actual Values (PTS): [122  95 107 116 126  93 122 126 107 116]\n",
      "\n",
      "--- Regression Metrics ---\n",
      "Test Loss (MSE from model): 96.94\n",
      "Test MAE (from model): 7.86\n",
      "Mean Squared Error (MSE): 96.94\n",
      "Root Mean Squared Error (RMSE): 9.85\n",
      "R-Squared (R²): 0.45\n"
     ]
    }
   ],
   "source": [
    "# Evaluate model and test data\n",
    "# print(\"input_test_bos shape:\", input_test_bos.shape)\n",
    "# print(\"target_test_bos shape:\", target_test_bos.shape)\n",
    "\n",
    "test_loss, test_mae = model.evaluate(input_test_bos, target_test_bos)\n",
    "\n",
    "# Target prediction\n",
    "bos_predictions = model.predict(input_test_bos)\n",
    "\n",
    "mse = mean_squared_error(target_test_bos, bos_predictions)\n",
    "rmse = np.sqrt(mse)\n",
    "r2 = r2_score(target_test_bos, bos_predictions)\n",
    "\n",
    "print(\"Sample Prediction (PTS):\", bos_predictions[:10].flatten())\n",
    "print(\"Actual Values (PTS):\", target_test_bos[:10].values)\n",
    "\n",
    "print(\"\\n--- Regression Metrics ---\")\n",
    "print(f\"Test Loss (MSE from model): {test_loss:.2f}\")\n",
    "print(f\"Test MAE (from model): {test_mae:.2f}\")\n",
    "print(f\"Mean Squared Error (MSE): {mse:.2f}\")\n",
    "print(f\"Root Mean Squared Error (RMSE): {rmse:.2f}\")\n",
    "print(f\"R-Squared (R²): {r2:.2f}\")\n",
    "\n",
    "bos_results = pd.DataFrame({\n",
    "    \"Actual PTS\": target_test,\n",
    "    \"Predicted PTS\": sample_predictions.flatten()\n",
    "})\n",
    "# bos_results.to_csv(\"gen_model_boston_celtics_eval.csv\", index=False)"
   ]
  },
  {
   "cell_type": "markdown",
   "id": "23153eb7-eb99-46f2-88d3-3c6367a51263",
   "metadata": {},
   "source": [
    "## Comparison of Boston Celtics-Trained Model vs. General Model Tested on Boston Celtics Data\n",
    "\n",
    "#### Boston Celtics-Trained Model Metrics\n",
    "- **Test Loss (MSE from model):** 713.21  \n",
    "- **Test MAE (from model):** 21.63  \n",
    "- **Mean Squared Error (MSE):** 713.21  \n",
    "- **Root Mean Squared Error (RMSE):** 26.71  \n",
    "- **R-Squared (R²):** -2.67  \n",
    "\n",
    "#### General Model Tested on Boston Celtics Data Metrics\n",
    "- **Test Loss (MSE from model):** 106.62  \n",
    "- **Test MAE (from model):** 8.34  \n",
    "- **Mean Squared Error (MSE):** 106.62  \n",
    "- **Root Mean Squared Error (RMSE):** 10.33  \n",
    "- **R-Squared (R²):** 0.40  \n",
    "\n",
    "#### Sample Predictions vs. Actual Values\n",
    "| **Celtics-Trained Model Predictions (PTS)** | **Celtics Actual Values (PTS)** | **General Model Predictions (PTS)** | **Celtics Actual Values (PTS)** |\n",
    "|---------------------------------------------|---------------------------------|-------------------------------------|---------------------------------|\n",
    "| 120.49                                      | 119                             | 108.32                              | 122                             |\n",
    "| 114.38                                      | 133                             | 95.37                               | 95                              |\n",
    "| 72.36                                       | 119                             | 115.89                              | 107                             |\n",
    "| 128.17                                      | 132                             | 106.85                              | 116                             |\n",
    "| 94.97                                       | 142                             | 121.97                              | 126                             |\n",
    "| 95.54                                       | 143                             | 118.78                              | 93                              |\n",
    "| 125.48                                      | 119                             | 124.14                              | 122                             |\n",
    "| 96.15                                       | 123                             | 107.94                              | 126                             |\n",
    "| 94.50                                       | 117                             | 102.95                              | 107                             |\n",
    "| 95.56                                       | 106                             | 116.08                              | 116                             |\n"
   ]
  },
  {
   "cell_type": "code",
   "execution_count": 14,
   "id": "0cae0aa9-3278-4aa7-a0b8-e6ec2a9686c4",
   "metadata": {},
   "outputs": [
    {
     "name": "stdout",
     "output_type": "stream",
     "text": [
      "Model saved as 'general_nn_score_predictor.keras'\n"
     ]
    }
   ],
   "source": [
    "# Save the trained model to a file\n",
    "# model.save(\"general_nn_score_predictor.keras\")\n",
    "# print(\"Model saved as 'general_nn_score_predictor.keras'\")"
   ]
  }
 ],
 "metadata": {
  "kernelspec": {
   "display_name": "Python (venv)",
   "language": "python",
   "name": "venv"
  },
  "language_info": {
   "codemirror_mode": {
    "name": "ipython",
    "version": 3
   },
   "file_extension": ".py",
   "mimetype": "text/x-python",
   "name": "python",
   "nbconvert_exporter": "python",
   "pygments_lexer": "ipython3",
   "version": "3.12.6"
  }
 },
 "nbformat": 4,
 "nbformat_minor": 5
}

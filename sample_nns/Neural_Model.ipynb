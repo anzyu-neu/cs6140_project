{
 "cells": [
  {
   "cell_type": "markdown",
   "id": "d9d833dc-c036-4280-9005-622fa95687bb",
   "metadata": {},
   "source": [
    "# Neural Network Training"
   ]
  },
  {
   "cell_type": "code",
   "execution_count": 40,
   "id": "ab282edf-7018-4cbd-b2f5-68d512306c85",
   "metadata": {},
   "outputs": [],
   "source": [
    "import numpy as np\n",
    "import pandas as pd\n",
    "import tensorflow as tf\n",
    "import matplotlib.pyplot as plt\n",
    "\n",
    "from tensorflow.keras.models import Sequential\n",
    "from tensorflow.keras.layers import Dense, Dropout, Input\n",
    "from tensorflow.keras.optimizers import Adam\n",
    "from sklearn.model_selection import train_test_split\n",
    "from sklearn.preprocessing import StandardScaler\n",
    "from sklearn.metrics import mean_squared_error, mean_absolute_error, r2_score"
   ]
  },
  {
   "cell_type": "markdown",
   "id": "8d10ed1d-83ff-470a-81c6-62cc1a180fb3",
   "metadata": {},
   "source": [
    "## Importing 4 Seasons of NBA Data (2020-2024)"
   ]
  },
  {
   "cell_type": "code",
   "execution_count": 2,
   "id": "9d1e054f-a7ca-4ede-b096-e5a4d73d8507",
   "metadata": {},
   "outputs": [],
   "source": [
    "season_20 = pd.read_csv('../data_generation/output_data/2020-21_data.csv')\n",
    "season_21 = pd.read_csv('../data_generation/output_data/2021-22_data.csv')\n",
    "season_22 = pd.read_csv('../data_generation/output_data/2022-23_data.csv')\n",
    "season_23 = pd.read_csv('../data_generation/output_data/2023-24_data.csv')\n",
    "\n",
    "combined_seasons = pd.concat([season_20, season_21, season_22, season_23], ignore_index=True)\n",
    "combined_season = combined_seasons.drop_duplicates()\n",
    "combined_seasons = combined_seasons.reset_index(drop=True)\n",
    "\n",
    "# combined_seasons.head(10)"
   ]
  },
  {
   "cell_type": "markdown",
   "id": "f278b5f2-11d5-496c-a1bb-f3af90fb384a",
   "metadata": {},
   "source": [
    "## Prepare features and target value"
   ]
  },
  {
   "cell_type": "code",
   "execution_count": 73,
   "id": "8c6fa54a-c9c5-44ac-82d5-ab5d55fd9b44",
   "metadata": {},
   "outputs": [
    {
     "name": "stdout",
     "output_type": "stream",
     "text": [
      "<class 'pandas.core.frame.DataFrame'>\n",
      "RangeIndex: 9540 entries, 0 to 9539\n",
      "Columns: 126 entries, fieldGoalPercentage_my_player_1 to OPPONENT_WIN_PCT\n",
      "dtypes: float64(123), int64(3)\n",
      "memory usage: 9.2 MB\n",
      "None\n"
     ]
    }
   ],
   "source": [
    "# Drop target and prepare input\n",
    "input = combined_seasons.drop(columns=['PTS'])\n",
    "target = combined_seasons['PTS']\n",
    "\n",
    "# Load selected features\n",
    "spearman_corr = pd.read_csv('../data_generation/output_data/spearman_corr_features.csv')\n",
    "selected_features = spearman_corr['Feature'].tolist()\n",
    "selected_features.append('teamId')\n",
    "\n",
    "# Ensure no mismatching features\n",
    "existing_features = [feature for feature in selected_features if feature in input.columns]\n",
    "\n",
    "# Filter for Boston Celtics data for testing\n",
    "bos_team_id = 1610612738\n",
    "boston_data = combined_seasons[combined_seasons['teamId'] == bos_team_id]\n",
    "\n",
    "existing_features.remove('teamId')\n",
    "\n",
    "# Create input_test and target_test specifically for Boston Celtics\n",
    "input_test_bos = boston_data[existing_features]\n",
    "target_test_bos = boston_data['PTS']\n",
    "\n",
    "# Create input for general model\n",
    "input = combined_seasons[existing_features]\n",
    "input = input.dropna(axis=1)\n",
    "print(input.info())  # 126 cols, 9540 rows\n",
    "\n",
    "# Split into train and test set\n",
    "input_train, input_test, target_train, target_test = train_test_split(input, target, test_size=0.2, random_state=0)\n",
    "\n",
    "# Scale features\n",
    "scaler = StandardScaler()\n",
    "input_train = scaler.fit_transform(input_train)\n",
    "input_test = scaler.transform(input_test)\n",
    "\n",
    "input_test_bos = scaler.fit_transform(input_test_bos)"
   ]
  },
  {
   "cell_type": "markdown",
   "id": "5405ce6a-4db0-478a-a451-0054427a7c90",
   "metadata": {},
   "source": [
    "## Define the model"
   ]
  },
  {
   "cell_type": "code",
   "execution_count": 74,
   "id": "5913a211-81a7-4a11-80f2-2f3a3b0abf60",
   "metadata": {},
   "outputs": [
    {
     "name": "stdout",
     "output_type": "stream",
     "text": [
      "Epoch 1/50\n",
      "\u001b[1m191/191\u001b[0m \u001b[32m━━━━━━━━━━━━━━━━━━━━\u001b[0m\u001b[37m\u001b[0m \u001b[1m1s\u001b[0m 1ms/step - loss: 9942.1543 - mae: 96.0049 - val_loss: 631.8538 - val_mae: 20.1114\n",
      "Epoch 2/50\n",
      "\u001b[1m191/191\u001b[0m \u001b[32m━━━━━━━━━━━━━━━━━━━━\u001b[0m\u001b[37m\u001b[0m \u001b[1m0s\u001b[0m 1ms/step - loss: 715.1095 - mae: 21.6209 - val_loss: 461.4369 - val_mae: 17.1420\n",
      "Epoch 3/50\n",
      "\u001b[1m191/191\u001b[0m \u001b[32m━━━━━━━━━━━━━━━━━━━━\u001b[0m\u001b[37m\u001b[0m \u001b[1m0s\u001b[0m 1ms/step - loss: 575.3356 - mae: 19.2688 - val_loss: 392.7081 - val_mae: 15.9652\n",
      "Epoch 4/50\n",
      "\u001b[1m191/191\u001b[0m \u001b[32m━━━━━━━━━━━━━━━━━━━━\u001b[0m\u001b[37m\u001b[0m \u001b[1m0s\u001b[0m 996us/step - loss: 489.3665 - mae: 17.7950 - val_loss: 339.5015 - val_mae: 14.6713\n",
      "Epoch 5/50\n",
      "\u001b[1m191/191\u001b[0m \u001b[32m━━━━━━━━━━━━━━━━━━━━\u001b[0m\u001b[37m\u001b[0m \u001b[1m0s\u001b[0m 1ms/step - loss: 433.5749 - mae: 16.6905 - val_loss: 309.4973 - val_mae: 14.0419\n",
      "Epoch 6/50\n",
      "\u001b[1m191/191\u001b[0m \u001b[32m━━━━━━━━━━━━━━━━━━━━\u001b[0m\u001b[37m\u001b[0m \u001b[1m0s\u001b[0m 1ms/step - loss: 395.5538 - mae: 15.9793 - val_loss: 281.3827 - val_mae: 13.4423\n",
      "Epoch 7/50\n",
      "\u001b[1m191/191\u001b[0m \u001b[32m━━━━━━━━━━━━━━━━━━━━\u001b[0m\u001b[37m\u001b[0m \u001b[1m0s\u001b[0m 1ms/step - loss: 358.4023 - mae: 15.1339 - val_loss: 260.8256 - val_mae: 12.9281\n",
      "Epoch 8/50\n",
      "\u001b[1m191/191\u001b[0m \u001b[32m━━━━━━━━━━━━━━━━━━━━\u001b[0m\u001b[37m\u001b[0m \u001b[1m0s\u001b[0m 1ms/step - loss: 328.3441 - mae: 14.5974 - val_loss: 239.2593 - val_mae: 12.2637\n",
      "Epoch 9/50\n",
      "\u001b[1m191/191\u001b[0m \u001b[32m━━━━━━━━━━━━━━━━━━━━\u001b[0m\u001b[37m\u001b[0m \u001b[1m0s\u001b[0m 1ms/step - loss: 297.6932 - mae: 13.7684 - val_loss: 221.5522 - val_mae: 11.8562\n",
      "Epoch 10/50\n",
      "\u001b[1m191/191\u001b[0m \u001b[32m━━━━━━━━━━━━━━━━━━━━\u001b[0m\u001b[37m\u001b[0m \u001b[1m0s\u001b[0m 1ms/step - loss: 292.7935 - mae: 13.6419 - val_loss: 205.7168 - val_mae: 11.5165\n",
      "Epoch 11/50\n",
      "\u001b[1m191/191\u001b[0m \u001b[32m━━━━━━━━━━━━━━━━━━━━\u001b[0m\u001b[37m\u001b[0m \u001b[1m0s\u001b[0m 1ms/step - loss: 267.2234 - mae: 12.8283 - val_loss: 187.0777 - val_mae: 10.9355\n",
      "Epoch 12/50\n",
      "\u001b[1m191/191\u001b[0m \u001b[32m━━━━━━━━━━━━━━━━━━━━\u001b[0m\u001b[37m\u001b[0m \u001b[1m0s\u001b[0m 1ms/step - loss: 243.3844 - mae: 12.4248 - val_loss: 177.6696 - val_mae: 10.7465\n",
      "Epoch 13/50\n",
      "\u001b[1m191/191\u001b[0m \u001b[32m━━━━━━━━━━━━━━━━━━━━\u001b[0m\u001b[37m\u001b[0m \u001b[1m0s\u001b[0m 1ms/step - loss: 240.4944 - mae: 12.3647 - val_loss: 174.9128 - val_mae: 10.6943\n",
      "Epoch 14/50\n",
      "\u001b[1m191/191\u001b[0m \u001b[32m━━━━━━━━━━━━━━━━━━━━\u001b[0m\u001b[37m\u001b[0m \u001b[1m0s\u001b[0m 1ms/step - loss: 232.0569 - mae: 12.1116 - val_loss: 161.9564 - val_mae: 10.2275\n",
      "Epoch 15/50\n",
      "\u001b[1m191/191\u001b[0m \u001b[32m━━━━━━━━━━━━━━━━━━━━\u001b[0m\u001b[37m\u001b[0m \u001b[1m0s\u001b[0m 989us/step - loss: 211.8553 - mae: 11.4853 - val_loss: 155.6638 - val_mae: 10.0134\n",
      "Epoch 16/50\n",
      "\u001b[1m191/191\u001b[0m \u001b[32m━━━━━━━━━━━━━━━━━━━━\u001b[0m\u001b[37m\u001b[0m \u001b[1m0s\u001b[0m 1ms/step - loss: 213.0879 - mae: 11.6384 - val_loss: 142.8380 - val_mae: 9.5737\n",
      "Epoch 17/50\n",
      "\u001b[1m191/191\u001b[0m \u001b[32m━━━━━━━━━━━━━━━━━━━━\u001b[0m\u001b[37m\u001b[0m \u001b[1m0s\u001b[0m 1ms/step - loss: 194.7253 - mae: 11.0742 - val_loss: 136.6683 - val_mae: 9.3715\n",
      "Epoch 18/50\n",
      "\u001b[1m191/191\u001b[0m \u001b[32m━━━━━━━━━━━━━━━━━━━━\u001b[0m\u001b[37m\u001b[0m \u001b[1m0s\u001b[0m 1ms/step - loss: 186.9621 - mae: 10.7870 - val_loss: 139.0674 - val_mae: 9.4321\n",
      "Epoch 19/50\n",
      "\u001b[1m191/191\u001b[0m \u001b[32m━━━━━━━━━━━━━━━━━━━━\u001b[0m\u001b[37m\u001b[0m \u001b[1m0s\u001b[0m 986us/step - loss: 175.7230 - mae: 10.5694 - val_loss: 127.0851 - val_mae: 9.1117\n",
      "Epoch 20/50\n",
      "\u001b[1m191/191\u001b[0m \u001b[32m━━━━━━━━━━━━━━━━━━━━\u001b[0m\u001b[37m\u001b[0m \u001b[1m0s\u001b[0m 973us/step - loss: 175.0800 - mae: 10.5931 - val_loss: 122.0841 - val_mae: 8.8365\n",
      "Epoch 21/50\n",
      "\u001b[1m191/191\u001b[0m \u001b[32m━━━━━━━━━━━━━━━━━━━━\u001b[0m\u001b[37m\u001b[0m \u001b[1m0s\u001b[0m 1ms/step - loss: 168.2253 - mae: 10.2797 - val_loss: 125.6436 - val_mae: 8.9884\n",
      "Epoch 22/50\n",
      "\u001b[1m191/191\u001b[0m \u001b[32m━━━━━━━━━━━━━━━━━━━━\u001b[0m\u001b[37m\u001b[0m \u001b[1m0s\u001b[0m 987us/step - loss: 170.0252 - mae: 10.3582 - val_loss: 116.3368 - val_mae: 8.6233\n",
      "Epoch 23/50\n",
      "\u001b[1m191/191\u001b[0m \u001b[32m━━━━━━━━━━━━━━━━━━━━\u001b[0m\u001b[37m\u001b[0m \u001b[1m0s\u001b[0m 1ms/step - loss: 157.3924 - mae: 10.0013 - val_loss: 113.7268 - val_mae: 8.5125\n",
      "Epoch 24/50\n",
      "\u001b[1m191/191\u001b[0m \u001b[32m━━━━━━━━━━━━━━━━━━━━\u001b[0m\u001b[37m\u001b[0m \u001b[1m0s\u001b[0m 1ms/step - loss: 156.9444 - mae: 9.9507 - val_loss: 111.4919 - val_mae: 8.4076\n",
      "Epoch 25/50\n",
      "\u001b[1m191/191\u001b[0m \u001b[32m━━━━━━━━━━━━━━━━━━━━\u001b[0m\u001b[37m\u001b[0m \u001b[1m0s\u001b[0m 992us/step - loss: 154.1130 - mae: 9.9191 - val_loss: 106.2815 - val_mae: 8.2292\n",
      "Epoch 26/50\n",
      "\u001b[1m191/191\u001b[0m \u001b[32m━━━━━━━━━━━━━━━━━━━━\u001b[0m\u001b[37m\u001b[0m \u001b[1m0s\u001b[0m 1ms/step - loss: 145.3700 - mae: 9.5846 - val_loss: 110.9209 - val_mae: 8.4245\n",
      "Epoch 27/50\n",
      "\u001b[1m191/191\u001b[0m \u001b[32m━━━━━━━━━━━━━━━━━━━━\u001b[0m\u001b[37m\u001b[0m \u001b[1m0s\u001b[0m 1ms/step - loss: 141.7799 - mae: 9.4912 - val_loss: 105.7924 - val_mae: 8.1430\n",
      "Epoch 28/50\n",
      "\u001b[1m191/191\u001b[0m \u001b[32m━━━━━━━━━━━━━━━━━━━━\u001b[0m\u001b[37m\u001b[0m \u001b[1m0s\u001b[0m 1ms/step - loss: 142.2329 - mae: 9.4088 - val_loss: 105.8584 - val_mae: 8.1695\n",
      "Epoch 29/50\n",
      "\u001b[1m191/191\u001b[0m \u001b[32m━━━━━━━━━━━━━━━━━━━━\u001b[0m\u001b[37m\u001b[0m \u001b[1m0s\u001b[0m 1ms/step - loss: 135.3746 - mae: 9.2105 - val_loss: 99.6255 - val_mae: 7.9585\n",
      "Epoch 30/50\n",
      "\u001b[1m191/191\u001b[0m \u001b[32m━━━━━━━━━━━━━━━━━━━━\u001b[0m\u001b[37m\u001b[0m \u001b[1m0s\u001b[0m 1ms/step - loss: 130.0318 - mae: 9.0416 - val_loss: 97.9181 - val_mae: 7.8703\n",
      "Epoch 31/50\n",
      "\u001b[1m191/191\u001b[0m \u001b[32m━━━━━━━━━━━━━━━━━━━━\u001b[0m\u001b[37m\u001b[0m \u001b[1m0s\u001b[0m 983us/step - loss: 128.3121 - mae: 9.0160 - val_loss: 98.0890 - val_mae: 7.8367\n",
      "Epoch 32/50\n",
      "\u001b[1m191/191\u001b[0m \u001b[32m━━━━━━━━━━━━━━━━━━━━\u001b[0m\u001b[37m\u001b[0m \u001b[1m0s\u001b[0m 1ms/step - loss: 123.8742 - mae: 8.9296 - val_loss: 97.2742 - val_mae: 7.8501\n",
      "Epoch 33/50\n",
      "\u001b[1m191/191\u001b[0m \u001b[32m━━━━━━━━━━━━━━━━━━━━\u001b[0m\u001b[37m\u001b[0m \u001b[1m0s\u001b[0m 1000us/step - loss: 125.8370 - mae: 8.8442 - val_loss: 95.8891 - val_mae: 7.8373\n",
      "Epoch 34/50\n",
      "\u001b[1m191/191\u001b[0m \u001b[32m━━━━━━━━━━━━━━━━━━━━\u001b[0m\u001b[37m\u001b[0m \u001b[1m0s\u001b[0m 1ms/step - loss: 123.2630 - mae: 8.8625 - val_loss: 98.0296 - val_mae: 7.8410\n",
      "Epoch 35/50\n",
      "\u001b[1m191/191\u001b[0m \u001b[32m━━━━━━━━━━━━━━━━━━━━\u001b[0m\u001b[37m\u001b[0m \u001b[1m0s\u001b[0m 1ms/step - loss: 124.0534 - mae: 8.8710 - val_loss: 106.8008 - val_mae: 8.1494\n",
      "Epoch 36/50\n",
      "\u001b[1m191/191\u001b[0m \u001b[32m━━━━━━━━━━━━━━━━━━━━\u001b[0m\u001b[37m\u001b[0m \u001b[1m0s\u001b[0m 1ms/step - loss: 124.7317 - mae: 8.8892 - val_loss: 93.7545 - val_mae: 7.6797\n",
      "Epoch 37/50\n",
      "\u001b[1m191/191\u001b[0m \u001b[32m━━━━━━━━━━━━━━━━━━━━\u001b[0m\u001b[37m\u001b[0m \u001b[1m0s\u001b[0m 1ms/step - loss: 121.1416 - mae: 8.7323 - val_loss: 93.8432 - val_mae: 7.7303\n",
      "Epoch 38/50\n",
      "\u001b[1m191/191\u001b[0m \u001b[32m━━━━━━━━━━━━━━━━━━━━\u001b[0m\u001b[37m\u001b[0m \u001b[1m0s\u001b[0m 1ms/step - loss: 113.2113 - mae: 8.4507 - val_loss: 94.6012 - val_mae: 7.7204\n",
      "Epoch 39/50\n",
      "\u001b[1m191/191\u001b[0m \u001b[32m━━━━━━━━━━━━━━━━━━━━\u001b[0m\u001b[37m\u001b[0m \u001b[1m0s\u001b[0m 1ms/step - loss: 115.3499 - mae: 8.5912 - val_loss: 96.5167 - val_mae: 7.7498\n",
      "Epoch 40/50\n",
      "\u001b[1m191/191\u001b[0m \u001b[32m━━━━━━━━━━━━━━━━━━━━\u001b[0m\u001b[37m\u001b[0m \u001b[1m0s\u001b[0m 1ms/step - loss: 113.6524 - mae: 8.4346 - val_loss: 93.8371 - val_mae: 7.7026\n",
      "Epoch 41/50\n",
      "\u001b[1m191/191\u001b[0m \u001b[32m━━━━━━━━━━━━━━━━━━━━\u001b[0m\u001b[37m\u001b[0m \u001b[1m0s\u001b[0m 1ms/step - loss: 109.0344 - mae: 8.2601 - val_loss: 97.5051 - val_mae: 7.8184\n",
      "Epoch 42/50\n",
      "\u001b[1m191/191\u001b[0m \u001b[32m━━━━━━━━━━━━━━━━━━━━\u001b[0m\u001b[37m\u001b[0m \u001b[1m0s\u001b[0m 1ms/step - loss: 112.2588 - mae: 8.4255 - val_loss: 92.8982 - val_mae: 7.6652\n",
      "Epoch 43/50\n",
      "\u001b[1m191/191\u001b[0m \u001b[32m━━━━━━━━━━━━━━━━━━━━\u001b[0m\u001b[37m\u001b[0m \u001b[1m0s\u001b[0m 1ms/step - loss: 103.5734 - mae: 8.0664 - val_loss: 92.4861 - val_mae: 7.6121\n",
      "Epoch 44/50\n",
      "\u001b[1m191/191\u001b[0m \u001b[32m━━━━━━━━━━━━━━━━━━━━\u001b[0m\u001b[37m\u001b[0m \u001b[1m0s\u001b[0m 1ms/step - loss: 103.7831 - mae: 8.0064 - val_loss: 90.5993 - val_mae: 7.5884\n",
      "Epoch 45/50\n",
      "\u001b[1m191/191\u001b[0m \u001b[32m━━━━━━━━━━━━━━━━━━━━\u001b[0m\u001b[37m\u001b[0m \u001b[1m0s\u001b[0m 1ms/step - loss: 104.6798 - mae: 8.1405 - val_loss: 90.2642 - val_mae: 7.5596\n",
      "Epoch 46/50\n",
      "\u001b[1m191/191\u001b[0m \u001b[32m━━━━━━━━━━━━━━━━━━━━\u001b[0m\u001b[37m\u001b[0m \u001b[1m0s\u001b[0m 1ms/step - loss: 105.5199 - mae: 8.2134 - val_loss: 101.3815 - val_mae: 7.9680\n",
      "Epoch 47/50\n",
      "\u001b[1m191/191\u001b[0m \u001b[32m━━━━━━━━━━━━━━━━━━━━\u001b[0m\u001b[37m\u001b[0m \u001b[1m0s\u001b[0m 1ms/step - loss: 97.7808 - mae: 7.8777 - val_loss: 90.2768 - val_mae: 7.5416\n",
      "Epoch 48/50\n",
      "\u001b[1m191/191\u001b[0m \u001b[32m━━━━━━━━━━━━━━━━━━━━\u001b[0m\u001b[37m\u001b[0m \u001b[1m0s\u001b[0m 1ms/step - loss: 107.0674 - mae: 8.2638 - val_loss: 93.9666 - val_mae: 7.6618\n",
      "Epoch 49/50\n",
      "\u001b[1m191/191\u001b[0m \u001b[32m━━━━━━━━━━━━━━━━━━━━\u001b[0m\u001b[37m\u001b[0m \u001b[1m0s\u001b[0m 1ms/step - loss: 99.6902 - mae: 7.8799 - val_loss: 88.9914 - val_mae: 7.4532\n",
      "Epoch 50/50\n",
      "\u001b[1m191/191\u001b[0m \u001b[32m━━━━━━━━━━━━━━━━━━━━\u001b[0m\u001b[37m\u001b[0m \u001b[1m0s\u001b[0m 1ms/step - loss: 102.0553 - mae: 7.8875 - val_loss: 92.5814 - val_mae: 7.6031\n"
     ]
    }
   ],
   "source": [
    "# Initialize sequential model \n",
    "model = Sequential([\n",
    "    Input(shape=(input_train.shape[1],)), # define input shape\n",
    "    Dense(64, activation='relu'), # first hidden layer with 64 units\n",
    "    Dropout(0.2), \n",
    "    Dense(32, activation='relu'), # second hidden layer with 32 units\n",
    "    Dense(1) # Output layer with target (PTS)\n",
    "])\n",
    "\n",
    "# Compile the model \n",
    "model.compile(optimizer=Adam(learning_rate=0.001), loss='mean_squared_error', metrics=['mae'])\n",
    "\n",
    "# Train the model\n",
    "history = model.fit(input_train, target_train, epochs=50, batch_size=32, validation_split=0.2)"
   ]
  },
  {
   "cell_type": "markdown",
   "id": "7fc85606-f283-49fc-8b4f-721061eeea97",
   "metadata": {},
   "source": [
    "## Visualize History"
   ]
  },
  {
   "cell_type": "code",
   "execution_count": 63,
   "id": "44963c43-3ba5-4459-acca-ff4e01130342",
   "metadata": {},
   "outputs": [
    {
     "data": {
      "image/png": "[encoded data removed]",
      "text/plain": [
       "<Figure size 640x480 with 1 Axes>"
      ]
     },
     "metadata": {},
     "output_type": "display_data"
    }
   ],
   "source": [
    "# Plot training and validation loss over epochs\n",
    "plt.plot(history.history['loss'], label = 'Training Loss')\n",
    "plt.plot(history.history['val_loss'], label = 'Validation Loss')\n",
    "plt.xlabel('Epoch')\n",
    "plt.ylabel('Mean Squared Error')\n",
    "plt.legend()\n",
    "plt.show()"
   ]
  },
  {
   "cell_type": "markdown",
   "id": "4008bd64-1980-47c5-b0fc-37db735115cf",
   "metadata": {},
   "source": [
    "## General Model Evaluation and Sample Target Prediction"
   ]
  },
  {
   "cell_type": "code",
   "execution_count": 77,
   "id": "29898adf-aa61-4148-a28f-7e017b948851",
   "metadata": {},
   "outputs": [
    {
     "name": "stdout",
     "output_type": "stream",
     "text": [
      "\u001b[1m60/60\u001b[0m \u001b[32m━━━━━━━━━━━━━━━━━━━━\u001b[0m\u001b[37m\u001b[0m \u001b[1m0s\u001b[0m 1ms/step - loss: 91.4050 - mae: 7.5684  \n",
      "Test Loss (MSE): 91.53682708740234\n",
      "Test MAE: 7.57977819442749\n",
      "\u001b[1m60/60\u001b[0m \u001b[32m━━━━━━━━━━━━━━━━━━━━\u001b[0m\u001b[37m\u001b[0m \u001b[1m0s\u001b[0m 646us/step\n",
      "Sample Predictions (PTS): [102.91417  107.086266 116.80001  112.972466 107.877205 102.63116\n",
      " 103.70132  103.146706 107.87088  113.70305 ]\n",
      "Actual Vales (PTS): [122 123 127 100 111  92  86 123 114 122]\n",
      "\n",
      "--- Regression Metrics ---\n",
      "Test Loss (MSE from model): 91.54\n",
      "Test MAE (from model): 7.58\n",
      "Mean Squared Error (MSE): 91.54\n",
      "Root Mean Squared Error (RMSE): 9.57\n",
      "R-Squared (R²): 0.43\n"
     ]
    }
   ],
   "source": [
    "# Evaluate model on test data\n",
    "test_loss, test_mae = model.evaluate(input_test, target_test)\n",
    "print(f\"Test Loss (MSE): {test_loss}\")\n",
    "print(f\"Test MAE: {test_mae}\")\n",
    "\n",
    "# Target prediction\n",
    "sample_predictions = model.predict(input_test)\n",
    "print(\"Sample Predictions (PTS):\", sample_predictions[:10].flatten())\n",
    "print(\"Actual Vales (PTS):\", target_test[:10].values)\n",
    "\n",
    "mse = mean_squared_error(target_test, sample_predictions)\n",
    "rmse = np.sqrt(mse)\n",
    "r2 = r2_score(target_test, sample_predictions)\n",
    "\n",
    "print(\"\\n--- Regression Metrics ---\")\n",
    "print(f\"Test Loss (MSE from model): {test_loss:.2f}\")\n",
    "print(f\"Test MAE (from model): {test_mae:.2f}\")\n",
    "print(f\"Mean Squared Error (MSE): {mse:.2f}\")\n",
    "print(f\"Root Mean Squared Error (RMSE): {rmse:.2f}\")\n",
    "print(f\"R-Squared (R²): {r2:.2f}\")"
   ]
  },
  {
   "cell_type": "markdown",
   "id": "064de6c3-2200-4a6a-8b1a-1fe50d445d5e",
   "metadata": {},
   "source": [
    "### Results from the Model Trained Specifically on Boston Celtics Data\n",
    "\n",
    "#### Regression Metrics\n",
    "- **Test Loss (MSE from model):** 713.21  \n",
    "- **Test MAE (from model):** 21.63  \n",
    "- **Mean Squared Error (MSE):** 713.21  \n",
    "- **Root Mean Squared Error (RMSE):** 26.71  \n",
    "- **R-Squared (R²):** -2.67  \n",
    "\n",
    "#### Sample Predictions vs. Actual Values\n",
    "| Prediction (PTS) | Actual (PTS) |\n",
    "|------------------|--------------|\n",
    "| 120.49           | 119          |\n",
    "| 114.38           | 133          |\n",
    "| 72.36            | 119          |\n",
    "| 128.17           | 132          |\n",
    "| 94.97            | 142          |\n",
    "| 95.54            | 143          |\n",
    "| 125.48           | 119          |\n",
    "| 96.15            | 123          |\n",
    "| 94.50            | 117          |\n",
    "| 95.56            | 106          |\n"
   ]
  },
  {
   "cell_type": "markdown",
   "id": "e1d0aafa-1245-496f-bd32-ecb5e2d7447a",
   "metadata": {},
   "source": [
    "## Evaluation of General Model on Boston Celctics Target Prediction"
   ]
  },
  {
   "cell_type": "code",
   "execution_count": 79,
   "id": "c8c44f82-6e08-469d-a1d1-486d7d872a3b",
   "metadata": {},
   "outputs": [
    {
     "name": "stdout",
     "output_type": "stream",
     "text": [
      "\u001b[1m10/10\u001b[0m \u001b[32m━━━━━━━━━━━━━━━━━━━━\u001b[0m\u001b[37m\u001b[0m \u001b[1m0s\u001b[0m 1ms/step - loss: 94.3547 - mae: 7.6993\n",
      "\u001b[1m10/10\u001b[0m \u001b[32m━━━━━━━━━━━━━━━━━━━━\u001b[0m\u001b[37m\u001b[0m \u001b[1m0s\u001b[0m 835us/step\n",
      "Sample Prediction (PTS): [108.32346   95.374825 115.88532  106.8487   121.9682   118.78492\n",
      " 124.14408  107.94017  102.95487  116.07684 ]\n",
      "Actual Values (PTS): [122  95 107 116 126  93 122 126 107 116]\n",
      "\n",
      "--- Regression Metrics ---\n",
      "Test Loss (MSE from model): 106.62\n",
      "Test MAE (from model): 8.34\n",
      "Mean Squared Error (MSE): 106.62\n",
      "Root Mean Squared Error (RMSE): 10.33\n",
      "R-Squared (R²): 0.40\n"
     ]
    }
   ],
   "source": [
    "# Evaluate model and test data\n",
    "# print(\"input_test_bos shape:\", input_test_bos.shape)\n",
    "# print(\"target_test_bos shape:\", target_test_bos.shape)\n",
    "\n",
    "test_loss, test_mae = model.evaluate(input_test_bos, target_test_bos)\n",
    "\n",
    "# Target prediction\n",
    "bos_predictions = model.predict(input_test_bos)\n",
    "\n",
    "mse = mean_squared_error(target_test_bos, bos_predictions)\n",
    "rmse = np.sqrt(mse)\n",
    "r2 = r2_score(target_test_bos, bos_predictions)\n",
    "\n",
    "print(\"Sample Prediction (PTS):\", bos_predictions[:10].flatten())\n",
    "print(\"Actual Values (PTS):\", target_test_bos[:10].values)\n",
    "\n",
    "print(\"\\n--- Regression Metrics ---\")\n",
    "print(f\"Test Loss (MSE from model): {test_loss:.2f}\")\n",
    "print(f\"Test MAE (from model): {test_mae:.2f}\")\n",
    "print(f\"Mean Squared Error (MSE): {mse:.2f}\")\n",
    "print(f\"Root Mean Squared Error (RMSE): {rmse:.2f}\")\n",
    "print(f\"R-Squared (R²): {r2:.2f}\")\n",
    "\n",
    "bos_results = pd.DataFrame({\n",
    "    \"Actual PTS\": target_test,\n",
    "    \"Predicted PTS\": sample_predictions.flatten()\n",
    "})\n",
    "bos_results.to_csv(\"gen_model_boston_celtics_eval.csv\", index=False)"
   ]
  },
  {
   "cell_type": "markdown",
   "id": "23153eb7-eb99-46f2-88d3-3c6367a51263",
   "metadata": {},
   "source": [
    "## Comparison of Boston Celtics-Trained Model vs. General Model Tested on Boston Celtics Data\n",
    "\n",
    "#### Boston Celtics-Trained Model Metrics\n",
    "- **Test Loss (MSE from model):** 713.21  \n",
    "- **Test MAE (from model):** 21.63  \n",
    "- **Mean Squared Error (MSE):** 713.21  \n",
    "- **Root Mean Squared Error (RMSE):** 26.71  \n",
    "- **R-Squared (R²):** -2.67  \n",
    "\n",
    "#### General Model Tested on Boston Celtics Data Metrics\n",
    "- **Test Loss (MSE from model):** 106.62  \n",
    "- **Test MAE (from model):** 8.34  \n",
    "- **Mean Squared Error (MSE):** 106.62  \n",
    "- **Root Mean Squared Error (RMSE):** 10.33  \n",
    "- **R-Squared (R²):** 0.40  \n",
    "\n",
    "#### Sample Predictions vs. Actual Values\n",
    "| **Celtics-Trained Model Predictions (PTS)** | **Celtics Actual Values (PTS)** | **General Model Predictions (PTS)** | **Celtics Actual Values (PTS)** |\n",
    "|---------------------------------------------|---------------------------------|-------------------------------------|---------------------------------|\n",
    "| 120.49                                      | 119                             | 108.32                              | 122                             |\n",
    "| 114.38                                      | 133                             | 95.37                               | 95                              |\n",
    "| 72.36                                       | 119                             | 115.89                              | 107                             |\n",
    "| 128.17                                      | 132                             | 106.85                              | 116                             |\n",
    "| 94.97                                       | 142                             | 121.97                              | 126                             |\n",
    "| 95.54                                       | 143                             | 118.78                              | 93                              |\n",
    "| 125.48                                      | 119                             | 124.14                              | 122                             |\n",
    "| 96.15                                       | 123                             | 107.94                              | 126                             |\n",
    "| 94.50                                       | 117                             | 102.95                              | 107                             |\n",
    "| 95.56                                       | 106                             | 116.08                              | 116                             |\n"
   ]
  }
 ],
 "metadata": {
  "kernelspec": {
   "display_name": "Python (venv)",
   "language": "python",
   "name": "venv"
  },
  "language_info": {
   "codemirror_mode": {
    "name": "ipython",
    "version": 3
   },
   "file_extension": ".py",
   "mimetype": "text/x-python",
   "name": "python",
   "nbconvert_exporter": "python",
   "pygments_lexer": "ipython3",
   "version": "3.12.2"
  }
 },
 "nbformat": 4,
 "nbformat_minor": 5
}

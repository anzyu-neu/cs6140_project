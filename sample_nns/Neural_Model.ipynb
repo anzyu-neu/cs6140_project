{
 "cells": [
  {
   "cell_type": "markdown",
   "id": "d9d833dc-c036-4280-9005-622fa95687bb",
   "metadata": {},
   "source": [
    "# Neural Network Training"
   ]
  },
  {
   "cell_type": "code",
   "execution_count": 2,
   "id": "ab282edf-7018-4cbd-b2f5-68d512306c85",
   "metadata": {},
   "outputs": [],
   "source": [
    "import numpy as np\n",
    "import pandas as pd\n",
    "import tensorflow as tf\n",
    "import matplotlib.pyplot as plt\n",
    "\n",
    "from tensorflow.keras.models import Sequential\n",
    "from tensorflow.keras.layers import Dense, Dropout, Input\n",
    "from tensorflow.keras.optimizers import Adam\n",
    "from sklearn.model_selection import train_test_split\n",
    "from sklearn.preprocessing import StandardScaler"
   ]
  },
  {
   "cell_type": "markdown",
   "id": "8d10ed1d-83ff-470a-81c6-62cc1a180fb3",
   "metadata": {},
   "source": [
    "## Importing 2 seasons of NBA data (2022-23, 2023-24)"
   ]
  },
  {
   "cell_type": "code",
   "execution_count": 57,
   "id": "9d1e054f-a7ca-4ede-b096-e5a4d73d8507",
   "metadata": {},
   "outputs": [],
   "source": [
    "season_22 = pd.read_csv('../data_generation/output_data/2022-23_data.csv')\n",
    "season_23 = pd.read_csv('../data_generation/output_data/2023-24_data.csv')\n",
    "\n",
    "combined_seasons = pd.concat([season_22, season_23], ignore_index = True)\n",
    "combined_seasons = combined_seasons.drop_duplicates()\n",
    "combined_seasons = combined_seasons.reset_index(drop=True)\n",
    "\n",
    "# print(combined_seasons.info())\n",
    "# print(combined_seasons.describe())"
   ]
  },
  {
   "cell_type": "markdown",
   "id": "f278b5f2-11d5-496c-a1bb-f3af90fb384a",
   "metadata": {},
   "source": [
    "## Prepare features and target value"
   ]
  },
  {
   "cell_type": "code",
   "execution_count": 63,
   "id": "8c6fa54a-c9c5-44ac-82d5-ab5d55fd9b44",
   "metadata": {},
   "outputs": [
    {
     "name": "stdout",
     "output_type": "stream",
     "text": [
      "<class 'pandas.core.frame.DataFrame'>\n",
      "RangeIndex: 4920 entries, 0 to 4919\n",
      "Data columns (total 61 columns):\n",
      " #   Column                                       Non-Null Count  Dtype  \n",
      "---  ------                                       --------------  -----  \n",
      " 0   fieldGoalPercentage_my_player_1              4920 non-null   float64\n",
      " 1   uncontestedFieldGoalsPercentage_my_player_1  4920 non-null   float64\n",
      " 2   fieldGoalPercentage_my_player_4              4920 non-null   float64\n",
      " 3   fieldGoalPercentage_my_player_3              4920 non-null   float64\n",
      " 4   fieldGoalPercentage_my_player_2              4920 non-null   float64\n",
      " 5   uncontestedFieldGoalsMade_my_player_1        4920 non-null   float64\n",
      " 6   fieldGoalPercentage_my_player_6              4920 non-null   float64\n",
      " 7   fieldGoalPercentage_my_player_5              4920 non-null   float64\n",
      " 8   uncontestedFieldGoalsPercentage_my_player_2  4920 non-null   float64\n",
      " 9   uncontestedFieldGoalsPercentage_my_player_6  4920 non-null   float64\n",
      " 10  uncontestedFieldGoalsPercentage_my_player_3  4920 non-null   float64\n",
      " 11  uncontestedFieldGoalsPercentage_my_player_4  4920 non-null   float64\n",
      " 12  fieldGoalPercentage_my_player_7              4920 non-null   float64\n",
      " 13  uncontestedFieldGoalsMade_my_player_6        4920 non-null   float64\n",
      " 14  uncontestedFieldGoalsMade_my_player_2        4920 non-null   float64\n",
      " 15  REF_BIAS                                     4920 non-null   float64\n",
      " 16  DISTANCE                                     4920 non-null   float64\n",
      " 17  RECENT_WIN_PCT                               4920 non-null   float64\n",
      " 18  IS_BACK_TO_BACK                              4920 non-null   int64  \n",
      " 19  REST_DAYS                                    4920 non-null   int64  \n",
      " 20  CLOSE_WIN_PCT                                4920 non-null   float64\n",
      " 21  reboundChancesTotal_my_player_5              4920 non-null   float64\n",
      " 22  secondaryAssists_opposing_player_2           4920 non-null   float64\n",
      " 23  reboundChancesTotal_opposing_player_6        4920 non-null   float64\n",
      " 24  secondaryAssists_opposing_player_3           4920 non-null   float64\n",
      " 25  reboundChancesOffensive_my_player_5          4920 non-null   float64\n",
      " 26  assists_opposing_player_1                    4920 non-null   float64\n",
      " 27  reboundChancesTotal_opposing_player_4        4920 non-null   float64\n",
      " 28  reboundChancesOffensive_my_player_2          4920 non-null   float64\n",
      " 29  secondaryAssists_opposing_player_7           4920 non-null   float64\n",
      " 30  reboundChancesTotal_opposing_player_7        4920 non-null   float64\n",
      " 31  reboundChancesTotal_opposing_player_1        4920 non-null   float64\n",
      " 32  reboundChancesTotal_opposing_player_5        4920 non-null   float64\n",
      " 33  reboundChancesTotal_opposing_player_3        4920 non-null   float64\n",
      " 34  OPPONENT_WIN_PCT                             4920 non-null   float64\n",
      " 35  reboundChancesTotal_opposing_player_2        4920 non-null   float64\n",
      " 36  fieldGoalPercentage_my_player_1              4920 non-null   float64\n",
      " 37  fieldGoalPercentage_my_player_2              4920 non-null   float64\n",
      " 38  fieldGoalPercentage_my_player_4              4920 non-null   float64\n",
      " 39  fieldGoalPercentage_my_player_3              4920 non-null   float64\n",
      " 40  uncontestedFieldGoalsPercentage_my_player_1  4920 non-null   float64\n",
      " 41  uncontestedFieldGoalsPercentage_my_player_2  4920 non-null   float64\n",
      " 42  uncontestedFieldGoalsMade_my_player_1        4920 non-null   float64\n",
      " 43  uncontestedFieldGoalsMade_my_player_3        4920 non-null   float64\n",
      " 44  uncontestedFieldGoalsPercentage_my_player_4  4920 non-null   float64\n",
      " 45  uncontestedFieldGoalsPercentage_my_player_3  4920 non-null   float64\n",
      " 46  assists_my_player_1                          4920 non-null   float64\n",
      " 47  fieldGoalPercentage_my_player_6              4920 non-null   float64\n",
      " 48  uncontestedFieldGoalsMade_my_player_2        4920 non-null   float64\n",
      " 49  uncontestedFieldGoalsMade_my_player_4        4920 non-null   float64\n",
      " 50  fieldGoalPercentage_my_player_5              4920 non-null   float64\n",
      " 51  reboundChancesTotal_opposing_player_3        4920 non-null   float64\n",
      " 52  reboundChancesTotal_opposing_player_4        4920 non-null   float64\n",
      " 53  reboundChancesTotal_opposing_player_7        4920 non-null   float64\n",
      " 54  REST_DAYS                                    4920 non-null   int64  \n",
      " 55  reboundChancesOffensive_my_player_1          4920 non-null   float64\n",
      " 56  reboundChancesTotal_opposing_player_5        4920 non-null   float64\n",
      " 57  reboundChancesTotal_opposing_player_1        4920 non-null   float64\n",
      " 58  teamId                                       4920 non-null   int64  \n",
      " 59  reboundChancesTotal_opposing_player_2        4920 non-null   float64\n",
      " 60  OPPONENT_WIN_PCT                             4920 non-null   float64\n",
      "dtypes: float64(57), int64(4)\n",
      "memory usage: 2.3 MB\n",
      "None\n"
     ]
    }
   ],
   "source": [
    "input = combined_seasons.drop(columns=['PTS'])\n",
    "target = combined_seasons['PTS']\n",
    "\n",
    "spearman_corr = pd.read_csv('../data_generation/output_data/spearman_corr_features.csv')\n",
    "\n",
    "selected_features = spearman_corr['Feature'].tolist()\n",
    "\n",
    "# Ensure no mismatching features\n",
    "existing_features = [feature for feature in selected_features if feature in input.columns]\n",
    "\n",
    "input = combined_seasons[existing_features]\n",
    "input = input.dropna(axis=1)\n",
    "print(input.info()) # 4920 rows, 66 columns\n",
    "# print(input['personId_my_player_4'])\n",
    "\n",
    "# Split into train and test set\n",
    "input_train, input_test, target_train, target_test = train_test_split(input, target, test_size=0.2, random_state=0)\n",
    "\n",
    "# Scaling features\n",
    "scaler = StandardScaler()\n",
    "input_train = scaler.fit_transform(input_train)\n",
    "input_test = scaler.transform(input_test)"
   ]
  },
  {
   "cell_type": "markdown",
   "id": "5405ce6a-4db0-478a-a451-0054427a7c90",
   "metadata": {},
   "source": [
    "## Define the model"
   ]
  },
  {
   "cell_type": "code",
   "execution_count": 64,
   "id": "5913a211-81a7-4a11-80f2-2f3a3b0abf60",
   "metadata": {},
   "outputs": [
    {
     "name": "stdout",
     "output_type": "stream",
     "text": [
      "Epoch 1/50\n",
      "\u001b[1m99/99\u001b[0m \u001b[32m━━━━━━━━━━━━━━━━━━━━\u001b[0m\u001b[37m\u001b[0m \u001b[1m1s\u001b[0m 2ms/step - loss: 12186.2607 - mae: 109.5542 - val_loss: 6800.2607 - val_mae: 81.2056\n",
      "Epoch 2/50\n",
      "\u001b[1m99/99\u001b[0m \u001b[32m━━━━━━━━━━━━━━━━━━━━\u001b[0m\u001b[37m\u001b[0m \u001b[1m0s\u001b[0m 937us/step - loss: 4376.3296 - mae: 61.3832 - val_loss: 558.8027 - val_mae: 19.0296\n",
      "Epoch 3/50\n",
      "\u001b[1m99/99\u001b[0m \u001b[32m━━━━━━━━━━━━━━━━━━━━\u001b[0m\u001b[37m\u001b[0m \u001b[1m0s\u001b[0m 979us/step - loss: 663.6208 - mae: 20.7620 - val_loss: 459.3440 - val_mae: 17.3077\n",
      "Epoch 4/50\n",
      "\u001b[1m99/99\u001b[0m \u001b[32m━━━━━━━━━━━━━━━━━━━━\u001b[0m\u001b[37m\u001b[0m \u001b[1m0s\u001b[0m 1ms/step - loss: 555.1067 - mae: 18.8376 - val_loss: 411.4325 - val_mae: 16.3451\n",
      "Epoch 5/50\n",
      "\u001b[1m99/99\u001b[0m \u001b[32m━━━━━━━━━━━━━━━━━━━━\u001b[0m\u001b[37m\u001b[0m \u001b[1m0s\u001b[0m 992us/step - loss: 503.6313 - mae: 17.6898 - val_loss: 377.3927 - val_mae: 15.7818\n",
      "Epoch 6/50\n",
      "\u001b[1m99/99\u001b[0m \u001b[32m━━━━━━━━━━━━━━━━━━━━\u001b[0m\u001b[37m\u001b[0m \u001b[1m0s\u001b[0m 962us/step - loss: 452.2355 - mae: 17.0131 - val_loss: 353.8326 - val_mae: 15.2668\n",
      "Epoch 7/50\n",
      "\u001b[1m99/99\u001b[0m \u001b[32m━━━━━━━━━━━━━━━━━━━━\u001b[0m\u001b[37m\u001b[0m \u001b[1m0s\u001b[0m 986us/step - loss: 428.2684 - mae: 16.4341 - val_loss: 330.0509 - val_mae: 14.7498\n",
      "Epoch 8/50\n",
      "\u001b[1m99/99\u001b[0m \u001b[32m━━━━━━━━━━━━━━━━━━━━\u001b[0m\u001b[37m\u001b[0m \u001b[1m0s\u001b[0m 1ms/step - loss: 409.8247 - mae: 16.1161 - val_loss: 314.1110 - val_mae: 14.4594\n",
      "Epoch 9/50\n",
      "\u001b[1m99/99\u001b[0m \u001b[32m━━━━━━━━━━━━━━━━━━━━\u001b[0m\u001b[37m\u001b[0m \u001b[1m0s\u001b[0m 1ms/step - loss: 374.1136 - mae: 15.5861 - val_loss: 290.2709 - val_mae: 13.8589\n",
      "Epoch 10/50\n",
      "\u001b[1m99/99\u001b[0m \u001b[32m━━━━━━━━━━━━━━━━━━━━\u001b[0m\u001b[37m\u001b[0m \u001b[1m0s\u001b[0m 925us/step - loss: 365.8770 - mae: 15.3562 - val_loss: 271.8382 - val_mae: 13.3505\n",
      "Epoch 11/50\n",
      "\u001b[1m99/99\u001b[0m \u001b[32m━━━━━━━━━━━━━━━━━━━━\u001b[0m\u001b[37m\u001b[0m \u001b[1m0s\u001b[0m 1ms/step - loss: 347.5055 - mae: 14.7151 - val_loss: 261.9626 - val_mae: 13.1902\n",
      "Epoch 12/50\n",
      "\u001b[1m99/99\u001b[0m \u001b[32m━━━━━━━━━━━━━━━━━━━━\u001b[0m\u001b[37m\u001b[0m \u001b[1m0s\u001b[0m 1ms/step - loss: 338.7408 - mae: 14.8392 - val_loss: 251.8283 - val_mae: 12.8935\n",
      "Epoch 13/50\n",
      "\u001b[1m99/99\u001b[0m \u001b[32m━━━━━━━━━━━━━━━━━━━━\u001b[0m\u001b[37m\u001b[0m \u001b[1m0s\u001b[0m 1ms/step - loss: 312.2988 - mae: 14.1301 - val_loss: 243.6051 - val_mae: 12.6924\n",
      "Epoch 14/50\n",
      "\u001b[1m99/99\u001b[0m \u001b[32m━━━━━━━━━━━━━━━━━━━━\u001b[0m\u001b[37m\u001b[0m \u001b[1m0s\u001b[0m 994us/step - loss: 304.1331 - mae: 14.1631 - val_loss: 229.6517 - val_mae: 12.3344\n",
      "Epoch 15/50\n",
      "\u001b[1m99/99\u001b[0m \u001b[32m━━━━━━━━━━━━━━━━━━━━\u001b[0m\u001b[37m\u001b[0m \u001b[1m0s\u001b[0m 982us/step - loss: 299.4713 - mae: 13.8607 - val_loss: 225.1016 - val_mae: 12.0981\n",
      "Epoch 16/50\n",
      "\u001b[1m99/99\u001b[0m \u001b[32m━━━━━━━━━━━━━━━━━━━━\u001b[0m\u001b[37m\u001b[0m \u001b[1m0s\u001b[0m 990us/step - loss: 292.2368 - mae: 13.6034 - val_loss: 210.8355 - val_mae: 11.6994\n",
      "Epoch 17/50\n",
      "\u001b[1m99/99\u001b[0m \u001b[32m━━━━━━━━━━━━━━━━━━━━\u001b[0m\u001b[37m\u001b[0m \u001b[1m0s\u001b[0m 947us/step - loss: 283.8034 - mae: 13.5321 - val_loss: 208.8582 - val_mae: 11.6482\n",
      "Epoch 18/50\n",
      "\u001b[1m99/99\u001b[0m \u001b[32m━━━━━━━━━━━━━━━━━━━━\u001b[0m\u001b[37m\u001b[0m \u001b[1m0s\u001b[0m 990us/step - loss: 265.3585 - mae: 12.8999 - val_loss: 201.8475 - val_mae: 11.4721\n",
      "Epoch 19/50\n",
      "\u001b[1m99/99\u001b[0m \u001b[32m━━━━━━━━━━━━━━━━━━━━\u001b[0m\u001b[37m\u001b[0m \u001b[1m0s\u001b[0m 984us/step - loss: 251.6409 - mae: 12.7267 - val_loss: 197.7827 - val_mae: 11.3060\n",
      "Epoch 20/50\n",
      "\u001b[1m99/99\u001b[0m \u001b[32m━━━━━━━━━━━━━━━━━━━━\u001b[0m\u001b[37m\u001b[0m \u001b[1m0s\u001b[0m 988us/step - loss: 250.5372 - mae: 12.6576 - val_loss: 191.8145 - val_mae: 11.1380\n",
      "Epoch 21/50\n",
      "\u001b[1m99/99\u001b[0m \u001b[32m━━━━━━━━━━━━━━━━━━━━\u001b[0m\u001b[37m\u001b[0m \u001b[1m0s\u001b[0m 953us/step - loss: 236.2006 - mae: 12.2037 - val_loss: 186.1159 - val_mae: 10.9490\n",
      "Epoch 22/50\n",
      "\u001b[1m99/99\u001b[0m \u001b[32m━━━━━━━━━━━━━━━━━━━━\u001b[0m\u001b[37m\u001b[0m \u001b[1m0s\u001b[0m 963us/step - loss: 230.0893 - mae: 12.2014 - val_loss: 175.7721 - val_mae: 10.6419\n",
      "Epoch 23/50\n",
      "\u001b[1m99/99\u001b[0m \u001b[32m━━━━━━━━━━━━━━━━━━━━\u001b[0m\u001b[37m\u001b[0m \u001b[1m0s\u001b[0m 984us/step - loss: 234.3846 - mae: 12.2447 - val_loss: 173.4664 - val_mae: 10.4892\n",
      "Epoch 24/50\n",
      "\u001b[1m99/99\u001b[0m \u001b[32m━━━━━━━━━━━━━━━━━━━━\u001b[0m\u001b[37m\u001b[0m \u001b[1m0s\u001b[0m 971us/step - loss: 230.5671 - mae: 11.9332 - val_loss: 166.1585 - val_mae: 10.3450\n",
      "Epoch 25/50\n",
      "\u001b[1m99/99\u001b[0m \u001b[32m━━━━━━━━━━━━━━━━━━━━\u001b[0m\u001b[37m\u001b[0m \u001b[1m0s\u001b[0m 1ms/step - loss: 226.7720 - mae: 11.8711 - val_loss: 162.6739 - val_mae: 10.2150\n",
      "Epoch 26/50\n",
      "\u001b[1m99/99\u001b[0m \u001b[32m━━━━━━━━━━━━━━━━━━━━\u001b[0m\u001b[37m\u001b[0m \u001b[1m0s\u001b[0m 1ms/step - loss: 218.7052 - mae: 11.7125 - val_loss: 157.9367 - val_mae: 10.0059\n",
      "Epoch 27/50\n",
      "\u001b[1m99/99\u001b[0m \u001b[32m━━━━━━━━━━━━━━━━━━━━\u001b[0m\u001b[37m\u001b[0m \u001b[1m0s\u001b[0m 1ms/step - loss: 197.5134 - mae: 11.3363 - val_loss: 155.0258 - val_mae: 9.9495\n",
      "Epoch 28/50\n",
      "\u001b[1m99/99\u001b[0m \u001b[32m━━━━━━━━━━━━━━━━━━━━\u001b[0m\u001b[37m\u001b[0m \u001b[1m0s\u001b[0m 988us/step - loss: 194.6239 - mae: 11.1126 - val_loss: 149.9344 - val_mae: 9.7756\n",
      "Epoch 29/50\n",
      "\u001b[1m99/99\u001b[0m \u001b[32m━━━━━━━━━━━━━━━━━━━━\u001b[0m\u001b[37m\u001b[0m \u001b[1m0s\u001b[0m 988us/step - loss: 207.7644 - mae: 11.4672 - val_loss: 144.3833 - val_mae: 9.5285\n",
      "Epoch 30/50\n",
      "\u001b[1m99/99\u001b[0m \u001b[32m━━━━━━━━━━━━━━━━━━━━\u001b[0m\u001b[37m\u001b[0m \u001b[1m0s\u001b[0m 1ms/step - loss: 197.0427 - mae: 11.2375 - val_loss: 142.9449 - val_mae: 9.4994\n",
      "Epoch 31/50\n",
      "\u001b[1m99/99\u001b[0m \u001b[32m━━━━━━━━━━━━━━━━━━━━\u001b[0m\u001b[37m\u001b[0m \u001b[1m0s\u001b[0m 1ms/step - loss: 189.0046 - mae: 11.0718 - val_loss: 140.2357 - val_mae: 9.3607\n",
      "Epoch 32/50\n",
      "\u001b[1m99/99\u001b[0m \u001b[32m━━━━━━━━━━━━━━━━━━━━\u001b[0m\u001b[37m\u001b[0m \u001b[1m0s\u001b[0m 944us/step - loss: 193.5383 - mae: 10.9576 - val_loss: 137.0912 - val_mae: 9.2502\n",
      "Epoch 33/50\n",
      "\u001b[1m99/99\u001b[0m \u001b[32m━━━━━━━━━━━━━━━━━━━━\u001b[0m\u001b[37m\u001b[0m \u001b[1m0s\u001b[0m 975us/step - loss: 182.5487 - mae: 10.7389 - val_loss: 133.0047 - val_mae: 9.1371\n",
      "Epoch 34/50\n",
      "\u001b[1m99/99\u001b[0m \u001b[32m━━━━━━━━━━━━━━━━━━━━\u001b[0m\u001b[37m\u001b[0m \u001b[1m0s\u001b[0m 952us/step - loss: 185.3885 - mae: 10.7875 - val_loss: 130.0888 - val_mae: 9.0728\n",
      "Epoch 35/50\n",
      "\u001b[1m99/99\u001b[0m \u001b[32m━━━━━━━━━━━━━━━━━━━━\u001b[0m\u001b[37m\u001b[0m \u001b[1m0s\u001b[0m 975us/step - loss: 186.3373 - mae: 10.9394 - val_loss: 129.3200 - val_mae: 8.9773\n",
      "Epoch 36/50\n",
      "\u001b[1m99/99\u001b[0m \u001b[32m━━━━━━━━━━━━━━━━━━━━\u001b[0m\u001b[37m\u001b[0m \u001b[1m0s\u001b[0m 980us/step - loss: 168.0530 - mae: 10.2933 - val_loss: 126.7168 - val_mae: 8.9453\n",
      "Epoch 37/50\n",
      "\u001b[1m99/99\u001b[0m \u001b[32m━━━━━━━━━━━━━━━━━━━━\u001b[0m\u001b[37m\u001b[0m \u001b[1m0s\u001b[0m 999us/step - loss: 172.0934 - mae: 10.5126 - val_loss: 124.0509 - val_mae: 8.7677\n",
      "Epoch 38/50\n",
      "\u001b[1m99/99\u001b[0m \u001b[32m━━━━━━━━━━━━━━━━━━━━\u001b[0m\u001b[37m\u001b[0m \u001b[1m0s\u001b[0m 969us/step - loss: 174.8307 - mae: 10.4646 - val_loss: 122.4832 - val_mae: 8.6917\n",
      "Epoch 39/50\n",
      "\u001b[1m99/99\u001b[0m \u001b[32m━━━━━━━━━━━━━━━━━━━━\u001b[0m\u001b[37m\u001b[0m \u001b[1m0s\u001b[0m 983us/step - loss: 168.4778 - mae: 10.3481 - val_loss: 120.2094 - val_mae: 8.6288\n",
      "Epoch 40/50\n",
      "\u001b[1m99/99\u001b[0m \u001b[32m━━━━━━━━━━━━━━━━━━━━\u001b[0m\u001b[37m\u001b[0m \u001b[1m0s\u001b[0m 984us/step - loss: 157.4155 - mae: 10.0820 - val_loss: 116.8117 - val_mae: 8.5138\n",
      "Epoch 41/50\n",
      "\u001b[1m99/99\u001b[0m \u001b[32m━━━━━━━━━━━━━━━━━━━━\u001b[0m\u001b[37m\u001b[0m \u001b[1m0s\u001b[0m 990us/step - loss: 162.0462 - mae: 10.1259 - val_loss: 118.5625 - val_mae: 8.6002\n",
      "Epoch 42/50\n",
      "\u001b[1m99/99\u001b[0m \u001b[32m━━━━━━━━━━━━━━━━━━━━\u001b[0m\u001b[37m\u001b[0m \u001b[1m0s\u001b[0m 959us/step - loss: 157.1310 - mae: 9.9613 - val_loss: 115.6221 - val_mae: 8.4216\n",
      "Epoch 43/50\n",
      "\u001b[1m99/99\u001b[0m \u001b[32m━━━━━━━━━━━━━━━━━━━━\u001b[0m\u001b[37m\u001b[0m \u001b[1m0s\u001b[0m 1ms/step - loss: 158.3906 - mae: 9.9604 - val_loss: 116.0596 - val_mae: 8.4003\n",
      "Epoch 44/50\n",
      "\u001b[1m99/99\u001b[0m \u001b[32m━━━━━━━━━━━━━━━━━━━━\u001b[0m\u001b[37m\u001b[0m \u001b[1m0s\u001b[0m 1ms/step - loss: 154.6819 - mae: 9.9316 - val_loss: 110.8613 - val_mae: 8.2443\n",
      "Epoch 45/50\n",
      "\u001b[1m99/99\u001b[0m \u001b[32m━━━━━━━━━━━━━━━━━━━━\u001b[0m\u001b[37m\u001b[0m \u001b[1m0s\u001b[0m 1ms/step - loss: 150.2193 - mae: 9.8527 - val_loss: 112.0397 - val_mae: 8.2913\n",
      "Epoch 46/50\n",
      "\u001b[1m99/99\u001b[0m \u001b[32m━━━━━━━━━━━━━━━━━━━━\u001b[0m\u001b[37m\u001b[0m \u001b[1m0s\u001b[0m 1ms/step - loss: 150.5042 - mae: 9.8258 - val_loss: 110.9002 - val_mae: 8.2879\n",
      "Epoch 47/50\n",
      "\u001b[1m99/99\u001b[0m \u001b[32m━━━━━━━━━━━━━━━━━━━━\u001b[0m\u001b[37m\u001b[0m \u001b[1m0s\u001b[0m 1ms/step - loss: 153.5700 - mae: 9.8515 - val_loss: 109.2286 - val_mae: 8.1583\n",
      "Epoch 48/50\n",
      "\u001b[1m99/99\u001b[0m \u001b[32m━━━━━━━━━━━━━━━━━━━━\u001b[0m\u001b[37m\u001b[0m \u001b[1m0s\u001b[0m 943us/step - loss: 146.7539 - mae: 9.7415 - val_loss: 108.2331 - val_mae: 8.1145\n",
      "Epoch 49/50\n",
      "\u001b[1m99/99\u001b[0m \u001b[32m━━━━━━━━━━━━━━━━━━━━\u001b[0m\u001b[37m\u001b[0m \u001b[1m0s\u001b[0m 1ms/step - loss: 138.5428 - mae: 9.3984 - val_loss: 111.8437 - val_mae: 8.2479\n",
      "Epoch 50/50\n",
      "\u001b[1m99/99\u001b[0m \u001b[32m━━━━━━━━━━━━━━━━━━━━\u001b[0m\u001b[37m\u001b[0m \u001b[1m0s\u001b[0m 1ms/step - loss: 146.3429 - mae: 9.6157 - val_loss: 107.8733 - val_mae: 8.1544\n"
     ]
    }
   ],
   "source": [
    "# Initialize sequential model \n",
    "model = Sequential([\n",
    "    Input(shape=(input_train.shape[1],)), # define input shape\n",
    "    Dense(64, activation='relu'), # first hidden layer with 64 units\n",
    "    Dropout(0.2), \n",
    "    Dense(32, activation='relu'), # second hidden layer with 32 units\n",
    "    Dense(1) # Output layer with target (PTS)\n",
    "])\n",
    "\n",
    "# Compile the model \n",
    "model.compile(optimizer=Adam(learning_rate=0.001), loss='mean_squared_error', metrics=['mae'])\n",
    "\n",
    "# Train the model\n",
    "history = model.fit(input_train, target_train, epochs=50, batch_size=32, validation_split=0.2)"
   ]
  },
  {
   "cell_type": "markdown",
   "id": "7fc85606-f283-49fc-8b4f-721061eeea97",
   "metadata": {},
   "source": [
    "## Visualize History"
   ]
  },
  {
   "cell_type": "code",
   "execution_count": 65,
   "id": "44963c43-3ba5-4459-acca-ff4e01130342",
   "metadata": {},
   "outputs": [
    {
     "data": {
      "image/png": "[encoded data removed]",
      "text/plain": [
       "<Figure size 640x480 with 1 Axes>"
      ]
     },
     "metadata": {},
     "output_type": "display_data"
    }
   ],
   "source": [
    "# Plot training and validation loss over epochs\n",
    "plt.plot(history.history['loss'], label = 'Training Loss')\n",
    "plt.plot(history.history['val_loss'], label = 'Validation Loss')\n",
    "plt.xlabel('Epoch')\n",
    "plt.ylabel('Mean Squared Error')\n",
    "plt.legend()\n",
    "plt.show()"
   ]
  },
  {
   "cell_type": "markdown",
   "id": "4008bd64-1980-47c5-b0fc-37db735115cf",
   "metadata": {},
   "source": [
    "## Evaluation and Sample Target Prediction"
   ]
  },
  {
   "cell_type": "code",
   "execution_count": 67,
   "id": "29898adf-aa61-4148-a28f-7e017b948851",
   "metadata": {},
   "outputs": [
    {
     "name": "stdout",
     "output_type": "stream",
     "text": [
      "\u001b[1m31/31\u001b[0m \u001b[32m━━━━━━━━━━━━━━━━━━━━\u001b[0m\u001b[37m\u001b[0m \u001b[1m0s\u001b[0m 764us/step - loss: 97.0986 - mae: 7.7968\n",
      "Test Loss (MSE): 98.86361694335938\n",
      "Test MAE: 7.885351657867432\n",
      "\u001b[1m31/31\u001b[0m \u001b[32m━━━━━━━━━━━━━━━━━━━━\u001b[0m\u001b[37m\u001b[0m \u001b[1m0s\u001b[0m 633us/step\n",
      "Sample Predictions (PTS): [124.09716  110.59908  134.36588  120.927025 116.871605 100.97604\n",
      " 123.77379  111.778435 119.421005 117.24224 ]\n",
      "Actual Vales (PTS): [127 125 122 122 112 106 134 107 116 127]\n"
     ]
    }
   ],
   "source": [
    "# Evaluate model on test data\n",
    "test_loss, test_mae = model.evaluate(input_test, target_test)\n",
    "print(f\"Test Loss (MSE): {test_loss}\")\n",
    "print(f\"Test MAE: {test_mae}\")\n",
    "\n",
    "# Target prediction\n",
    "sample_predictions = model.predict(input_test)\n",
    "print(\"Sample Predictions (PTS):\", sample_predictions[:10].flatten())\n",
    "print(\"Actual Vales (PTS):\", target_test[:10].values)"
   ]
  },
  {
   "cell_type": "code",
   "execution_count": null,
   "id": "89f7f5d1-9282-462f-932c-82b8ea3986b3",
   "metadata": {},
   "outputs": [],
   "source": []
  }
 ],
 "metadata": {
  "kernelspec": {
   "display_name": "Python (venv)",
   "language": "python",
   "name": "venv"
  },
  "language_info": {
   "codemirror_mode": {
    "name": "ipython",
    "version": 3
   },
   "file_extension": ".py",
   "mimetype": "text/x-python",
   "name": "python",
   "nbconvert_exporter": "python",
   "pygments_lexer": "ipython3",
   "version": "3.12.2"
  }
 },
 "nbformat": 4,
 "nbformat_minor": 5
}

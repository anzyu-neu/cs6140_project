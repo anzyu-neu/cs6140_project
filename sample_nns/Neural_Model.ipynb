{
 "cells": [
  {
   "cell_type": "markdown",
   "id": "d9d833dc-c036-4280-9005-622fa95687bb",
   "metadata": {},
   "source": [
    "# Neural Network Training"
   ]
  },
  {
   "cell_type": "code",
   "execution_count": 2,
   "id": "ab282edf-7018-4cbd-b2f5-68d512306c85",
   "metadata": {},
   "outputs": [],
   "source": [
    "import numpy as np\n",
    "import pandas as pd\n",
    "import tensorflow as tf\n",
    "import matplotlib.pyplot as plt\n",
    "\n",
    "from tensorflow.keras.models import Sequential\n",
    "from tensorflow.keras.layers import Dense, Dropout, Input\n",
    "from tensorflow.keras.optimizers import Adam\n",
    "from sklearn.model_selection import train_test_split\n",
    "from sklearn.preprocessing import StandardScaler"
   ]
  },
  {
   "cell_type": "markdown",
   "id": "8d10ed1d-83ff-470a-81c6-62cc1a180fb3",
   "metadata": {},
   "source": [
    "## Importing 2 seasons of NBA data (2022-23, 2023-24)"
   ]
  },
  {
   "cell_type": "code",
   "execution_count": 6,
   "id": "9d1e054f-a7ca-4ede-b096-e5a4d73d8507",
   "metadata": {},
   "outputs": [],
   "source": [
    "season_22 = pd.read_csv('../data_generation/output_data/2022-23_data.csv')\n",
    "# season_23 = "
   ]
  },
  {
   "cell_type": "code",
   "execution_count": null,
   "id": "3bc302c9-30b6-4150-b3c1-c9d2ca43cc3a",
   "metadata": {},
   "outputs": [],
   "source": []
  }
 ],
 "metadata": {
  "kernelspec": {
   "display_name": "Python (venv)",
   "language": "python",
   "name": "venv"
  },
  "language_info": {
   "codemirror_mode": {
    "name": "ipython",
    "version": 3
   },
   "file_extension": ".py",
   "mimetype": "text/x-python",
   "name": "python",
   "nbconvert_exporter": "python",
   "pygments_lexer": "ipython3",
   "version": "3.12.2"
  }
 },
 "nbformat": 4,
 "nbformat_minor": 5
}

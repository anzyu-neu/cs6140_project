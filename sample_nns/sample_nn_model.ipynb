{
 "cells": [
  {
   "cell_type": "markdown",
   "id": "74150e38-1087-4d83-b944-bb3626f49cd2",
   "metadata": {},
   "source": [
    "# Neural Network for Learning NBA Points Data"
   ]
  },
  {
   "cell_type": "markdown",
   "id": "9ab62b99-d4d1-49e9-9e00-25eeb8e8d5f2",
   "metadata": {},
   "source": [
    "## Library Import"
   ]
  },
  {
   "cell_type": "code",
   "execution_count": 1,
   "id": "834a4bed-7f74-40a7-a450-c3734754f377",
   "metadata": {},
   "outputs": [],
   "source": [
    "# Import necessary libraries\n",
    "import numpy as np\n",
    "import pandas as pd\n",
    "import tensorflow as tf\n",
    "import matplotlib.pyplot as plt\n",
    "\n",
    "from tensorflow.keras.models import Sequential\n",
    "from tensorflow.keras.layers import Dense, Dropout, Input\n",
    "from tensorflow.keras.optimizers import Adam\n",
    "from sklearn.model_selection import train_test_split\n",
    "from sklearn.preprocessing import StandardScaler"
   ]
  },
  {
   "cell_type": "markdown",
   "id": "e5c64be4-139b-425f-a081-41754280b9d4",
   "metadata": {},
   "source": [
    "## Seed Data and RNG Data Set"
   ]
  },
  {
   "cell_type": "code",
   "execution_count": 3,
   "id": "5edfaee1-00af-4148-b2f5-b8c313fd2997",
   "metadata": {},
   "outputs": [
    {
     "data": {
      "text/html": [
       "<div>\n",
       "<style scoped>\n",
       "    .dataframe tbody tr th:only-of-type {\n",
       "        vertical-align: middle;\n",
       "    }\n",
       "\n",
       "    .dataframe tbody tr th {\n",
       "        vertical-align: top;\n",
       "    }\n",
       "\n",
       "    .dataframe thead th {\n",
       "        text-align: right;\n",
       "    }\n",
       "</style>\n",
       "<table border=\"1\" class=\"dataframe\">\n",
       "  <thead>\n",
       "    <tr style=\"text-align: right;\">\n",
       "      <th></th>\n",
       "      <th>home_off_rating</th>\n",
       "      <th>home_def_rating</th>\n",
       "      <th>away_off_rating</th>\n",
       "      <th>away_def_rating</th>\n",
       "      <th>point_diff</th>\n",
       "    </tr>\n",
       "  </thead>\n",
       "  <tbody>\n",
       "    <tr>\n",
       "      <th>0</th>\n",
       "      <td>118.820262</td>\n",
       "      <td>107.779813</td>\n",
       "      <td>100.335395</td>\n",
       "      <td>111.966368</td>\n",
       "      <td>9.920639</td>\n",
       "    </tr>\n",
       "    <tr>\n",
       "      <th>1</th>\n",
       "      <td>112.000786</td>\n",
       "      <td>109.462369</td>\n",
       "      <td>99.440149</td>\n",
       "      <td>106.843612</td>\n",
       "      <td>14.375674</td>\n",
       "    </tr>\n",
       "    <tr>\n",
       "      <th>2</th>\n",
       "      <td>114.893690</td>\n",
       "      <td>102.888426</td>\n",
       "      <td>108.230675</td>\n",
       "      <td>103.427565</td>\n",
       "      <td>12.821580</td>\n",
       "    </tr>\n",
       "    <tr>\n",
       "      <th>3</th>\n",
       "      <td>121.204466</td>\n",
       "      <td>105.523570</td>\n",
       "      <td>103.208128</td>\n",
       "      <td>105.258151</td>\n",
       "      <td>21.628553</td>\n",
       "    </tr>\n",
       "    <tr>\n",
       "      <th>4</th>\n",
       "      <td>119.337790</td>\n",
       "      <td>106.140267</td>\n",
       "      <td>107.595942</td>\n",
       "      <td>97.945722</td>\n",
       "      <td>12.700409</td>\n",
       "    </tr>\n",
       "  </tbody>\n",
       "</table>\n",
       "</div>"
      ],
      "text/plain": [
       "   home_off_rating  home_def_rating  away_off_rating  away_def_rating  \\\n",
       "0       118.820262       107.779813       100.335395       111.966368   \n",
       "1       112.000786       109.462369        99.440149       106.843612   \n",
       "2       114.893690       102.888426       108.230675       103.427565   \n",
       "3       121.204466       105.523570       103.208128       105.258151   \n",
       "4       119.337790       106.140267       107.595942        97.945722   \n",
       "\n",
       "   point_diff  \n",
       "0    9.920639  \n",
       "1   14.375674  \n",
       "2   12.821580  \n",
       "3   21.628553  \n",
       "4   12.700409  "
      ]
     },
     "execution_count": 3,
     "metadata": {},
     "output_type": "execute_result"
    }
   ],
   "source": [
    "np.random.seed(0)\n",
    "\n",
    "# Generate synthetic team statistics for home and away teams \n",
    "num_samples = 1000\n",
    "data = {\n",
    "    'home_off_rating': np.random.normal(110, 5, num_samples),\n",
    "    'home_def_rating': np.random.normal(105, 5, num_samples),\n",
    "    'away_off_rating': np.random.normal(108, 5, num_samples),\n",
    "    'away_def_rating': np.random.normal(104, 5, num_samples)\n",
    "}\n",
    "\n",
    "data ['point_diff'] = (\n",
    "    data['home_off_rating'] - data['away_def_rating'] + \n",
    "    (np.random.normal(0, 5, num_samples)) # random noise\n",
    ")\n",
    "\n",
    "df = pd.DataFrame(data)\n",
    "df.head()"
   ]
  },
  {
   "cell_type": "markdown",
   "id": "be09acef-4ee1-450c-8f48-e65fcd8b3f75",
   "metadata": {},
   "source": [
    "## Prepare features and target value"
   ]
  },
  {
   "cell_type": "code",
   "execution_count": 4,
   "id": "1dcd3499-fdee-46f7-830f-2dc02627444e",
   "metadata": {},
   "outputs": [],
   "source": [
    "X = df.drop(columns=['point_diff'])\n",
    "y = df['point_diff']\n",
    "\n",
    "# Split into train and test set \n",
    "X_train, X_test, y_train, y_test = train_test_split(X, y, test_size = 0.2, random_state = 0)"
   ]
  },
  {
   "cell_type": "markdown",
   "id": "e9ee3c64-ae2e-43d8-b18a-6b6271a732e3",
   "metadata": {},
   "source": [
    "## Scale the features"
   ]
  },
  {
   "cell_type": "code",
   "execution_count": 5,
   "id": "b32a06b9-fcfc-409d-926f-7d561cd0b062",
   "metadata": {},
   "outputs": [],
   "source": [
    "scaler = StandardScaler()\n",
    "X_train = scaler.fit_transform(X_train)\n",
    "X_test = scaler.transform(X_test)"
   ]
  },
  {
   "cell_type": "markdown",
   "id": "f8773696-6f3a-4470-9fbd-d4f729b3f91a",
   "metadata": {},
   "source": [
    "## Define the neural network model"
   ]
  },
  {
   "cell_type": "code",
   "execution_count": 6,
   "id": "57f07db0-17ff-480a-8c23-e93d6f7f0b3a",
   "metadata": {},
   "outputs": [
    {
     "name": "stdout",
     "output_type": "stream",
     "text": [
      "Epoch 1/50\n",
      "\u001b[1m20/20\u001b[0m \u001b[32m━━━━━━━━━━━━━━━━━━━━\u001b[0m\u001b[37m\u001b[0m \u001b[1m2s\u001b[0m 16ms/step - loss: 99.1316 - mae: 7.8870 - val_loss: 104.8943 - val_mae: 8.2738\n",
      "Epoch 2/50\n",
      "\u001b[1m20/20\u001b[0m \u001b[32m━━━━━━━━━━━━━━━━━━━━\u001b[0m\u001b[37m\u001b[0m \u001b[1m0s\u001b[0m 5ms/step - loss: 89.8017 - mae: 7.4664 - val_loss: 92.8789 - val_mae: 7.7790\n",
      "Epoch 3/50\n",
      "\u001b[1m20/20\u001b[0m \u001b[32m━━━━━━━━━━━━━━━━━━━━\u001b[0m\u001b[37m\u001b[0m \u001b[1m0s\u001b[0m 5ms/step - loss: 90.9649 - mae: 7.4554 - val_loss: 77.7109 - val_mae: 7.1106\n",
      "Epoch 4/50\n",
      "\u001b[1m20/20\u001b[0m \u001b[32m━━━━━━━━━━━━━━━━━━━━\u001b[0m\u001b[37m\u001b[0m \u001b[1m0s\u001b[0m 6ms/step - loss: 70.1930 - mae: 6.6127 - val_loss: 60.3001 - val_mae: 6.2253\n",
      "Epoch 5/50\n",
      "\u001b[1m20/20\u001b[0m \u001b[32m━━━━━━━━━━━━━━━━━━━━\u001b[0m\u001b[37m\u001b[0m \u001b[1m0s\u001b[0m 4ms/step - loss: 55.8901 - mae: 5.9460 - val_loss: 43.9330 - val_mae: 5.2452\n",
      "Epoch 6/50\n",
      "\u001b[1m20/20\u001b[0m \u001b[32m━━━━━━━━━━━━━━━━━━━━\u001b[0m\u001b[37m\u001b[0m \u001b[1m0s\u001b[0m 5ms/step - loss: 39.9554 - mae: 4.9703 - val_loss: 33.7777 - val_mae: 4.5437\n",
      "Epoch 7/50\n",
      "\u001b[1m20/20\u001b[0m \u001b[32m━━━━━━━━━━━━━━━━━━━━\u001b[0m\u001b[37m\u001b[0m \u001b[1m0s\u001b[0m 5ms/step - loss: 30.9330 - mae: 4.3998 - val_loss: 29.1350 - val_mae: 4.2208\n",
      "Epoch 8/50\n",
      "\u001b[1m20/20\u001b[0m \u001b[32m━━━━━━━━━━━━━━━━━━━━\u001b[0m\u001b[37m\u001b[0m \u001b[1m0s\u001b[0m 5ms/step - loss: 30.7328 - mae: 4.4569 - val_loss: 27.8801 - val_mae: 4.1578\n",
      "Epoch 9/50\n",
      "\u001b[1m20/20\u001b[0m \u001b[32m━━━━━━━━━━━━━━━━━━━━\u001b[0m\u001b[37m\u001b[0m \u001b[1m0s\u001b[0m 4ms/step - loss: 28.4360 - mae: 4.2360 - val_loss: 27.4303 - val_mae: 4.1209\n",
      "Epoch 10/50\n",
      "\u001b[1m20/20\u001b[0m \u001b[32m━━━━━━━━━━━━━━━━━━━━\u001b[0m\u001b[37m\u001b[0m \u001b[1m0s\u001b[0m 5ms/step - loss: 27.5911 - mae: 4.1507 - val_loss: 27.3329 - val_mae: 4.1125\n",
      "Epoch 11/50\n",
      "\u001b[1m20/20\u001b[0m \u001b[32m━━━━━━━━━━━━━━━━━━━━\u001b[0m\u001b[37m\u001b[0m \u001b[1m0s\u001b[0m 4ms/step - loss: 25.5874 - mae: 3.9777 - val_loss: 27.2640 - val_mae: 4.1133\n",
      "Epoch 12/50\n",
      "\u001b[1m20/20\u001b[0m \u001b[32m━━━━━━━━━━━━━━━━━━━━\u001b[0m\u001b[37m\u001b[0m \u001b[1m0s\u001b[0m 4ms/step - loss: 25.4881 - mae: 4.0656 - val_loss: 27.3236 - val_mae: 4.1204\n",
      "Epoch 13/50\n",
      "\u001b[1m20/20\u001b[0m \u001b[32m━━━━━━━━━━━━━━━━━━━━\u001b[0m\u001b[37m\u001b[0m \u001b[1m0s\u001b[0m 6ms/step - loss: 27.9087 - mae: 4.1624 - val_loss: 27.1419 - val_mae: 4.1209\n",
      "Epoch 14/50\n",
      "\u001b[1m20/20\u001b[0m \u001b[32m━━━━━━━━━━━━━━━━━━━━\u001b[0m\u001b[37m\u001b[0m \u001b[1m0s\u001b[0m 9ms/step - loss: 27.1837 - mae: 4.1598 - val_loss: 27.2237 - val_mae: 4.1171\n",
      "Epoch 15/50\n",
      "\u001b[1m20/20\u001b[0m \u001b[32m━━━━━━━━━━━━━━━━━━━━\u001b[0m\u001b[37m\u001b[0m \u001b[1m0s\u001b[0m 5ms/step - loss: 26.5480 - mae: 4.1098 - val_loss: 27.1405 - val_mae: 4.1114\n",
      "Epoch 16/50\n",
      "\u001b[1m20/20\u001b[0m \u001b[32m━━━━━━━━━━━━━━━━━━━━\u001b[0m\u001b[37m\u001b[0m \u001b[1m0s\u001b[0m 5ms/step - loss: 25.7700 - mae: 3.9837 - val_loss: 26.9692 - val_mae: 4.1072\n",
      "Epoch 17/50\n",
      "\u001b[1m20/20\u001b[0m \u001b[32m━━━━━━━━━━━━━━━━━━━━\u001b[0m\u001b[37m\u001b[0m \u001b[1m0s\u001b[0m 4ms/step - loss: 27.9603 - mae: 4.2640 - val_loss: 26.9744 - val_mae: 4.1086\n",
      "Epoch 18/50\n",
      "\u001b[1m20/20\u001b[0m \u001b[32m━━━━━━━━━━━━━━━━━━━━\u001b[0m\u001b[37m\u001b[0m \u001b[1m0s\u001b[0m 5ms/step - loss: 24.4859 - mae: 3.8648 - val_loss: 27.0158 - val_mae: 4.1053\n",
      "Epoch 19/50\n",
      "\u001b[1m20/20\u001b[0m \u001b[32m━━━━━━━━━━━━━━━━━━━━\u001b[0m\u001b[37m\u001b[0m \u001b[1m0s\u001b[0m 5ms/step - loss: 27.0642 - mae: 4.2068 - val_loss: 27.0458 - val_mae: 4.1059\n",
      "Epoch 20/50\n",
      "\u001b[1m20/20\u001b[0m \u001b[32m━━━━━━━━━━━━━━━━━━━━\u001b[0m\u001b[37m\u001b[0m \u001b[1m0s\u001b[0m 5ms/step - loss: 25.2679 - mae: 3.9669 - val_loss: 26.8889 - val_mae: 4.1058\n",
      "Epoch 21/50\n",
      "\u001b[1m20/20\u001b[0m \u001b[32m━━━━━━━━━━━━━━━━━━━━\u001b[0m\u001b[37m\u001b[0m \u001b[1m0s\u001b[0m 5ms/step - loss: 27.8215 - mae: 4.1607 - val_loss: 26.6944 - val_mae: 4.1011\n",
      "Epoch 22/50\n",
      "\u001b[1m20/20\u001b[0m \u001b[32m━━━━━━━━━━━━━━━━━━━━\u001b[0m\u001b[37m\u001b[0m \u001b[1m0s\u001b[0m 4ms/step - loss: 22.4373 - mae: 3.7456 - val_loss: 26.6119 - val_mae: 4.0958\n",
      "Epoch 23/50\n",
      "\u001b[1m20/20\u001b[0m \u001b[32m━━━━━━━━━━━━━━━━━━━━\u001b[0m\u001b[37m\u001b[0m \u001b[1m0s\u001b[0m 4ms/step - loss: 26.4249 - mae: 4.0554 - val_loss: 26.8259 - val_mae: 4.1006\n",
      "Epoch 24/50\n",
      "\u001b[1m20/20\u001b[0m \u001b[32m━━━━━━━━━━━━━━━━━━━━\u001b[0m\u001b[37m\u001b[0m \u001b[1m0s\u001b[0m 4ms/step - loss: 24.8255 - mae: 3.9520 - val_loss: 26.6754 - val_mae: 4.0927\n",
      "Epoch 25/50\n",
      "\u001b[1m20/20\u001b[0m \u001b[32m━━━━━━━━━━━━━━━━━━━━\u001b[0m\u001b[37m\u001b[0m \u001b[1m0s\u001b[0m 5ms/step - loss: 26.5612 - mae: 4.0737 - val_loss: 26.5836 - val_mae: 4.0917\n",
      "Epoch 26/50\n",
      "\u001b[1m20/20\u001b[0m \u001b[32m━━━━━━━━━━━━━━━━━━━━\u001b[0m\u001b[37m\u001b[0m \u001b[1m0s\u001b[0m 4ms/step - loss: 26.8203 - mae: 4.1100 - val_loss: 26.8009 - val_mae: 4.1008\n",
      "Epoch 27/50\n",
      "\u001b[1m20/20\u001b[0m \u001b[32m━━━━━━━━━━━━━━━━━━━━\u001b[0m\u001b[37m\u001b[0m \u001b[1m0s\u001b[0m 5ms/step - loss: 23.7692 - mae: 3.8269 - val_loss: 26.5242 - val_mae: 4.0894\n",
      "Epoch 28/50\n",
      "\u001b[1m20/20\u001b[0m \u001b[32m━━━━━━━━━━━━━━━━━━━━\u001b[0m\u001b[37m\u001b[0m \u001b[1m0s\u001b[0m 5ms/step - loss: 26.5705 - mae: 4.1065 - val_loss: 26.4304 - val_mae: 4.0872\n",
      "Epoch 29/50\n",
      "\u001b[1m20/20\u001b[0m \u001b[32m━━━━━━━━━━━━━━━━━━━━\u001b[0m\u001b[37m\u001b[0m \u001b[1m0s\u001b[0m 9ms/step - loss: 25.5902 - mae: 4.0163 - val_loss: 26.6031 - val_mae: 4.0907\n",
      "Epoch 30/50\n",
      "\u001b[1m20/20\u001b[0m \u001b[32m━━━━━━━━━━━━━━━━━━━━\u001b[0m\u001b[37m\u001b[0m \u001b[1m0s\u001b[0m 5ms/step - loss: 26.2133 - mae: 4.0466 - val_loss: 26.5245 - val_mae: 4.0905\n",
      "Epoch 31/50\n",
      "\u001b[1m20/20\u001b[0m \u001b[32m━━━━━━━━━━━━━━━━━━━━\u001b[0m\u001b[37m\u001b[0m \u001b[1m0s\u001b[0m 5ms/step - loss: 24.9558 - mae: 3.9071 - val_loss: 26.4178 - val_mae: 4.0836\n",
      "Epoch 32/50\n",
      "\u001b[1m20/20\u001b[0m \u001b[32m━━━━━━━━━━━━━━━━━━━━\u001b[0m\u001b[37m\u001b[0m \u001b[1m0s\u001b[0m 4ms/step - loss: 25.2577 - mae: 3.9698 - val_loss: 26.4372 - val_mae: 4.0826\n",
      "Epoch 33/50\n",
      "\u001b[1m20/20\u001b[0m \u001b[32m━━━━━━━━━━━━━━━━━━━━\u001b[0m\u001b[37m\u001b[0m \u001b[1m0s\u001b[0m 5ms/step - loss: 24.5063 - mae: 3.8225 - val_loss: 26.5323 - val_mae: 4.0820\n",
      "Epoch 34/50\n",
      "\u001b[1m20/20\u001b[0m \u001b[32m━━━━━━━━━━━━━━━━━━━━\u001b[0m\u001b[37m\u001b[0m \u001b[1m0s\u001b[0m 4ms/step - loss: 26.5814 - mae: 4.0854 - val_loss: 26.6472 - val_mae: 4.0842\n",
      "Epoch 35/50\n",
      "\u001b[1m20/20\u001b[0m \u001b[32m━━━━━━━━━━━━━━━━━━━━\u001b[0m\u001b[37m\u001b[0m \u001b[1m0s\u001b[0m 4ms/step - loss: 28.3890 - mae: 4.1798 - val_loss: 26.4682 - val_mae: 4.0842\n",
      "Epoch 36/50\n",
      "\u001b[1m20/20\u001b[0m \u001b[32m━━━━━━━━━━━━━━━━━━━━\u001b[0m\u001b[37m\u001b[0m \u001b[1m0s\u001b[0m 5ms/step - loss: 27.8093 - mae: 4.2227 - val_loss: 26.4198 - val_mae: 4.0830\n",
      "Epoch 37/50\n",
      "\u001b[1m20/20\u001b[0m \u001b[32m━━━━━━━━━━━━━━━━━━━━\u001b[0m\u001b[37m\u001b[0m \u001b[1m0s\u001b[0m 5ms/step - loss: 23.7481 - mae: 3.8242 - val_loss: 26.3895 - val_mae: 4.0746\n",
      "Epoch 38/50\n",
      "\u001b[1m20/20\u001b[0m \u001b[32m━━━━━━━━━━━━━━━━━━━━\u001b[0m\u001b[37m\u001b[0m \u001b[1m0s\u001b[0m 5ms/step - loss: 24.0075 - mae: 3.8643 - val_loss: 26.5203 - val_mae: 4.0811\n",
      "Epoch 39/50\n",
      "\u001b[1m20/20\u001b[0m \u001b[32m━━━━━━━━━━━━━━━━━━━━\u001b[0m\u001b[37m\u001b[0m \u001b[1m0s\u001b[0m 6ms/step - loss: 24.8840 - mae: 3.9410 - val_loss: 26.2417 - val_mae: 4.0731\n",
      "Epoch 40/50\n",
      "\u001b[1m20/20\u001b[0m \u001b[32m━━━━━━━━━━━━━━━━━━━━\u001b[0m\u001b[37m\u001b[0m \u001b[1m0s\u001b[0m 5ms/step - loss: 24.1921 - mae: 3.8658 - val_loss: 26.2440 - val_mae: 4.0690\n",
      "Epoch 41/50\n",
      "\u001b[1m20/20\u001b[0m \u001b[32m━━━━━━━━━━━━━━━━━━━━\u001b[0m\u001b[37m\u001b[0m \u001b[1m0s\u001b[0m 7ms/step - loss: 28.0701 - mae: 4.2172 - val_loss: 26.2611 - val_mae: 4.0677\n",
      "Epoch 42/50\n",
      "\u001b[1m20/20\u001b[0m \u001b[32m━━━━━━━━━━━━━━━━━━━━\u001b[0m\u001b[37m\u001b[0m \u001b[1m0s\u001b[0m 4ms/step - loss: 23.8522 - mae: 3.8140 - val_loss: 26.3223 - val_mae: 4.0639\n",
      "Epoch 43/50\n",
      "\u001b[1m20/20\u001b[0m \u001b[32m━━━━━━━━━━━━━━━━━━━━\u001b[0m\u001b[37m\u001b[0m \u001b[1m0s\u001b[0m 5ms/step - loss: 25.1451 - mae: 3.9959 - val_loss: 26.1869 - val_mae: 4.0674\n",
      "Epoch 44/50\n",
      "\u001b[1m20/20\u001b[0m \u001b[32m━━━━━━━━━━━━━━━━━━━━\u001b[0m\u001b[37m\u001b[0m \u001b[1m0s\u001b[0m 4ms/step - loss: 24.5794 - mae: 3.9854 - val_loss: 26.2670 - val_mae: 4.0682\n",
      "Epoch 45/50\n",
      "\u001b[1m20/20\u001b[0m \u001b[32m━━━━━━━━━━━━━━━━━━━━\u001b[0m\u001b[37m\u001b[0m \u001b[1m0s\u001b[0m 5ms/step - loss: 24.8099 - mae: 3.9324 - val_loss: 26.5433 - val_mae: 4.0808\n",
      "Epoch 46/50\n",
      "\u001b[1m20/20\u001b[0m \u001b[32m━━━━━━━━━━━━━━━━━━━━\u001b[0m\u001b[37m\u001b[0m \u001b[1m0s\u001b[0m 4ms/step - loss: 25.9439 - mae: 4.0237 - val_loss: 26.2780 - val_mae: 4.0710\n",
      "Epoch 47/50\n",
      "\u001b[1m20/20\u001b[0m \u001b[32m━━━━━━━━━━━━━━━━━━━━\u001b[0m\u001b[37m\u001b[0m \u001b[1m0s\u001b[0m 5ms/step - loss: 25.4773 - mae: 3.9972 - val_loss: 26.1413 - val_mae: 4.0638\n",
      "Epoch 48/50\n",
      "\u001b[1m20/20\u001b[0m \u001b[32m━━━━━━━━━━━━━━━━━━━━\u001b[0m\u001b[37m\u001b[0m \u001b[1m0s\u001b[0m 5ms/step - loss: 23.6917 - mae: 3.7729 - val_loss: 26.5057 - val_mae: 4.0754\n",
      "Epoch 49/50\n",
      "\u001b[1m20/20\u001b[0m \u001b[32m━━━━━━━━━━━━━━━━━━━━\u001b[0m\u001b[37m\u001b[0m \u001b[1m0s\u001b[0m 6ms/step - loss: 24.4084 - mae: 3.9053 - val_loss: 26.3275 - val_mae: 4.0675\n",
      "Epoch 50/50\n",
      "\u001b[1m20/20\u001b[0m \u001b[32m━━━━━━━━━━━━━━━━━━━━\u001b[0m\u001b[37m\u001b[0m \u001b[1m0s\u001b[0m 6ms/step - loss: 24.5131 - mae: 3.9147 - val_loss: 26.3183 - val_mae: 4.0668\n"
     ]
    }
   ],
   "source": [
    "# Initialize sequential model \n",
    "model = Sequential([\n",
    "    Input(shape=(X_train.shape[1],)), # define input shape\n",
    "    Dense(64, activation = 'relu'), # input layer with 64 units\n",
    "    Dropout(0.2), # Dropout layer to prevent overfitting\n",
    "    Dense(32, activation = 'relu'), # Hidden layer with 32 units \n",
    "    Dense(1) # Output layer with 1 unit for regression (predicting point diff)\n",
    "])\n",
    "\n",
    "# Compile the model \n",
    "model.compile(optimizer=Adam(learning_rate=0.001), loss='mean_squared_error', metrics=['mae'])\n",
    "\n",
    "# Train the model\n",
    "history = model.fit(X_train, y_train, epochs=50, batch_size=32, validation_split=0.2)"
   ]
  },
  {
   "cell_type": "markdown",
   "id": "5b7f46ae-90ae-4f3d-870e-d4d33d090234",
   "metadata": {},
   "source": [
    "## Visualize History"
   ]
  },
  {
   "cell_type": "code",
   "execution_count": 8,
   "id": "d76c7435-a9af-401c-a129-3b3e762ef615",
   "metadata": {},
   "outputs": [
    {
     "data": {
      "image/png": "[encoded data removed]",
      "text/plain": [
       "<Figure size 640x480 with 1 Axes>"
      ]
     },
     "metadata": {},
     "output_type": "display_data"
    }
   ],
   "source": [
    "# Plot training and validaiton loss over epochs\n",
    "plt.plot(history.history['loss'], label='Training Loss')\n",
    "plt.plot(history.history['val_loss'], label='Validation Loss')\n",
    "plt.xlabel('Epoch')\n",
    "plt.ylabel('Mean Squared Error')\n",
    "plt.legend()\n",
    "plt.show()"
   ]
  },
  {
   "cell_type": "markdown",
   "id": "93ce2dda-10b5-4dbe-b23c-ca19cce9ab2b",
   "metadata": {},
   "source": [
    "## Evaluation and Target Prediction"
   ]
  },
  {
   "cell_type": "code",
   "execution_count": 9,
   "id": "c584c2db-e507-4797-a582-ef51035a3cb9",
   "metadata": {},
   "outputs": [
    {
     "name": "stdout",
     "output_type": "stream",
     "text": [
      "\u001b[1m7/7\u001b[0m \u001b[32m━━━━━━━━━━━━━━━━━━━━\u001b[0m\u001b[37m\u001b[0m \u001b[1m0s\u001b[0m 3ms/step - loss: 26.2705 - mae: 4.1814  \n",
      "Test Loss (MSE): 26.581865310668945\n",
      "Test MAE: 4.185474395751953\n",
      "\u001b[1m1/1\u001b[0m \u001b[32m━━━━━━━━━━━━━━━━━━━━\u001b[0m\u001b[37m\u001b[0m \u001b[1m0s\u001b[0m 62ms/step\n",
      "Sample Predictions (Point Differential): [11.516974  -3.100856   2.1586378  5.5883775  2.8419855]\n",
      "Actual Values (Point Differential): [ 7.65366384  1.7005336   6.79851836  3.34935956 -2.68112336]\n"
     ]
    }
   ],
   "source": [
    "# Evaluate model on test data\n",
    "test_loss, test_mae = model.evaluate(X_test, y_test)\n",
    "print(f\"Test Loss (MSE): {test_loss}\")\n",
    "print(f\"Test MAE: {test_mae}\")\n",
    "\n",
    "# Target prediction\n",
    "sample_predictions= model.predict(X_test[:5])\n",
    "print(\"Sample Predictions (Point Differential):\", sample_predictions.flatten())\n",
    "print(\"Actual Values (Point Differential):\", y_test[:5].values)"
   ]
  },
  {
   "cell_type": "code",
   "execution_count": null,
   "id": "7b8db97c-2fcf-488d-a737-4aa593e3d813",
   "metadata": {},
   "outputs": [],
   "source": []
  }
 ],
 "metadata": {
  "kernelspec": {
   "display_name": "Python (venv)",
   "language": "python",
   "name": "venv"
  },
  "language_info": {
   "codemirror_mode": {
    "name": "ipython",
    "version": 3
   },
   "file_extension": ".py",
   "mimetype": "text/x-python",
   "name": "python",
   "nbconvert_exporter": "python",
   "pygments_lexer": "ipython3",
   "version": "3.12.2"
  }
 },
 "nbformat": 4,
 "nbformat_minor": 5
}

{
 "cells": [
  {
   "cell_type": "markdown",
   "id": "ead03b04-b1d5-431e-b3b7-3bac11411c3a",
   "metadata": {},
   "source": [
    "# Model Evaluation\n",
    "## Compare the General Model's Performance on Boston Celtics specifically vs. Model Trained on Boston Celtics Data Alone"
   ]
  },
  {
   "cell_type": "code",
   "execution_count": 4,
   "id": "b0d8c660-a080-4c6c-93e1-2ceef6976107",
   "metadata": {},
   "outputs": [],
   "source": [
    "import numpy as np\n",
    "import pandas as pd\n",
    "import scipy.stats as stats\n",
    "import matplotlib.pyplot as plt"
   ]
  },
  {
   "cell_type": "code",
   "execution_count": 13,
   "id": "10a27503-8f7b-4c18-9032-72c4e046218f",
   "metadata": {},
   "outputs": [
    {
     "name": "stdout",
     "output_type": "stream",
     "text": [
      "--- General Model Descriptive Statistics ---\n",
      "Mean: 2.24, Median: 1.74, Std Dev: 9.30, Range: (-30.10, 43.08)\n",
      "\n",
      "--- Celtics-Specific Model Descriptive Statistics ---\n",
      "Mean: 12.53, Median: 11.17, Std Dev: 23.77, Range: (-53.60, 62.11)\n",
      "\n",
      "--- Unpaired t-test ---\n",
      "t-statistic: -3.45, p-value: 0.0010\n"
     ]
    }
   ],
   "source": [
    "bos_general = pd.read_csv('gen_model_boston_celtics_eval.csv')\n",
    "bos_specific = pd.read_csv('boston_celtics_model_eval.csv')\n",
    "\n",
    "# Calculate the difference between Actual PTS and Predicted PTS\n",
    "bos_general['Point Diff'] = bos_general['Actual PTS'] - bos_general['Predicted PTS']\n",
    "bos_specific['Point Diff'] = bos_specific['Actual PTS'] - bos_specific['Predicted PTS']\n",
    "\n",
    "# Descriptive Statistics for Point Differences\n",
    "gen_mean = bos_general['Point Diff'].mean()\n",
    "gen_median = bos_general['Point Diff'].median()\n",
    "gen_std = bos_general['Point Diff'].std()\n",
    "gen_min = bos_general['Point Diff'].min()\n",
    "gen_max = bos_general['Point Diff'].max()\n",
    "\n",
    "bos_mean = bos_specific['Point Diff'].mean()\n",
    "bos_median = bos_specific['Point Diff'].median()\n",
    "bos_std = bos_specific['Point Diff'].std()\n",
    "bos_min = bos_specific['Point Diff'].min()\n",
    "bos_max = bos_specific['Point Diff'].max()\n",
    "\n",
    "print(\"--- General Model Descriptive Statistics ---\")\n",
    "print(f\"Mean: {gen_mean:.2f}, Median: {gen_median:.2f}, Std Dev: {gen_std:.2f}, Range: ({gen_min:.2f}, {gen_max:.2f})\")\n",
    "print(\"\\n--- Celtics-Specific Model Descriptive Statistics ---\")\n",
    "print(f\"Mean: {bos_mean:.2f}, Median: {bos_median:.2f}, Std Dev: {bos_std:.2f}, Range: ({bos_min:.2f}, {bos_max:.2f})\")\n",
    "\n",
    "# Unpaired t-test\n",
    "t_stat, p_value = stats.ttest_ind(bos_general['Point Diff'], bos_specific['Point Diff'], equal_var=False)\n",
    "\n",
    "print(\"\\n--- Unpaired t-test ---\")\n",
    "print(f\"t-statistic: {t_stat:.2f}, p-value: {p_value:.4f}\")\n"
   ]
  },
  {
   "cell_type": "markdown",
   "id": "9e7258d4-0f04-4363-9a48-5d579180025c",
   "metadata": {},
   "source": [
    "### Comparison of General Model vs. Celtics-Specific Model Performance\n",
    "\n",
    "#### Descriptive Statistics for Point Differences\n",
    "- **General Model**\n",
    "  - Mean Difference: 2.24\n",
    "  - Median Difference: 1.74\n",
    "  - Standard Deviation: 9.30\n",
    "  - Range: (-30.10, 43.08)\n",
    "\n",
    "- **Celtics-Specific Model**\n",
    "  - Mean Difference: 12.53\n",
    "  - Median Difference: 11.17\n",
    "  - Standard Deviation: 23.77\n",
    "  - Range: (-53.60, 62.11)\n",
    "\n",
    "#### Hypothesis Testing: Unpaired t-test\n",
    "- **t-statistic:** -3.45  \n",
    "- **p-value:** 0.0010  \n",
    "\n",
    "#### Conclusion\n",
    "- The p-value (0.0010) is less than the significance level of 0.05, indicating a statistically significant difference between the two models.\n",
    "- The **general model** has a much smaller mean point difference (2.24 vs. 12.53) and lower variability (std dev: 9.30 vs. 23.77) compared to the Celtics-specific model.\n",
    "- This suggests that the general model performs significantly better than the Celtics-specific model on Boston Celtics data.\n"
   ]
  }
 ],
 "metadata": {
  "kernelspec": {
   "display_name": "Python (venv)",
   "language": "python",
   "name": "venv"
  },
  "language_info": {
   "codemirror_mode": {
    "name": "ipython",
    "version": 3
   },
   "file_extension": ".py",
   "mimetype": "text/x-python",
   "name": "python",
   "nbconvert_exporter": "python",
   "pygments_lexer": "ipython3",
   "version": "3.12.2"
  }
 },
 "nbformat": 4,
 "nbformat_minor": 5
}

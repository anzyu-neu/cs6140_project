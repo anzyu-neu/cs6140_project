{
 "cells": [
  {
   "cell_type": "code",
   "execution_count": 2,
   "id": "048492b7-d506-43d0-acff-6c317d36fef4",
   "metadata": {},
   "outputs": [],
   "source": [
    "import pandas as pd"
   ]
  },
  {
   "cell_type": "code",
   "execution_count": 3,
   "id": "ede0d3f1-d5ea-4a84-a67c-9f92966d8009",
   "metadata": {},
   "outputs": [],
   "source": [
    "# Load the dataset\n",
    "df = pd.read_csv(\"2024-2025_odds.csv\")\n",
    "\n",
    "# Create a unique identifier by sorting teams alphabetically\n",
    "df['GameID'] = df.apply(\n",
    "    lambda row: f\"{row['Date']}_{'_'.join(sorted([row['Away'], row['Home']]))}\",\n",
    "    axis=1\n",
    ")\n",
    "\n",
    "# Remove duplicates based on the identifier\n",
    "df = df.drop_duplicates(subset='GameID')\n",
    "\n",
    "# Save the cleaned dataset\n",
    "df.to_csv(\"2024-25_odds_cleaned.csv\", index=False)\n",
    "\n",
    "# cleaned properly\n"
   ]
  }
 ],
 "metadata": {
  "kernelspec": {
   "display_name": "Python (venv)",
   "language": "python",
   "name": "venv"
  },
  "language_info": {
   "codemirror_mode": {
    "name": "ipython",
    "version": 3
   },
   "file_extension": ".py",
   "mimetype": "text/x-python",
   "name": "python",
   "nbconvert_exporter": "python",
   "pygments_lexer": "ipython3",
   "version": "3.12.6"
  }
 },
 "nbformat": 4,
 "nbformat_minor": 5
}

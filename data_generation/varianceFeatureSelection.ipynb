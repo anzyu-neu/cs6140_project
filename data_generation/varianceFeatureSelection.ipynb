{
 "cells": [
  {
   "cell_type": "markdown",
   "source": [
    "### Feature Variance (from referee_data) ###"
   ],
   "metadata": {
    "collapsed": false,
    "pycharm": {
     "name": "#%% md\n"
    }
   }
  },
  {
   "cell_type": "code",
   "execution_count": 103,
   "outputs": [],
   "source": [
    "from pathlib import Path\n",
    "\n",
    "import pandas\n",
    "import pandas as pd\n",
    "\n",
    "data_path = \"output_data\"\n",
    "all_paths = Path(data_path).glob(\"*.csv\")\n",
    "seasons_data = [pd.read_csv(path) for path in all_paths]\n",
    "season_data = pd.concat(seasons_data, axis=0, ignore_index=True)"
   ],
   "metadata": {
    "collapsed": false,
    "pycharm": {
     "name": "#%%\n"
    }
   }
  },
  {
   "cell_type": "code",
   "execution_count": 104,
   "outputs": [
    {
     "data": {
      "text/plain": "   STAR_PLAYER_PRESENT  seconds_my_player_1  speed_my_player_1  \\\n0                    0               2136.0               4.04   \n1                    1               1968.0               4.57   \n2                    1               2292.0               4.44   \n3                    1               2317.0               3.85   \n4                    1               2185.0               4.35   \n\n   distance_my_player_1  reboundChancesOffensive_my_player_1  \\\n0                  2.57                                  7.0   \n1                  2.66                                  2.0   \n2                  3.02                                  2.0   \n3                  2.66                                  0.0   \n4                  2.82                                  3.0   \n\n   reboundChancesTotal_my_player_1  touches_my_player_1  \\\n0                             13.0                 83.0   \n1                             10.0                 75.0   \n2                              3.0                 73.0   \n3                             14.0                 72.0   \n4                             11.0                 85.0   \n\n   secondaryAssists_my_player_1  freeThrowAssists_my_player_1  \\\n0                           1.0                           0.0   \n1                           2.0                           0.0   \n2                           2.0                           0.0   \n3                           1.0                           1.0   \n4                           0.0                           0.0   \n\n   passes_my_player_1  ...  PTS  CLOSE  WON  WIN_PCT  CLOSE_WIN_PCT  \\\n0                52.0  ...  109      0    0      0.0            0.0   \n1                45.0  ...  123      0    1      0.0            0.0   \n2                51.0  ...  117      0    0      0.0            0.0   \n3                43.0  ...  126      0    1      0.0            0.0   \n4                63.0  ...  116      0    1      0.0            0.0   \n\n   IS_BACK_TO_BACK  REST_DAYS     DISTANCE  RECENT_WIN_PCT  OPPONENT_WIN_PCT  \n0                0         50   347.274305             0.0               0.0  \n1                0         50     0.000000             0.0               0.0  \n2                0         50   270.993314             0.0               0.0  \n3                0         50     0.000000             0.0               0.0  \n4                0         50  1189.132129             0.0               0.0  \n\n[5 rows x 292 columns]",
      "text/html": "<div>\n<style scoped>\n    .dataframe tbody tr th:only-of-type {\n        vertical-align: middle;\n    }\n\n    .dataframe tbody tr th {\n        vertical-align: top;\n    }\n\n    .dataframe thead th {\n        text-align: right;\n    }\n</style>\n<table border=\"1\" class=\"dataframe\">\n  <thead>\n    <tr style=\"text-align: right;\">\n      <th></th>\n      <th>STAR_PLAYER_PRESENT</th>\n      <th>seconds_my_player_1</th>\n      <th>speed_my_player_1</th>\n      <th>distance_my_player_1</th>\n      <th>reboundChancesOffensive_my_player_1</th>\n      <th>reboundChancesTotal_my_player_1</th>\n      <th>touches_my_player_1</th>\n      <th>secondaryAssists_my_player_1</th>\n      <th>freeThrowAssists_my_player_1</th>\n      <th>passes_my_player_1</th>\n      <th>...</th>\n      <th>PTS</th>\n      <th>CLOSE</th>\n      <th>WON</th>\n      <th>WIN_PCT</th>\n      <th>CLOSE_WIN_PCT</th>\n      <th>IS_BACK_TO_BACK</th>\n      <th>REST_DAYS</th>\n      <th>DISTANCE</th>\n      <th>RECENT_WIN_PCT</th>\n      <th>OPPONENT_WIN_PCT</th>\n    </tr>\n  </thead>\n  <tbody>\n    <tr>\n      <th>0</th>\n      <td>0</td>\n      <td>2136.0</td>\n      <td>4.04</td>\n      <td>2.57</td>\n      <td>7.0</td>\n      <td>13.0</td>\n      <td>83.0</td>\n      <td>1.0</td>\n      <td>0.0</td>\n      <td>52.0</td>\n      <td>...</td>\n      <td>109</td>\n      <td>0</td>\n      <td>0</td>\n      <td>0.0</td>\n      <td>0.0</td>\n      <td>0</td>\n      <td>50</td>\n      <td>347.274305</td>\n      <td>0.0</td>\n      <td>0.0</td>\n    </tr>\n    <tr>\n      <th>1</th>\n      <td>1</td>\n      <td>1968.0</td>\n      <td>4.57</td>\n      <td>2.66</td>\n      <td>2.0</td>\n      <td>10.0</td>\n      <td>75.0</td>\n      <td>2.0</td>\n      <td>0.0</td>\n      <td>45.0</td>\n      <td>...</td>\n      <td>123</td>\n      <td>0</td>\n      <td>1</td>\n      <td>0.0</td>\n      <td>0.0</td>\n      <td>0</td>\n      <td>50</td>\n      <td>0.000000</td>\n      <td>0.0</td>\n      <td>0.0</td>\n    </tr>\n    <tr>\n      <th>2</th>\n      <td>1</td>\n      <td>2292.0</td>\n      <td>4.44</td>\n      <td>3.02</td>\n      <td>2.0</td>\n      <td>3.0</td>\n      <td>73.0</td>\n      <td>2.0</td>\n      <td>0.0</td>\n      <td>51.0</td>\n      <td>...</td>\n      <td>117</td>\n      <td>0</td>\n      <td>0</td>\n      <td>0.0</td>\n      <td>0.0</td>\n      <td>0</td>\n      <td>50</td>\n      <td>270.993314</td>\n      <td>0.0</td>\n      <td>0.0</td>\n    </tr>\n    <tr>\n      <th>3</th>\n      <td>1</td>\n      <td>2317.0</td>\n      <td>3.85</td>\n      <td>2.66</td>\n      <td>0.0</td>\n      <td>14.0</td>\n      <td>72.0</td>\n      <td>1.0</td>\n      <td>1.0</td>\n      <td>43.0</td>\n      <td>...</td>\n      <td>126</td>\n      <td>0</td>\n      <td>1</td>\n      <td>0.0</td>\n      <td>0.0</td>\n      <td>0</td>\n      <td>50</td>\n      <td>0.000000</td>\n      <td>0.0</td>\n      <td>0.0</td>\n    </tr>\n    <tr>\n      <th>4</th>\n      <td>1</td>\n      <td>2185.0</td>\n      <td>4.35</td>\n      <td>2.82</td>\n      <td>3.0</td>\n      <td>11.0</td>\n      <td>85.0</td>\n      <td>0.0</td>\n      <td>0.0</td>\n      <td>63.0</td>\n      <td>...</td>\n      <td>116</td>\n      <td>0</td>\n      <td>1</td>\n      <td>0.0</td>\n      <td>0.0</td>\n      <td>0</td>\n      <td>50</td>\n      <td>1189.132129</td>\n      <td>0.0</td>\n      <td>0.0</td>\n    </tr>\n  </tbody>\n</table>\n<p>5 rows × 292 columns</p>\n</div>"
     },
     "execution_count": 104,
     "metadata": {},
     "output_type": "execute_result"
    }
   ],
   "source": [
    "season_data.head()"
   ],
   "metadata": {
    "collapsed": false,
    "pycharm": {
     "name": "#%%\n"
    }
   }
  },
  {
   "cell_type": "code",
   "execution_count": 105,
   "outputs": [
    {
     "data": {
      "text/plain": "speed_my_player_1                                    0.036029\ndistance_my_player_1                                 0.051303\nuncontestedFieldGoalsPercentage_my_player_1          0.075040\nfieldGoalPercentage_my_player_1                      0.039374\nspeed_my_player_2                                    0.036440\ndistance_my_player_2                                 0.050602\nuncontestedFieldGoalsPercentage_my_player_2          0.090459\nfieldGoalPercentage_my_player_2                      0.045674\nspeed_my_player_3                                    0.035622\ndistance_my_player_3                                 0.049858\nfieldGoalPercentage_my_player_3                      0.056262\nspeed_my_player_4                                    0.036221\ndistance_my_player_4                                 0.048991\nfieldGoalPercentage_my_player_4                      0.068407\nspeed_my_player_5                                    0.035547\ndistance_my_player_5                                 0.044874\nfieldGoalPercentage_my_player_5                      0.084047\nspeed_my_player_6                                    0.035888\ndistance_my_player_6                                 0.041644\nspeed_my_player_7                                    0.039840\ndistance_my_player_7                                 0.045032\nspeed_opposing_player_1                              0.036029\ndistance_opposing_player_1                           0.051303\nuncontestedFieldGoalsPercentage_opposing_player_1    0.075040\nfieldGoalPercentage_opposing_player_1                0.039374\nspeed_opposing_player_2                              0.036440\ndistance_opposing_player_2                           0.050602\nuncontestedFieldGoalsPercentage_opposing_player_2    0.090459\nfieldGoalPercentage_opposing_player_2                0.045674\nspeed_opposing_player_3                              0.035622\ndistance_opposing_player_3                           0.049858\nfieldGoalPercentage_opposing_player_3                0.056262\nspeed_opposing_player_4                              0.036221\ndistance_opposing_player_4                           0.048991\nfieldGoalPercentage_opposing_player_4                0.068407\nspeed_opposing_player_5                              0.035547\ndistance_opposing_player_5                           0.044874\nfieldGoalPercentage_opposing_player_5                0.084047\nspeed_opposing_player_6                              0.035888\ndistance_opposing_player_6                           0.041644\nspeed_opposing_player_7                              0.039840\ndistance_opposing_player_7                           0.045032\nWIN_PCT                                              0.066703\nCLOSE_WIN_PCT                                        0.093398\ndtype: float64"
     },
     "execution_count": 105,
     "metadata": {},
     "output_type": "execute_result"
    }
   ],
   "source": [
    "######## Variance calculation #########\n",
    "variance_data = season_data.var(axis=0)\n",
    "# Put variance in terms of ratio to the mean, so we can (somewhat) normalize in respect to the range of the data\n",
    "normalized_variance = variance_data/season_data.mean(axis=0)\n",
    "# Single out features that have a variance to mean ratio smaller than threshold\n",
    "threshold = 0.1\n",
    "normalized_variance[normalized_variance < threshold]"
   ],
   "metadata": {
    "collapsed": false,
    "pycharm": {
     "name": "#%%\n"
    }
   }
  },
  {
   "cell_type": "markdown",
   "source": [
    "The above are all features whose variance  is very small compared to their mean. This does not mean the features are not impactful (RECENT_WIN_PCT, unconstedFieldGoalsPercentage, and others are percentages, so they will not have a large variance since those features can only vary between 0 and 1).\n",
    "\n",
    "There's two main feature groups here, player stats that don't include a lot of variance (speed and distance first and foremost), next group are the features who are percentages and as such will always have a relatively low variance and will need other metrics to determine if they are good features.\n",
    "\n",
    "We should investigate further to see if speed and distance are meaningful features to include as training data to our model."
   ],
   "metadata": {
    "collapsed": false,
    "pycharm": {
     "name": "#%% md\n"
    }
   }
  }
 ],
 "metadata": {
  "kernelspec": {
   "display_name": "Python 3",
   "language": "python",
   "name": "python3"
  },
  "language_info": {
   "codemirror_mode": {
    "name": "ipython",
    "version": 2
   },
   "file_extension": ".py",
   "mimetype": "text/x-python",
   "name": "python",
   "nbconvert_exporter": "python",
   "pygments_lexer": "ipython2",
   "version": "2.7.6"
  }
 },
 "nbformat": 4,
 "nbformat_minor": 0
}
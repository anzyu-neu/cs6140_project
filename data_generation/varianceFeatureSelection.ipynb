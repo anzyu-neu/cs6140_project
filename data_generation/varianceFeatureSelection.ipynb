{
 "cells": [
  {
   "cell_type": "markdown",
   "source": [
    "### Feature Variance (from referee_data) ###"
   ],
   "metadata": {
    "collapsed": false,
    "pycharm": {
     "name": "#%% md\n"
    }
   }
  },
  {
   "cell_type": "code",
   "execution_count": 81,
   "outputs": [],
   "source": [
    "from pathlib import Path\n",
    "\n",
    "import pandas\n",
    "import pandas as pd\n",
    "\n",
    "data_path = \"output_data\"\n",
    "all_paths = Path(data_path).glob(\"*.csv\")\n",
    "seasons_data = [pd.read_csv(path) for path in all_paths]\n",
    "season_data = pd.concat(seasons_data, axis=0, ignore_index=True)"
   ],
   "metadata": {
    "collapsed": false,
    "pycharm": {
     "name": "#%%\n"
    }
   }
  },
  {
   "cell_type": "code",
   "execution_count": 96,
   "outputs": [
    {
     "data": {
      "text/plain": "speed_my_player_1                                    2.740906e-02\ndistance_my_player_1                                 4.091345e-02\nuncontestedFieldGoalsPercentage_my_player_1          7.541710e-02\nfieldGoalPercentage_my_player_1                      3.882686e-02\nspeed_my_player_2                                    3.020490e-02\ndistance_my_player_2                                 4.179567e-02\nuncontestedFieldGoalsPercentage_my_player_2          8.572352e-02\nfieldGoalPercentage_my_player_2                      4.411300e-02\nspeed_my_player_3                                    2.808757e-02\ndistance_my_player_3                                 4.155916e-02\nfieldGoalPercentage_my_player_3                      5.734285e-02\nspeed_my_player_4                                    2.723678e-02\ndistance_my_player_4                                 4.109867e-02\nfieldGoalPercentage_my_player_4                      6.516091e-02\nspeed_my_player_5                                    2.686597e-02\ndistance_my_player_5                                 3.912014e-02\nfieldGoalPercentage_my_player_5                      8.176117e-02\nspeed_my_player_6                                    2.584334e-02\ndistance_my_player_6                                 3.621561e-02\nfieldGoalPercentage_my_player_6                      9.867988e-02\nspeed_my_player_7                                    2.848302e-02\ndistance_my_player_7                                 4.207856e-02\nspeed_opposing_player_1                              2.740906e-02\ndistance_opposing_player_1                           4.091345e-02\nuncontestedFieldGoalsPercentage_opposing_player_1    7.541710e-02\nfieldGoalPercentage_opposing_player_1                3.882686e-02\nspeed_opposing_player_2                              3.020490e-02\ndistance_opposing_player_2                           4.179567e-02\nuncontestedFieldGoalsPercentage_opposing_player_2    8.572352e-02\nfieldGoalPercentage_opposing_player_2                4.411300e-02\nspeed_opposing_player_3                              2.808757e-02\ndistance_opposing_player_3                           4.155916e-02\nfieldGoalPercentage_opposing_player_3                5.734285e-02\nspeed_opposing_player_4                              2.723678e-02\ndistance_opposing_player_4                           4.109867e-02\nfieldGoalPercentage_opposing_player_4                6.516091e-02\nspeed_opposing_player_5                              2.686597e-02\ndistance_opposing_player_5                           3.912014e-02\nfieldGoalPercentage_opposing_player_5                8.176117e-02\nspeed_opposing_player_6                              2.584334e-02\ndistance_opposing_player_6                           3.621561e-02\nfieldGoalPercentage_opposing_player_6                9.867988e-02\nspeed_opposing_player_7                              2.848302e-02\ndistance_opposing_player_7                           4.207856e-02\nTEAM_ID                                              4.653330e-08\nGAME_LOCATION                                        4.653330e-08\nWIN_PCT                                              5.652869e-02\nCLOSE_WIN_PCT                                        8.467453e-02\nRECENT_WIN_PCT                                       5.652869e-02\nOPPONENT_WIN_PCT                                     5.652869e-02\ndtype: float64"
     },
     "execution_count": 96,
     "metadata": {},
     "output_type": "execute_result"
    }
   ],
   "source": [
    "######## Variance calculation #########\n",
    "variance_data = season_data.var(axis=0)\n",
    "# Put variance in terms of ratio to the mean.\n",
    "normalized_variance = variance_data/season_data.mean(axis=0)\n",
    "# Single out features that have a variance to mean ratio smaller than threshold\n",
    "threshold = 0.1\n",
    "normalized_variance[normalized_variance < threshold]"
   ],
   "metadata": {
    "collapsed": false,
    "pycharm": {
     "name": "#%%\n"
    }
   }
  },
  {
   "cell_type": "markdown",
   "source": [
    "The above are all features whose variance  is very small compared to their mean. This does not mean the features are not impactful (RECENT_WIN_PCT, unconstedFieldGoalsPercentage, and others are percentages, so they will not have a large variance since those features can only vary between 0 and 1).\n",
    "\n",
    "There's two main feature groups here, player stats that don't include a lot of variance (speed and distance first and foremost), next group are the features who are percentages and as such will always have a relatively low variance and will need other metrics to determine if they are good features.\n",
    "\n",
    "We should investigate further to see if speed and distance are meaningful features to include as training data to our model."
   ],
   "metadata": {
    "collapsed": false,
    "pycharm": {
     "name": "#%% md\n"
    }
   }
  }
 ],
 "metadata": {
  "kernelspec": {
   "display_name": "Python 3",
   "language": "python",
   "name": "python3"
  },
  "language_info": {
   "codemirror_mode": {
    "name": "ipython",
    "version": 2
   },
   "file_extension": ".py",
   "mimetype": "text/x-python",
   "name": "python",
   "nbconvert_exporter": "python",
   "pygments_lexer": "ipython2",
   "version": "2.7.6"
  }
 },
 "nbformat": 4,
 "nbformat_minor": 0
}
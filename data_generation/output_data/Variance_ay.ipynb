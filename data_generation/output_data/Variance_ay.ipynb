{
 "cells": [
  {
   "cell_type": "markdown",
   "id": "080c2b1c-8209-46a5-a16f-73b86832d725",
   "metadata": {},
   "source": [
    "# Variance Threshold"
   ]
  },
  {
   "cell_type": "code",
   "execution_count": 18,
   "id": "ebc5b426-828a-4c68-b6bb-176c90775f91",
   "metadata": {},
   "outputs": [],
   "source": [
    "import pandas as pd\n",
    "from sklearn.feature_selection import VarianceThreshold\n",
    "\n",
    "# read in files\n",
    "season_22 = pd.read_csv('2022-23_data.csv')\n",
    "season_23 = pd.read_csv('2023-24_data.csv')\n",
    "\n",
    "# Remove non-numeric\n",
    "# Drop non-numeric columns\n",
    "numeric_22 = season_22.select_dtypes(include='number')\n",
    "numeric_23 = season_23.select_dtypes(include='number')\n",
    "\n",
    "# Instantiate the VarianceThreshold object with a threshold value \n",
    "threshold = 0.1 \n",
    "selector_22 = VarianceThreshold(threshold)\n",
    "selector_23 = VarianceThreshold(threshold)\n",
    "\n",
    "# Fit selector to 2022-23 season\n",
    "selector_22.fit(numeric_22)\n",
    "\n",
    "# Get the indices of features with high variance \n",
    "high_variance_indices_22 = selector_22.get_support(indices=True)\n",
    "\n",
    "# Subset data with selected features\n",
    "selected_22 = numeric_22.iloc[:, high_variance_indices_22]\n",
    "\n",
    "# Fit selector to 2023-24 season\n",
    "selector_23.fit(numeric_23)\n",
    "high_variance_indices_23 = selector_23.get_support(indices=True)\n",
    "selected_23 = numeric_22.iloc[:, high_variance_indices_23]\n",
    "\n",
    "# selected_22.head()\n",
    "# selected_23.head()\n"
   ]
  },
  {
   "cell_type": "markdown",
   "id": "95120b1f-6ea5-4b3d-8727-b059f7c21280",
   "metadata": {},
   "source": [
    "## Consolidating Spearman with Variance"
   ]
  },
  {
   "cell_type": "code",
   "execution_count": 33,
   "id": "0ee2fdb9-3996-49b0-a8fa-4a239aedd283",
   "metadata": {},
   "outputs": [
    {
     "name": "stdout",
     "output_type": "stream",
     "text": [
      "220\n",
      "Number of features after combining methods: 23\n",
      "{'uncontestedFieldGoalsMade_my_player_2', 'uncontestedFieldGoalsMade_my_player_1', 'reboundChancesTotal_my_player_5', 'reboundChancesOffensive_my_player_1', 'uncontestedFieldGoalsMade_my_player_6', 'reboundChancesTotal_opposing_player_7', 'assists_opposing_player_1', 'secondaryAssists_opposing_player_7', 'uncontestedFieldGoalsMade_my_player_3', 'REST_DAYS', 'uncontestedFieldGoalsMade_my_player_4', 'secondaryAssists_opposing_player_3', 'assists_my_player_1', 'reboundChancesTotal_opposing_player_4', 'reboundChancesTotal_opposing_player_1', 'reboundChancesOffensive_my_player_2', 'reboundChancesTotal_opposing_player_2', 'reboundChancesTotal_opposing_player_5', 'reboundChancesTotal_opposing_player_3', 'secondaryAssists_opposing_player_2', 'REF_BIAS', 'reboundChancesTotal_opposing_player_6', 'reboundChancesOffensive_my_player_5'}\n"
     ]
    }
   ],
   "source": [
    "spearman_corr = pd.read_csv('spearman_corr_features.csv')\n",
    "\n",
    "# print(spearman_corr.count())\n",
    "\n",
    "variance_features_22 = set(selected_22.columns)\n",
    "variance_features_23 = set(selected_23.columns)\n",
    "variance_combined = variance_features_22.intersection(variance_features_23)\n",
    "\n",
    "print(len(variance_combined)) # 220 \n",
    "\n",
    "spearman_features = set(spearman_corr['Feature'])\n",
    "\n",
    "final_features = variance_combined.intersection(spearman_features)\n",
    "\n",
    "print(f\"Number of features after combining methods: {len(final_features)}\")\n",
    "print(final_features)"
   ]
  },
  {
   "cell_type": "code",
   "execution_count": null,
   "id": "a9876c66-c697-48c6-9b03-e6e35256f0f1",
   "metadata": {},
   "outputs": [],
   "source": []
  }
 ],
 "metadata": {
  "kernelspec": {
   "display_name": "Python (venv)",
   "language": "python",
   "name": "venv"
  },
  "language_info": {
   "codemirror_mode": {
    "name": "ipython",
    "version": 3
   },
   "file_extension": ".py",
   "mimetype": "text/x-python",
   "name": "python",
   "nbconvert_exporter": "python",
   "pygments_lexer": "ipython3",
   "version": "3.12.2"
  }
 },
 "nbformat": 4,
 "nbformat_minor": 5
}
